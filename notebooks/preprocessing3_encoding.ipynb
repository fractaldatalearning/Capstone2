{
 "cells": [
  {
   "cell_type": "markdown",
   "id": "81427551",
   "metadata": {},
   "source": [
    "This is the final preprocessing notebook before modeling. Here, I'll start with trying out models' performances given various variable encoding strategies. I need to explore the possibility of feature reduction; I created multiple features in the previous notebook but am not yet sure if they'll be valuable in making predictions. Finally, it will be helpful to balance the data because currently the target variable 'reordered' is very unbalanced. I can begin to explore various models in the process of all this. \n",
    "\n",
    "Notebook on which this one builds: https://github.com/fractaldatalearning/Capstone2/blob/main/notebooks/preprocessing2_feature_engineering.ipynb\n",
    "\n",
    "One thing to look out for in this notebook: If I'm modeling and the computer is doing fine processing the dataset at this size, I could go back to the notebook for preprocessing1, add more rows to further increments of the full original dataset, concatenate them, re-run all the feature engineering steps with the larger dataset, and come back here to try out modeling with more rows (from twice as many, perhaps up to 10 times as many)."
   ]
  },
  {
   "cell_type": "code",
   "execution_count": 4,
   "id": "9ff6ff73",
   "metadata": {},
   "outputs": [],
   "source": [
    "import pandas as pd\n",
    "import numpy as np\n",
    "import os\n",
    "from library.sb_utils import save_file\n",
    "\n",
    "import matplotlib.pyplot as plt\n",
    "import seaborn as sns\n",
    "\n",
    "from sklearn.decomposition import PCA\n",
    "from sklearn.preprocessing import scale\n",
    "\n",
    "import random\n",
    "import collections\n",
    "\n",
    "from IPython.display import Audio\n",
    "sound_file = './alert.wav'"
   ]
  },
  {
   "cell_type": "code",
   "execution_count": 3,
   "id": "fd07efc4",
   "metadata": {},
   "outputs": [
    {
     "name": "stdout",
     "output_type": "stream",
     "text": [
      "<class 'pandas.core.frame.DataFrame'>\n",
      "RangeIndex: 218232 entries, 0 to 218231\n",
      "Data columns (total 26 columns):\n",
      " #   Column                  Non-Null Count   Dtype  \n",
      "---  ------                  --------------   -----  \n",
      " 0   order_id                218232 non-null  int64  \n",
      " 1   user_id                 218232 non-null  int64  \n",
      " 2   order_by_user_sequence  218232 non-null  int64  \n",
      " 3   days_since_prior_order  218232 non-null  float64\n",
      " 4   add_to_cart_sequence    218232 non-null  int64  \n",
      " 5   reordered               218232 non-null  int64  \n",
      " 6   product_name            218232 non-null  object \n",
      " 7   aisle_name              218232 non-null  object \n",
      " 8   dept_name               218232 non-null  object \n",
      " 9   prior_purchases         218232 non-null  float64\n",
      " 10  free                    218232 non-null  int64  \n",
      " 11  fresh                   218232 non-null  int64  \n",
      " 12  mix                     218232 non-null  int64  \n",
      " 13  natural                 218232 non-null  int64  \n",
      " 14  organic                 218232 non-null  int64  \n",
      " 15  original                218232 non-null  int64  \n",
      " 16  sweet                   218232 non-null  int64  \n",
      " 17  white                   218232 non-null  int64  \n",
      " 18  whole                   218232 non-null  int64  \n",
      " 19  rice                    218232 non-null  int64  \n",
      " 20  fruit                   218232 non-null  int64  \n",
      " 21  gluten                  218232 non-null  int64  \n",
      " 22  dow_sin                 218232 non-null  float64\n",
      " 23  dow_cos                 218232 non-null  float64\n",
      " 24  hour_sin                218232 non-null  float64\n",
      " 25  hour_cos                218232 non-null  float64\n",
      "dtypes: float64(6), int64(17), object(3)\n",
      "memory usage: 43.3+ MB\n"
     ]
    }
   ],
   "source": [
    "df = pd.read_csv('../data/processed/features_engineered.csv')\n",
    "df.info()"
   ]
  }
 ],
 "metadata": {
  "kernelspec": {
   "display_name": "Python 3 (ipykernel)",
   "language": "python",
   "name": "python3"
  },
  "language_info": {
   "codemirror_mode": {
    "name": "ipython",
    "version": 3
   },
   "file_extension": ".py",
   "mimetype": "text/x-python",
   "name": "python",
   "nbconvert_exporter": "python",
   "pygments_lexer": "ipython3",
   "version": "3.9.12"
  }
 },
 "nbformat": 4,
 "nbformat_minor": 5
}
