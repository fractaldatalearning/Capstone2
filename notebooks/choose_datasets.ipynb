{
 "cells": [
  {
   "cell_type": "code",
   "execution_count": 21,
   "id": "1e51c6d6",
   "metadata": {},
   "outputs": [],
   "source": [
    "import pandas as pd\n",
    "from bs4 import BeautifulSoup\n",
    "import os\n",
    "from dotenv import load_dotenv\n",
    "import requests\n",
    "import json\n",
    "import numpy as np"
   ]
  },
  {
   "cell_type": "code",
   "execution_count": 25,
   "id": "406dd85f",
   "metadata": {},
   "outputs": [
    {
     "data": {
      "text/plain": [
       "{'XMR': {'BTC': 0.007582, 'USD': 145.6},\n",
       " 'XIN': {'BTC': 0.007927, 'USD': 152.26},\n",
       " 'MOB': {'BTC': 4.68e-05, 'USD': 0.897}}"
      ]
     },
     "execution_count": 25,
     "metadata": {},
     "output_type": "execute_result"
    }
   ],
   "source": [
    "# How to use the crypto compare API: https://www.cryptocompare.com/cryptopian/api-keys\n",
    "crypto_comare_key = 'e290d00caff03f9089b78ecd01ae9cf6e440ac97e1101f7a133b7b57d5927eb1'\n",
    "crypto_compare_url = 'https://min-api.cryptocompare.com/data/pricemulti?fsyms=XMR,XIN,MOB&tsyms=BTC,USD&api_key='\n",
    "my_cc_url = crypto_compare_url + crypto_comare_key\n",
    "r = requests.get(my_cc_url)\n",
    "cc_data = r.json()\n",
    "cc_data"
   ]
  },
  {
   "cell_type": "code",
   "execution_count": 24,
   "id": "8bae030c",
   "metadata": {},
   "outputs": [
    {
     "data": {
      "text/plain": [
       "{'XMR': {'BTC': 0.007582, 'USD': 145.59},\n",
       " 'XIN': {'BTC': 0.007925, 'USD': 152.26},\n",
       " 'MOB': {'BTC': 4.68e-05, 'USD': 0.897}}"
      ]
     },
     "execution_count": 24,
     "metadata": {},
     "output_type": "execute_result"
    }
   ],
   "source": []
  },
  {
   "cell_type": "code",
   "execution_count": null,
   "id": "77c0587d",
   "metadata": {},
   "outputs": [],
   "source": []
  },
  {
   "cell_type": "code",
   "execution_count": null,
   "id": "ae3ce2c9",
   "metadata": {},
   "outputs": [],
   "source": []
  }
 ],
 "metadata": {
  "kernelspec": {
   "display_name": "Python 3 (ipykernel)",
   "language": "python",
   "name": "python3"
  },
  "language_info": {
   "codemirror_mode": {
    "name": "ipython",
    "version": 3
   },
   "file_extension": ".py",
   "mimetype": "text/x-python",
   "name": "python",
   "nbconvert_exporter": "python",
   "pygments_lexer": "ipython3",
   "version": "3.9.12"
  }
 },
 "nbformat": 4,
 "nbformat_minor": 5
}
