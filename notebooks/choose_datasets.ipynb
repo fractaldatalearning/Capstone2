{
 "cells": [
  {
   "cell_type": "code",
   "execution_count": 46,
   "id": "1e51c6d6",
   "metadata": {},
   "outputs": [],
   "source": [
    "import os\n",
    "from dotenv import load_dotenv\n",
    "import requests\n",
    "import json\n",
    "import numpy as np\n",
    "import pandas as pd\n",
    "from bs4 import BeautifulSoup\n"
   ]
  },
  {
   "cell_type": "code",
   "execution_count": 49,
   "id": "406dd85f",
   "metadata": {},
   "outputs": [
    {
     "name": "stdout",
     "output_type": "stream",
     "text": [
      "None\n"
     ]
    }
   ],
   "source": [
    "# how to set up environment variables \n",
    "# https://youngstone89.medium.com/setting-up-environment-variables-in-mac-os-28e5941c771c\n",
    "# getting crypto compare api from .env file\n",
    "load_dotenv()\n",
    "cc_key = os.getenv('CRYPTO_COMPARE_API')\n",
    "\n",
    "print(cc_key)"
   ]
  },
  {
   "cell_type": "code",
   "execution_count": null,
   "id": "e4dfcd84",
   "metadata": {},
   "outputs": [],
   "source": [
    "# Why is this not working? \n",
    "# I'm doing everything exactly the same as when I did this for nasdaq"
   ]
  },
  {
   "cell_type": "code",
   "execution_count": 36,
   "id": "8bae030c",
   "metadata": {},
   "outputs": [
    {
     "ename": "TypeError",
     "evalue": "can only concatenate str (not \"NoneType\") to str",
     "output_type": "error",
     "traceback": [
      "\u001b[0;31m---------------------------------------------------------------------------\u001b[0m",
      "\u001b[0;31mTypeError\u001b[0m                                 Traceback (most recent call last)",
      "Input \u001b[0;32mIn [36]\u001b[0m, in \u001b[0;36m<cell line: 3>\u001b[0;34m()\u001b[0m\n\u001b[1;32m      1\u001b[0m \u001b[38;5;66;03m# How to use the crypto compare API: https://www.cryptocompare.com/cryptopian/api-keys\u001b[39;00m\n\u001b[1;32m      2\u001b[0m crypto_compare_url \u001b[38;5;241m=\u001b[39m \u001b[38;5;124m'\u001b[39m\u001b[38;5;124mhttps://min-api.cryptocompare.com/data/pricemulti?fsyms=XMR,XIN,MOB&tsyms=BTC,USD&api_key=\u001b[39m\u001b[38;5;124m'\u001b[39m\n\u001b[0;32m----> 3\u001b[0m my_cc_url \u001b[38;5;241m=\u001b[39m \u001b[43mcrypto_compare_url\u001b[49m\u001b[43m \u001b[49m\u001b[38;5;241;43m+\u001b[39;49m\u001b[43m \u001b[49m\u001b[43mcc_key\u001b[49m\n\u001b[1;32m      4\u001b[0m r \u001b[38;5;241m=\u001b[39m requests\u001b[38;5;241m.\u001b[39mget(my_cc_url)\n\u001b[1;32m      5\u001b[0m cc_data \u001b[38;5;241m=\u001b[39m r\u001b[38;5;241m.\u001b[39mjson()\n",
      "\u001b[0;31mTypeError\u001b[0m: can only concatenate str (not \"NoneType\") to str"
     ]
    }
   ],
   "source": [
    "# How to use the crypto compare API: https://www.cryptocompare.com/cryptopian/api-keys\n",
    "crypto_compare_url = 'https://min-api.cryptocompare.com/data/pricemulti?fsyms=XMR,XIN,MOB&tsyms=BTC,USD&api_key='\n",
    "my_cc_url = crypto_compare_url + cc_key\n",
    "r = requests.get(my_cc_url)\n",
    "cc_data = r.json()\n",
    "cc_data"
   ]
  },
  {
   "cell_type": "code",
   "execution_count": null,
   "id": "77c0587d",
   "metadata": {},
   "outputs": [],
   "source": []
  },
  {
   "cell_type": "code",
   "execution_count": null,
   "id": "ae3ce2c9",
   "metadata": {},
   "outputs": [],
   "source": []
  }
 ],
 "metadata": {
  "kernelspec": {
   "display_name": "Python 3 (ipykernel)",
   "language": "python",
   "name": "python3"
  },
  "language_info": {
   "codemirror_mode": {
    "name": "ipython",
    "version": 3
   },
   "file_extension": ".py",
   "mimetype": "text/x-python",
   "name": "python",
   "nbconvert_exporter": "python",
   "pygments_lexer": "ipython3",
   "version": "3.9.12"
  }
 },
 "nbformat": 4,
 "nbformat_minor": 5
}
