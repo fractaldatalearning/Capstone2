{
 "cells": [
  {
   "cell_type": "code",
   "execution_count": null,
   "id": "92a018d2",
   "metadata": {},
   "outputs": [],
   "source": [
    "# From a really helpful article on encoder selection:\n",
    "# https://towardsdatascience.com/an-easier-way-to-encode-categorical-features-d840ff6b3900"
   ]
  },
  {
   "cell_type": "code",
   "execution_count": null,
   "id": "d6898d57",
   "metadata": {},
   "outputs": [],
   "source": [
    "from sklearn import preprocessing\n",
    "from sklearn.model_selection import train_test_split\n",
    "from sklearn.pipeline import Pipeline\n",
    "from sklearn.ensemble import RandomForestClassifier\n",
    "from sklearn.impute import SimpleImputer\n",
    "from sklearn.preprocessing import StandardScaler\n",
    "from sklearn.compose import ColumnTransformer\n",
    "from sklearn.metrics import f1_score\n",
    "import category_encoders as ce"
   ]
  },
  {
   "cell_type": "code",
   "execution_count": null,
   "id": "3ef15ccb",
   "metadata": {},
   "outputs": [],
   "source": [
    "X = df4models.drop('reordered', axis=1)\n",
    "y = df4models['reordered']\n",
    "\n",
    "numeric_features = list(df4models.select_dtypes(include=[\n",
    "    'int64', 'float64']).drop(['reordered'], axis=1).columns)\n",
    "\n",
    "categorical_features = list(df4models.select_dtypes(include=[\n",
    "    'object']).columns)\n",
    "\n",
    "le = preprocessing.LabelEncoder()\n",
    "label_encoder = le.fit(y)\n",
    "y = label_encoder.transform(y)\n",
    "\n",
    "X_train, X_test, y_train, y_test = train_test_split(X, y, \n",
    "                                                    test_size=0.2)"
   ]
  },
  {
   "cell_type": "code",
   "execution_count": null,
   "id": "890b2afb",
   "metadata": {},
   "outputs": [],
   "source": [
    "encoder_list = [ce.backward_difference.BackwardDifferenceEncoder, \n",
    "               ce.basen.BaseNEncoder,\n",
    "               ce.binary.BinaryEncoder,\n",
    "                ce.cat_boost.CatBoostEncoder,\n",
    "                ce.hashing.HashingEncoder,\n",
    "                ce.helmert.HelmertEncoder,\n",
    "                ce.james_stein.JamesSteinEncoder,\n",
    "                ce.one_hot.OneHotEncoder,\n",
    "                ce.leave_one_out.LeaveOneOutEncoder,\n",
    "                ce.m_estimate.MEstimateEncoder,\n",
    "                ce.ordinal.OrdinalEncoder,\n",
    "                ce.polynomial.PolynomialEncoder,\n",
    "                ce.sum_coding.SumEncoder,\n",
    "                ce.target_encoder.TargetEncoder,\n",
    "                ce.woe.WOEEncoder]\n",
    "\n",
    "for encoder in encoder_list:\n",
    "    \n",
    "    numeric_transformer = Pipeline(steps=[('scaler', \n",
    "                                            StandardScaler())])\n",
    "    categorical_transformer = Pipeline(steps=[('woe', encoder())])\n",
    "    \n",
    "    preprocessor = ColumnTransformer(transformers=[(\n",
    "        'num', numeric_transformer, numeric_features),(\n",
    "        'cat', categorical_transformer, categorical_features)])\n",
    "    \n",
    "    pipe = Pipeline(steps=[('preprocessor', preprocessor),(\n",
    "        'classifier', RandomForestClassifier(n_estimators=500))])\n",
    "    \n",
    "    model = pipe.fit(X_train, y_train)\n",
    "    \n",
    "    y_pred = model.predict(X_test)\n",
    "    print(encoder)\n",
    "    print(f1_score(y_test, y_pred, average='macro'))"
   ]
  }
 ],
 "metadata": {
  "kernelspec": {
   "display_name": "Python 3 (ipykernel)",
   "language": "python",
   "name": "python3"
  },
  "language_info": {
   "codemirror_mode": {
    "name": "ipython",
    "version": 3
   },
   "file_extension": ".py",
   "mimetype": "text/x-python",
   "name": "python",
   "nbconvert_exporter": "python",
   "pygments_lexer": "ipython3",
   "version": "3.9.12"
  }
 },
 "nbformat": 4,
 "nbformat_minor": 5
}
