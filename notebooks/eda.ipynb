{
 "cells": [
  {
   "cell_type": "code",
   "execution_count": 1,
   "id": "4890d2a9",
   "metadata": {},
   "outputs": [],
   "source": [
    "import pandas as pd\n",
    "import numpy as np\n",
    "import os\n",
    "import matplotlib.pyplot as plt\n",
    "import seaborn as sns\n",
    "from sklearn.decomposition import PCA\n",
    "from sklearn.preprocessing import scale\n",
    "\n",
    "from library.sb_utils import save_file"
   ]
  },
  {
   "cell_type": "code",
   "execution_count": 2,
   "id": "8ab58928",
   "metadata": {},
   "outputs": [
    {
     "name": "stdout",
     "output_type": "stream",
     "text": [
      "<class 'pandas.core.frame.DataFrame'>\n",
      "RangeIndex: 33819106 entries, 0 to 33819105\n",
      "Data columns (total 15 columns):\n",
      " #   Column                  Dtype  \n",
      "---  ------                  -----  \n",
      " 0   order_id                int64  \n",
      " 1   user_id                 int64  \n",
      " 2   order_by_user_sequence  int64  \n",
      " 3   order_dow               int64  \n",
      " 4   order_hour_of_day       int64  \n",
      " 5   days_since_prior_order  float64\n",
      " 6   product_id              int64  \n",
      " 7   add_to_cart_sequence    int64  \n",
      " 8   reordered               int64  \n",
      " 9   product_name            object \n",
      " 10  aisle_name              object \n",
      " 11  dept_name               object \n",
      " 12  aisle_id                int64  \n",
      " 13  department_id           int64  \n",
      " 14  eval_set                object \n",
      "dtypes: float64(1), int64(10), object(4)\n",
      "memory usage: 3.8+ GB\n"
     ]
    }
   ],
   "source": [
    "df = pd.read_csv('../data/processed/full_data_cleaned.csv')\n",
    "df.info()"
   ]
  },
  {
   "cell_type": "code",
   "execution_count": 3,
   "id": "066156e6",
   "metadata": {},
   "outputs": [
    {
     "data": {
      "text/plain": [
       "0.9907860471657396"
      ]
     },
     "execution_count": 3,
     "metadata": {},
     "output_type": "execute_result"
    }
   ],
   "source": [
    "# What portion of users have reordered items?\n",
    "\n",
    "reorders = df[df['reordered']==1]\n",
    "users_w_reorders = reorders['user_id'].unique()\n",
    "portion_users_reorder = len(users_w_reorders) / len(df['user_id'].unique())\n",
    "portion_users_reorder"
   ]
  },
  {
   "cell_type": "code",
   "execution_count": 4,
   "id": "bf63d100",
   "metadata": {},
   "outputs": [
    {
     "data": {
      "text/plain": [
       "0.5900617242809434"
      ]
     },
     "execution_count": 4,
     "metadata": {},
     "output_type": "execute_result"
    }
   ],
   "source": [
    "# What portion of items in any carts are reorders?\n",
    "\n",
    "reorder_rate = len(reorders) / len(df)\n",
    "reorder_rate"
   ]
  },
  {
   "cell_type": "code",
   "execution_count": 5,
   "id": "3cbdb197",
   "metadata": {},
   "outputs": [
    {
     "data": {
      "text/plain": [
       "product_name\n",
       "#2 Coffee Filters                                                  799\n",
       "#2 Cone White Coffee Filters                                        14\n",
       "#2 Mechanical Pencils                                                9\n",
       "#4 Natural Brown Coffee Filters                                    247\n",
       "& Go! Hazelnut Spread + Pretzel Sticks                             174\n",
       "                                                                  ... \n",
       "with Xylitol Unwrapped Original Flavor 50 Sticks Sugar Free Gum     41\n",
       "with Xylitol Unwrapped Spearmint 50 Sticks Sugar Free Gum           57\n",
       "with Xylitol Watermelon Twist 18 Sticks Sugar Free Gum              74\n",
       "with a Splash of Mango Coconut Water                                27\n",
       "with a Splash of Pineapple Coconut Water                            57\n",
       "Name: product_name, Length: 49685, dtype: int64"
      ]
     },
     "execution_count": 5,
     "metadata": {},
     "output_type": "execute_result"
    }
   ],
   "source": [
    "# Which products are reordered most?\n",
    "\n",
    "product_order_quantity = df.groupby('product_name')['product_name'].size()\n",
    "product_order_quantity"
   ]
  },
  {
   "cell_type": "code",
   "execution_count": 6,
   "id": "36894d63",
   "metadata": {},
   "outputs": [
    {
     "data": {
      "text/plain": [
       "product_name\n",
       "#2 Coffee Filters                                                  265\n",
       "#2 Cone White Coffee Filters                                         3\n",
       "#4 Natural Brown Coffee Filters                                     90\n",
       "& Go! Hazelnut Spread + Pretzel Sticks                              93\n",
       "(70% Juice!) Mountain Raspberry Juice Squeeze                       16\n",
       "                                                                  ... \n",
       "with Xylitol Unwrapped Original Flavor 50 Sticks Sugar Free Gum     17\n",
       "with Xylitol Unwrapped Spearmint 50 Sticks Sugar Free Gum           20\n",
       "with Xylitol Watermelon Twist 18 Sticks Sugar Free Gum              34\n",
       "with a Splash of Mango Coconut Water                                 7\n",
       "with a Splash of Pineapple Coconut Water                            26\n",
       "Name: product_name, Length: 45603, dtype: int64"
      ]
     },
     "execution_count": 6,
     "metadata": {},
     "output_type": "execute_result"
    }
   ],
   "source": [
    "product_reorder_quantity = reorders.groupby('product_name')['product_name'].size()\n",
    "product_reorder_quantity"
   ]
  },
  {
   "cell_type": "code",
   "execution_count": 7,
   "id": "89efd9fd",
   "metadata": {},
   "outputs": [
    {
     "data": {
      "text/plain": [
       "product_name\n",
       "Raw Veggie Wrappers                                           0.942029\n",
       "Serenity Ultimate Extrema Overnight Pads                      0.933333\n",
       "Orange Energy Shots                                           0.923077\n",
       "Chocolate Love Bar                                            0.921569\n",
       "Soy Powder Infant Formula                                     0.914286\n",
       "                                                                ...   \n",
       "Zipper Quart Size Freezer Bags                                     NaN\n",
       "Ziti Rigate Penne                                                  NaN\n",
       "Zyflamend Whole Body Liquid Vcaps                                  NaN\n",
       "flings! Laundry Detergent Pacs, Original, 57 Count Laundry         NaN\n",
       "flings! Original Laundry Detergent Pacs                            NaN\n",
       "Name: product_name, Length: 49685, dtype: float64"
      ]
     },
     "execution_count": 7,
     "metadata": {},
     "output_type": "execute_result"
    }
   ],
   "source": [
    "product_reorder_rate = product_reorder_quantity / product_order_quantity\n",
    "product_reorder_rate.sort_values(ascending=False)"
   ]
  },
  {
   "cell_type": "code",
   "execution_count": 8,
   "id": "03bdad0e",
   "metadata": {},
   "outputs": [
    {
     "data": {
      "text/plain": [
       "aisle_name\n",
       "milk                             0.781812\n",
       "water seltzer sparkling water    0.729930\n",
       "fresh fruits                     0.718823\n",
       "eggs                             0.706359\n",
       "soy lactosefree                  0.692361\n",
       "                                   ...   \n",
       "beauty                           0.212858\n",
       "first aid                        0.195864\n",
       "kitchen supplies                 0.194802\n",
       "baking supplies decor            0.167595\n",
       "spices seasonings                0.152933\n",
       "Name: aisle_name, Length: 134, dtype: float64"
      ]
     },
     "execution_count": 8,
     "metadata": {},
     "output_type": "execute_result"
    }
   ],
   "source": [
    "# Which aisles & departments get reordered from most?\n",
    "\n",
    "aisle_order_quantity = df.groupby('aisle_name')['aisle_name'].size()\n",
    "aisle_reorder_quantity = reorders.groupby('aisle_name')['aisle_name'].size()\n",
    "aisle_reorder_rate = aisle_reorder_quantity / aisle_order_quantity\n",
    "\n",
    "dept_order_quantity = df.groupby('dept_name')['dept_name'].size()\n",
    "dept_reorder_quantity = reorders.groupby('dept_name')['dept_name'].size()\n",
    "dept_reorder_rate = dept_reorder_quantity / dept_order_quantity\n",
    "\n",
    "aisle_reorder_rate.sort_values(ascending=False)"
   ]
  },
  {
   "cell_type": "code",
   "execution_count": 9,
   "id": "2a16f985",
   "metadata": {},
   "outputs": [
    {
     "data": {
      "text/plain": [
       "dept_name\n",
       "dairy eggs         0.670161\n",
       "beverages          0.653651\n",
       "produce            0.650521\n",
       "bakery             0.628381\n",
       "deli               0.608130\n",
       "pets               0.602557\n",
       "babies             0.577680\n",
       "bulk               0.577090\n",
       "snacks             0.574464\n",
       "alcohol            0.571221\n",
       "meat seafood       0.568625\n",
       "breakfast          0.561351\n",
       "frozen             0.542634\n",
       "dry goods pasta    0.462220\n",
       "canned goods       0.458639\n",
       "other              0.407052\n",
       "household          0.403339\n",
       "missing            0.394323\n",
       "international      0.369682\n",
       "pantry             0.347400\n",
       "personal care      0.321863\n",
       "Name: dept_name, dtype: float64"
      ]
     },
     "execution_count": 9,
     "metadata": {},
     "output_type": "execute_result"
    }
   ],
   "source": [
    "dept_reorder_rate.sort_values(ascending=False)"
   ]
  },
  {
   "cell_type": "code",
   "execution_count": 10,
   "id": "07a2ddea",
   "metadata": {},
   "outputs": [
    {
     "data": {
      "text/html": [
       "<div>\n",
       "<style scoped>\n",
       "    .dataframe tbody tr th:only-of-type {\n",
       "        vertical-align: middle;\n",
       "    }\n",
       "\n",
       "    .dataframe tbody tr th {\n",
       "        vertical-align: top;\n",
       "    }\n",
       "\n",
       "    .dataframe thead th {\n",
       "        text-align: right;\n",
       "    }\n",
       "</style>\n",
       "<table border=\"1\" class=\"dataframe\">\n",
       "  <thead>\n",
       "    <tr style=\"text-align: right;\">\n",
       "      <th></th>\n",
       "      <th>order_id</th>\n",
       "      <th>user_id</th>\n",
       "      <th>order_by_user_sequence</th>\n",
       "      <th>order_dow</th>\n",
       "      <th>order_hour_of_day</th>\n",
       "      <th>days_since_prior_order</th>\n",
       "      <th>product_id</th>\n",
       "      <th>add_to_cart_sequence</th>\n",
       "      <th>reordered</th>\n",
       "      <th>product_name</th>\n",
       "      <th>aisle_name</th>\n",
       "      <th>dept_name</th>\n",
       "      <th>aisle_id</th>\n",
       "      <th>department_id</th>\n",
       "      <th>eval_set</th>\n",
       "      <th>user_item</th>\n",
       "    </tr>\n",
       "  </thead>\n",
       "  <tbody>\n",
       "    <tr>\n",
       "      <th>6</th>\n",
       "      <td>2398795</td>\n",
       "      <td>1</td>\n",
       "      <td>2</td>\n",
       "      <td>3</td>\n",
       "      <td>7</td>\n",
       "      <td>15.0</td>\n",
       "      <td>196</td>\n",
       "      <td>1</td>\n",
       "      <td>1</td>\n",
       "      <td>Soda</td>\n",
       "      <td>soft drinks</td>\n",
       "      <td>beverages</td>\n",
       "      <td>77</td>\n",
       "      <td>7</td>\n",
       "      <td>prior</td>\n",
       "      <td>1, 196</td>\n",
       "    </tr>\n",
       "    <tr>\n",
       "      <th>8</th>\n",
       "      <td>2398795</td>\n",
       "      <td>1</td>\n",
       "      <td>2</td>\n",
       "      <td>3</td>\n",
       "      <td>7</td>\n",
       "      <td>15.0</td>\n",
       "      <td>26088</td>\n",
       "      <td>5</td>\n",
       "      <td>1</td>\n",
       "      <td>Aged White Cheddar Popcorn</td>\n",
       "      <td>popcorn jerky</td>\n",
       "      <td>snacks</td>\n",
       "      <td>23</td>\n",
       "      <td>19</td>\n",
       "      <td>prior</td>\n",
       "      <td>1, 26088</td>\n",
       "    </tr>\n",
       "    <tr>\n",
       "      <th>10</th>\n",
       "      <td>2398795</td>\n",
       "      <td>1</td>\n",
       "      <td>2</td>\n",
       "      <td>3</td>\n",
       "      <td>7</td>\n",
       "      <td>15.0</td>\n",
       "      <td>12427</td>\n",
       "      <td>3</td>\n",
       "      <td>1</td>\n",
       "      <td>Original Beef Jerky</td>\n",
       "      <td>popcorn jerky</td>\n",
       "      <td>snacks</td>\n",
       "      <td>23</td>\n",
       "      <td>19</td>\n",
       "      <td>prior</td>\n",
       "      <td>1, 12427</td>\n",
       "    </tr>\n",
       "    <tr>\n",
       "      <th>11</th>\n",
       "      <td>473747</td>\n",
       "      <td>1</td>\n",
       "      <td>3</td>\n",
       "      <td>3</td>\n",
       "      <td>12</td>\n",
       "      <td>21.0</td>\n",
       "      <td>196</td>\n",
       "      <td>1</td>\n",
       "      <td>1</td>\n",
       "      <td>Soda</td>\n",
       "      <td>soft drinks</td>\n",
       "      <td>beverages</td>\n",
       "      <td>77</td>\n",
       "      <td>7</td>\n",
       "      <td>prior</td>\n",
       "      <td>1, 196</td>\n",
       "    </tr>\n",
       "    <tr>\n",
       "      <th>13</th>\n",
       "      <td>473747</td>\n",
       "      <td>1</td>\n",
       "      <td>3</td>\n",
       "      <td>3</td>\n",
       "      <td>12</td>\n",
       "      <td>21.0</td>\n",
       "      <td>10258</td>\n",
       "      <td>3</td>\n",
       "      <td>1</td>\n",
       "      <td>Pistachios</td>\n",
       "      <td>nuts seeds dried fruit</td>\n",
       "      <td>snacks</td>\n",
       "      <td>117</td>\n",
       "      <td>19</td>\n",
       "      <td>prior</td>\n",
       "      <td>1, 10258</td>\n",
       "    </tr>\n",
       "  </tbody>\n",
       "</table>\n",
       "</div>"
      ],
      "text/plain": [
       "    order_id  user_id  order_by_user_sequence  order_dow  order_hour_of_day  \\\n",
       "6    2398795        1                       2          3                  7   \n",
       "8    2398795        1                       2          3                  7   \n",
       "10   2398795        1                       2          3                  7   \n",
       "11    473747        1                       3          3                 12   \n",
       "13    473747        1                       3          3                 12   \n",
       "\n",
       "    days_since_prior_order  product_id  add_to_cart_sequence  reordered  \\\n",
       "6                     15.0         196                     1          1   \n",
       "8                     15.0       26088                     5          1   \n",
       "10                    15.0       12427                     3          1   \n",
       "11                    21.0         196                     1          1   \n",
       "13                    21.0       10258                     3          1   \n",
       "\n",
       "                  product_name              aisle_name  dept_name  aisle_id  \\\n",
       "6                         Soda             soft drinks  beverages        77   \n",
       "8   Aged White Cheddar Popcorn           popcorn jerky     snacks        23   \n",
       "10         Original Beef Jerky           popcorn jerky     snacks        23   \n",
       "11                        Soda             soft drinks  beverages        77   \n",
       "13                  Pistachios  nuts seeds dried fruit     snacks       117   \n",
       "\n",
       "    department_id eval_set user_item  \n",
       "6               7    prior    1, 196  \n",
       "8              19    prior  1, 26088  \n",
       "10             19    prior  1, 12427  \n",
       "11              7    prior    1, 196  \n",
       "13             19    prior  1, 10258  "
      ]
     },
     "execution_count": 10,
     "metadata": {},
     "output_type": "execute_result"
    }
   ],
   "source": [
    "# I want to be able to easily sort by specific user+product combination\n",
    "\n",
    "df['user_item'] = df['user_id'].astype(str) + ', ' + df['product_id'].astype(str)\n",
    "reorders = df[df['reordered']==1]\n",
    "reorders.head()"
   ]
  },
  {
   "cell_type": "code",
   "execution_count": 11,
   "id": "755f3f52",
   "metadata": {},
   "outputs": [
    {
     "data": {
      "text/plain": [
       "13863746"
      ]
     },
     "execution_count": 11,
     "metadata": {},
     "output_type": "execute_result"
    }
   ],
   "source": [
    "len(df['user_item'].unique())"
   ]
  },
  {
   "cell_type": "code",
   "execution_count": 12,
   "id": "37efe0cd",
   "metadata": {},
   "outputs": [
    {
     "data": {
      "text/plain": [
       "0.26846330341451774"
      ]
     },
     "execution_count": 12,
     "metadata": {},
     "output_type": "execute_result"
    }
   ],
   "source": [
    "# How often are items reordered?\n",
    "\n",
    "reordered_order_2 = reorders[reorders['order_by_user_sequence']==2]\n",
    "\n",
    "portion_reordered_immediately = len(reordered_order_2) / len(df[df['order_by_user_sequence']==1])\n",
    "portion_reordered_immediately"
   ]
  },
  {
   "cell_type": "code",
   "execution_count": 13,
   "id": "593538b3",
   "metadata": {},
   "outputs": [
    {
     "name": "stdout",
     "output_type": "stream",
     "text": [
      "557885 792161\n"
     ]
    }
   ],
   "source": [
    "reordered_order_3 = reorders[reorders['order_by_user_sequence']==3]\n",
    "print(len(reordered_order_2), len(reordered_order_3))"
   ]
  },
  {
   "cell_type": "code",
   "execution_count": 14,
   "id": "4b67169e",
   "metadata": {},
   "outputs": [
    {
     "data": {
      "text/plain": [
       "274487"
      ]
     },
     "execution_count": 14,
     "metadata": {},
     "output_type": "execute_result"
    }
   ],
   "source": [
    "reordered_2_and_3 = reordered_order_2.merge(reordered_order_3, on='user_item')\n",
    "len(reordered_2_and_3)"
   ]
  },
  {
   "cell_type": "code",
   "execution_count": 15,
   "id": "f90702fd",
   "metadata": {},
   "outputs": [
    {
     "data": {
      "text/plain": [
       "0.13208759289878869"
      ]
     },
     "execution_count": 15,
     "metadata": {},
     "output_type": "execute_result"
    }
   ],
   "source": [
    "portion_reordered_2_and_3 = len(reordered_2_and_3) / len(df[df['order_by_user_sequence']==1])\n",
    "portion_reordered_2_and_3"
   ]
  },
  {
   "cell_type": "code",
   "execution_count": 16,
   "id": "d54739ca",
   "metadata": {},
   "outputs": [
    {
     "data": {
      "text/plain": [
       "0.4920135870295849"
      ]
     },
     "execution_count": 16,
     "metadata": {},
     "output_type": "execute_result"
    }
   ],
   "source": [
    "# What portion of items that were reordered in order 2 also got reordered in order 3?\n",
    "\n",
    "portion_reordered_2_and_3 / portion_reordered_immediately"
   ]
  },
  {
   "cell_type": "code",
   "execution_count": 17,
   "id": "4e00b559",
   "metadata": {},
   "outputs": [],
   "source": [
    "# About a quarter of items that were ordered in any given user's 1st order got reordered in their 2nd\n",
    "# Of items that got reordered immediately, about half were reordered again in their 3rd order. \n",
    "# I'd like to do more to analyze reorder rates throughout the order sequence."
   ]
  },
  {
   "cell_type": "code",
   "execution_count": 18,
   "id": "65e9361e",
   "metadata": {},
   "outputs": [
    {
     "data": {
      "image/png": "[encoded data removed]",
      "text/plain": [
       "<Figure size 432x288 with 1 Axes>"
      ]
     },
     "metadata": {
      "needs_background": "light"
     },
     "output_type": "display_data"
    }
   ],
   "source": [
    "# What is the pattern of reorders by weekday, time, and days since prior order?\n",
    "\n",
    "plt.hist(df['order_dow'], color='blue', density=True, alpha=0.5, bins=7)\n",
    "plt.hist(reorders['order_dow'], color='orange', density=True, alpha=0.5, bins=7);"
   ]
  },
  {
   "cell_type": "code",
   "execution_count": 19,
   "id": "b82d5068",
   "metadata": {},
   "outputs": [
    {
     "data": {
      "image/png": "[encoded data removed]",
      "text/plain": [
       "<Figure size 432x288 with 1 Axes>"
      ]
     },
     "metadata": {
      "needs_background": "light"
     },
     "output_type": "display_data"
    }
   ],
   "source": [
    "# reorders don't seem much more likely overall any given day of the week. \n",
    "\n",
    "plt.hist(df['order_hour_of_day'], color='blue', density=True, alpha=0.5, bins=24)\n",
    "plt.hist(reorders['order_hour_of_day'], color='orange', density=True, alpha=0.5, bins=24);"
   ]
  },
  {
   "cell_type": "code",
   "execution_count": 20,
   "id": "17e34abf",
   "metadata": {},
   "outputs": [
    {
     "data": {
      "text/plain": [
       "30.0"
      ]
     },
     "execution_count": 20,
     "metadata": {},
     "output_type": "execute_result"
    }
   ],
   "source": [
    "# I have no idea if this is a meaningful difference because it looks quite small\n",
    "# But there could be something to explore with regards to reorders being more likely from 7-10am\n",
    "# Are there perhaps particular items that are popular to buy in the morning? \n",
    "\n",
    "df['days_since_prior_order'].max()"
   ]
  },
  {
   "cell_type": "code",
   "execution_count": 21,
   "id": "2026ce60",
   "metadata": {},
   "outputs": [
    {
     "data": {
      "image/png": "[encoded data removed]",
      "text/plain": [
       "<Figure size 432x288 with 1 Axes>"
      ]
     },
     "metadata": {
      "needs_background": "light"
     },
     "output_type": "display_data"
    }
   ],
   "source": [
    "plt.hist(df['days_since_prior_order'], color='blue', density=True, alpha=0.5, bins=30)\n",
    "plt.hist(reorders['days_since_prior_order'], color='orange', density=True, alpha=0.5, bins=30);"
   ]
  },
  {
   "cell_type": "code",
   "execution_count": 22,
   "id": "4764547c",
   "metadata": {},
   "outputs": [],
   "source": [
    "# It seems like more reorders happen when there have been under 10 days since the last order.\n",
    "# I wonder if \"30\" here actually means \"30 plus?\" It's a weirdly big group. \n",
    "# At any rate, reorders seem less likely when there's a longer time between orders. \n",
    "# Could this be because more frequent shoppers get more of their staples via instacart? "
   ]
  },
  {
   "cell_type": "code",
   "execution_count": 23,
   "id": "0d1e521d",
   "metadata": {},
   "outputs": [
    {
     "data": {
      "text/plain": [
       "145"
      ]
     },
     "execution_count": 23,
     "metadata": {},
     "output_type": "execute_result"
    }
   ],
   "source": [
    "# Does an added to cart sequence hist say anything?\n",
    "df['add_to_cart_sequence'].max()"
   ]
  },
  {
   "cell_type": "code",
   "execution_count": 24,
   "id": "0fb04aff",
   "metadata": {},
   "outputs": [
    {
     "data": {
      "image/png": "[encoded data removed]",
      "text/plain": [
       "<Figure size 432x288 with 1 Axes>"
      ]
     },
     "metadata": {
      "needs_background": "light"
     },
     "output_type": "display_data"
    }
   ],
   "source": [
    "plt.hist(df['add_to_cart_sequence'], color='blue', density=True, alpha=0.5, bins=29)\n",
    "plt.hist(reorders['add_to_cart_sequence'], color='orange', density=True, alpha=0.5, bins=29);"
   ]
  },
  {
   "cell_type": "code",
   "execution_count": 25,
   "id": "7d9d81ec",
   "metadata": {},
   "outputs": [
    {
     "data": {
      "image/png": "[encoded data removed]",
      "text/plain": [
       "<Figure size 432x288 with 1 Axes>"
      ]
     },
     "metadata": {
      "needs_background": "light"
     },
     "output_type": "display_data"
    }
   ],
   "source": [
    "earlier_items_df = df[df['add_to_cart_sequence']<=40]\n",
    "earlier_items_reorders = reorders[reorders['add_to_cart_sequence']<=40]\n",
    "\n",
    "plt.hist(earlier_items_df['add_to_cart_sequence'], color='blue', density=True, alpha=0.5, bins=40)\n",
    "plt.hist(earlier_items_reorders['add_to_cart_sequence'], color='orange', density=True, alpha=0.5, bins=40);"
   ]
  },
  {
   "cell_type": "code",
   "execution_count": 26,
   "id": "7f5df96f",
   "metadata": {},
   "outputs": [],
   "source": [
    "# Items that are added to the cart earlier (up to item 6) are more often reorders. \n",
    "# Or, to put it more accurately, I imagine, reorders are added to the cart earlier. Basics people know they want. \n",
    "# Or maybe smaller orders are more likely to consist of reorders?"
   ]
  },
  {
   "cell_type": "code",
   "execution_count": 27,
   "id": "d10cf685",
   "metadata": {},
   "outputs": [
    {
     "data": {
      "image/png": "[encoded data removed]",
      "text/plain": [
       "<Figure size 1008x864 with 2 Axes>"
      ]
     },
     "metadata": {
      "needs_background": "light"
     },
     "output_type": "display_data"
    }
   ],
   "source": [
    "# Look at a correlation coefficient heatmap\n",
    "plt.figure(figsize=(14,12))\n",
    "sns.heatmap(df.corr(), linewidths=.1, cmap=\"YlGnBu\", annot=True)\n",
    "plt.yticks(rotation=0);"
   ]
  },
  {
   "cell_type": "code",
   "execution_count": 28,
   "id": "2de10c90",
   "metadata": {},
   "outputs": [],
   "source": [
    "# Next up: cluster products"
   ]
  },
  {
   "cell_type": "code",
   "execution_count": 29,
   "id": "64e789b4",
   "metadata": {},
   "outputs": [],
   "source": [
    "# Review instructions for EDA in the curriculum to make sure I'm not missing important aspects. "
   ]
  }
 ],
 "metadata": {
  "kernelspec": {
   "display_name": "Python 3 (ipykernel)",
   "language": "python",
   "name": "python3"
  },
  "language_info": {
   "codemirror_mode": {
    "name": "ipython",
    "version": 3
   },
   "file_extension": ".py",
   "mimetype": "text/x-python",
   "name": "python",
   "nbconvert_exporter": "python",
   "pygments_lexer": "ipython3",
   "version": "3.9.12"
  }
 },
 "nbformat": 4,
 "nbformat_minor": 5
}
