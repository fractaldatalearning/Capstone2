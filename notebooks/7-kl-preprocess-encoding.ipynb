{
 "cells": [
  {
   "cell_type": "markdown",
   "id": "81427551",
   "metadata": {},
   "source": [
    "# <font color='violet'>Preprocessing/Encoding: Explore Options</font>\n",
    "\n",
    "This is the final preprocessing notebook before modeling. \n",
    "- Here, I'll try out models' performances given various variable encoding strategies. \n",
    "- I might want to balance the data, to see if that would actually improve model performance.\n",
    "- I might also need to explore the possibility of feature reduction; I created multiple features in the previous notebook but am not yet sure if they'll be valuable in making predictions. \n",
    "\n",
    "I can begin to explore various models in the process of all this. After this, I'll create pipelines to make final decisions about a classifier to use. \n",
    "\n",
    "Notebook on which this one builds: https://github.com/fractaldatalearning/Capstone2/blob/main/notebooks/preprocessing2_feature_engineering.ipynb"
   ]
  },
  {
   "cell_type": "code",
   "execution_count": 1,
   "id": "9ff6ff73",
   "metadata": {},
   "outputs": [],
   "source": [
    "import pandas as pd\n",
    "import numpy as np\n",
    "import os\n",
    "from library.sb_utils import save_file\n",
    "\n",
    "import matplotlib.pyplot as plt\n",
    "import seaborn as sns\n",
    "\n",
    "import category_encoders as ce\n",
    "from sklearn.ensemble import RandomForestClassifier, BaggingClassifier\n",
    "\n",
    "from sklearn.model_selection import train_test_split\n",
    "from sklearn.preprocessing import StandardScaler\n",
    "from sklearn import metrics, svm\n",
    "\n",
    "from sklearn.decomposition import PCA\n",
    "from sklearn.preprocessing import scale\n",
    "\n",
    "import random\n",
    "import warnings\n",
    "\n",
    "from IPython.display import Audio\n",
    "sound_file = './alert.wav'"
   ]
  },
  {
   "cell_type": "code",
   "execution_count": 2,
   "id": "fd07efc4",
   "metadata": {},
   "outputs": [
    {
     "name": "stdout",
     "output_type": "stream",
     "text": [
      "<class 'pandas.core.frame.DataFrame'>\n",
      "RangeIndex: 2174119 entries, 0 to 2174118\n",
      "Data columns (total 27 columns):\n",
      " #   Column                        Dtype  \n",
      "---  ------                        -----  \n",
      " 0   order_id                      int64  \n",
      " 1   user_id                       int64  \n",
      " 2   order_by_user_sequence        int64  \n",
      " 3   order_dow                     int64  \n",
      " 4   order_hour_of_day             int64  \n",
      " 5   days_since_prior_order        float64\n",
      " 6   add_to_cart_sequence          int64  \n",
      " 7   reordered                     int64  \n",
      " 8   product_name                  object \n",
      " 9   aisle_name                    object \n",
      " 10  dept_name                     object \n",
      " 11  prior_purchases               int64  \n",
      " 12  purchased_percent_prior       float64\n",
      " 13  apple                         int64  \n",
      " 14  bar                           int64  \n",
      " 15  cream                         int64  \n",
      " 16  free                          int64  \n",
      " 17  fresh                         int64  \n",
      " 18  green                         int64  \n",
      " 19  mix                           int64  \n",
      " 20  natural                       int64  \n",
      " 21  organic                       int64  \n",
      " 22  original                      int64  \n",
      " 23  sweet                         int64  \n",
      " 24  white                         int64  \n",
      " 25  purchased_early_past          int64  \n",
      " 26  percent_past_purchased_early  float64\n",
      "dtypes: float64(3), int64(21), object(3)\n",
      "memory usage: 447.9+ MB\n"
     ]
    }
   ],
   "source": [
    "df = pd.read_csv('../data/processed/features_engineered.csv')\n",
    "df.info()"
   ]
  },
  {
   "cell_type": "code",
   "execution_count": 3,
   "id": "5ed9a995",
   "metadata": {},
   "outputs": [
    {
     "data": {
      "text/plain": [
       "Index(['user_id', 'order_by_user_sequence', 'order_dow', 'order_hour_of_day',\n",
       "       'days_since_prior_order', 'add_to_cart_sequence', 'reordered',\n",
       "       'product_name', 'aisle_name', 'dept_name', 'prior_purchases',\n",
       "       'purchased_percent_prior', 'apple', 'bar', 'cream', 'free', 'fresh',\n",
       "       'green', 'mix', 'natural', 'organic', 'original', 'sweet', 'white',\n",
       "       'purchased_early_past', 'percent_past_purchased_early'],\n",
       "      dtype='object')"
      ]
     },
     "execution_count": 3,
     "metadata": {},
     "output_type": "execute_result"
    }
   ],
   "source": [
    "# order_id is redundant as a combination of user and order_by_user_sequence. Delete it. \n",
    "df = df.drop(columns='order_id')\n",
    "df.columns"
   ]
  },
  {
   "cell_type": "markdown",
   "id": "443047a9",
   "metadata": {},
   "source": [
    " <font color='violet'>Understand Naive Baseline Evaluation Metrics</font>"
   ]
  },
  {
   "cell_type": "code",
   "execution_count": 4,
   "id": "07cc5da3",
   "metadata": {},
   "outputs": [
    {
     "data": {
      "text/plain": [
       "0.09045641015970148"
      ]
     },
     "execution_count": 4,
     "metadata": {},
     "output_type": "execute_result"
    }
   ],
   "source": [
    "df['reordered'].mean()"
   ]
  },
  {
   "cell_type": "markdown",
   "id": "6c35a130",
   "metadata": {},
   "source": [
    "I can judge effect of my work by comparing model scores with scores of what would happen if I just guess that a random 9% of items get reordered (since 0.090 is the average of the whole 'reordered' column in this dataset). "
   ]
  },
  {
   "cell_type": "code",
   "execution_count": 5,
   "id": "c3bb041e",
   "metadata": {},
   "outputs": [
    {
     "data": {
      "text/plain": [
       "2174119"
      ]
     },
     "execution_count": 5,
     "metadata": {},
     "output_type": "execute_result"
    }
   ],
   "source": [
    "# Make an array with 196663 1s randomly dispersed aming the rest 0s. Then use that fake array\n",
    "# as predictions to see what scores I'd get without using any of the work I've done/ will do. \n",
    "ones = [1] * 196663\n",
    "zeroes = [0] * 1977456\n",
    "array = np.concatenate([ones, zeroes])\n",
    "len(array)"
   ]
  },
  {
   "cell_type": "code",
   "execution_count": 6,
   "id": "fa600af4",
   "metadata": {},
   "outputs": [
    {
     "data": {
      "text/plain": [
       "array([1, 1, 1, 1, 1, 1])"
      ]
     },
     "execution_count": 6,
     "metadata": {},
     "output_type": "execute_result"
    }
   ],
   "source": [
    "array[0:6]"
   ]
  },
  {
   "cell_type": "code",
   "execution_count": 7,
   "id": "da367bec",
   "metadata": {},
   "outputs": [
    {
     "data": {
      "text/plain": [
       "array([0, 0, 0, 0, 0, 0])"
      ]
     },
     "execution_count": 7,
     "metadata": {},
     "output_type": "execute_result"
    }
   ],
   "source": [
    "random.shuffle(array)\n",
    "array[0:6]"
   ]
  },
  {
   "cell_type": "code",
   "execution_count": 8,
   "id": "82ae5b6b",
   "metadata": {},
   "outputs": [],
   "source": [
    "y = df['reordered']"
   ]
  },
  {
   "cell_type": "code",
   "execution_count": 12,
   "id": "5e778693",
   "metadata": {},
   "outputs": [
    {
     "name": "stdout",
     "output_type": "stream",
     "text": [
      "naive RF f1 score:  0.09079999796606378\n",
      "naive baseline RF kappa score:  0.00037775848260623857\n",
      "naive baseline RF roc_auc score:  0.5001888792413032\n",
      "naive baseline RF log_loss score:  5.681208745682688\n",
      "AxesSubplot(0.125,0.11;0.62x0.77)\n"
     ]
    },
    {
     "data": {
      "image/png": "[encoded data removed]",
      "text/plain": [
       "<Figure size 640x480 with 2 Axes>"
      ]
     },
     "metadata": {},
     "output_type": "display_data"
    }
   ],
   "source": [
    "print('naive RF f1 score: ', metrics.f1_score(y, array))\n",
    "print('naive baseline RF kappa score: ', metrics.cohen_kappa_score(y, array))\n",
    "print('naive baseline RF roc_auc score: ', metrics.roc_auc_score(y, array))\n",
    "print('naive baseline RF log_loss score: ', metrics.log_loss(y, array))\n",
    "cm = metrics.confusion_matrix(y, array)\n",
    "print(sns.heatmap(cm, annot=True, fmt='g'))"
   ]
  },
  {
   "cell_type": "markdown",
   "id": "e99b5dcd",
   "metadata": {},
   "source": [
    "I'll be looking to get a log loss significantly lower than 5 moving forward.\n",
    "- Note on log loss score: it is widely known that the log loss for a balanced binary problem is -log(1/2) or 0.69, but with unbalanced classes, the naive log loss increases, as explained here: https://stats.stackexchange.com/questions/276067/whats-considered-a-good-log-loss\n",
    "\n",
    "My understanding is that categorical features should be encoded prior to any standardization of ordinal features. Start here. \n",
    "\n",
    "I'd like to try multiple encoders for categorical data. A summary of my current knowledge of encoders that could make sense for this data:\n",
    "- One-Hot could work for the dept_name column because there are only 19 categories, much fewer than all the other categorical columns. It wouldn't work well for the others. \n",
    "- Hashing works with high-cardinality variables but isn't reversible and can lead to some (usuall minimal, as far as I've read) info loss. It's not clear to me whether it involves any leakage across rows. \n",
    "- My understanding of binary encoding is that it's the best of both worlds from one-hot and hashing: fewer resultant categories than one-hot but interpretable and no info loss, unlike hashing. \n",
    "- My understanding is that Bayesian encoders generally cause contamination, so make sure to split into training and test sets prior to encoding. I read that LeaveOneOut is a Bayesian encoder that avoids leakage by not using the dependent variable. I also read that it is especially good for classification tasks, so it's a good one to consider here.\n",
    "- I know very little about WeightofEvidence but it's another Bayesian encoders recommended by Springboard and I can try it out along with Target encoder, which seems to be the most popular Bayesian encoder. \n",
    "\n",
    "I'd like any encoder(s) I use to be included in an eventual modeling pipeline, but first I want to explore and try them out individually to see what they actually do to the data in the categorical columns. "
   ]
  },
  {
   "cell_type": "markdown",
   "id": "a4c2d71b",
   "metadata": {},
   "source": [
    " <font color='violet'>Binary Encoder</font>\n",
    "\n",
    "Start by just predicting the reordered column. Perhaps try predicting the add_to_cart_sequence column later. Create independent & dependent variables; encode independent categories."
   ]
  },
  {
   "cell_type": "code",
   "execution_count": 10,
   "id": "529a3e8b",
   "metadata": {},
   "outputs": [],
   "source": [
    "X = df.drop(columns=['reordered', 'add_to_cart_sequence'])\n",
    "y = df['reordered']\n",
    "\n",
    "categorical_columns = ['user_id', 'product_name', 'aisle_name', 'dept_name']\n",
    "ce_bin = ce.BinaryEncoder(cols=categorical_columns)\n",
    "Xbin = ce_bin.fit_transform(X,y)"
   ]
  },
  {
   "cell_type": "code",
   "execution_count": 11,
   "id": "e94e6a94",
   "metadata": {},
   "outputs": [
    {
     "data": {
      "text/html": [
       "<div>\n",
       "<style scoped>\n",
       "    .dataframe tbody tr th:only-of-type {\n",
       "        vertical-align: middle;\n",
       "    }\n",
       "\n",
       "    .dataframe tbody tr th {\n",
       "        vertical-align: top;\n",
       "    }\n",
       "\n",
       "    .dataframe thead th {\n",
       "        text-align: right;\n",
       "    }\n",
       "</style>\n",
       "<table border=\"1\" class=\"dataframe\">\n",
       "  <thead>\n",
       "    <tr style=\"text-align: right;\">\n",
       "      <th></th>\n",
       "      <th>user_id_0</th>\n",
       "      <th>user_id_1</th>\n",
       "      <th>user_id_2</th>\n",
       "      <th>user_id_3</th>\n",
       "      <th>user_id_4</th>\n",
       "      <th>user_id_5</th>\n",
       "      <th>user_id_6</th>\n",
       "      <th>user_id_7</th>\n",
       "      <th>user_id_8</th>\n",
       "      <th>user_id_9</th>\n",
       "      <th>...</th>\n",
       "      <th>fresh</th>\n",
       "      <th>green</th>\n",
       "      <th>mix</th>\n",
       "      <th>natural</th>\n",
       "      <th>organic</th>\n",
       "      <th>original</th>\n",
       "      <th>sweet</th>\n",
       "      <th>white</th>\n",
       "      <th>purchased_early_past</th>\n",
       "      <th>percent_past_purchased_early</th>\n",
       "    </tr>\n",
       "  </thead>\n",
       "  <tbody>\n",
       "    <tr>\n",
       "      <th>0</th>\n",
       "      <td>0</td>\n",
       "      <td>0</td>\n",
       "      <td>0</td>\n",
       "      <td>0</td>\n",
       "      <td>0</td>\n",
       "      <td>0</td>\n",
       "      <td>0</td>\n",
       "      <td>0</td>\n",
       "      <td>0</td>\n",
       "      <td>0</td>\n",
       "      <td>...</td>\n",
       "      <td>0</td>\n",
       "      <td>0</td>\n",
       "      <td>0</td>\n",
       "      <td>0</td>\n",
       "      <td>1</td>\n",
       "      <td>0</td>\n",
       "      <td>0</td>\n",
       "      <td>0</td>\n",
       "      <td>0</td>\n",
       "      <td>0.0</td>\n",
       "    </tr>\n",
       "    <tr>\n",
       "      <th>1</th>\n",
       "      <td>0</td>\n",
       "      <td>0</td>\n",
       "      <td>0</td>\n",
       "      <td>0</td>\n",
       "      <td>0</td>\n",
       "      <td>0</td>\n",
       "      <td>0</td>\n",
       "      <td>0</td>\n",
       "      <td>0</td>\n",
       "      <td>0</td>\n",
       "      <td>...</td>\n",
       "      <td>0</td>\n",
       "      <td>0</td>\n",
       "      <td>0</td>\n",
       "      <td>0</td>\n",
       "      <td>1</td>\n",
       "      <td>0</td>\n",
       "      <td>0</td>\n",
       "      <td>0</td>\n",
       "      <td>0</td>\n",
       "      <td>0.0</td>\n",
       "    </tr>\n",
       "    <tr>\n",
       "      <th>2</th>\n",
       "      <td>0</td>\n",
       "      <td>0</td>\n",
       "      <td>0</td>\n",
       "      <td>0</td>\n",
       "      <td>0</td>\n",
       "      <td>0</td>\n",
       "      <td>0</td>\n",
       "      <td>0</td>\n",
       "      <td>0</td>\n",
       "      <td>0</td>\n",
       "      <td>...</td>\n",
       "      <td>0</td>\n",
       "      <td>0</td>\n",
       "      <td>0</td>\n",
       "      <td>0</td>\n",
       "      <td>1</td>\n",
       "      <td>0</td>\n",
       "      <td>0</td>\n",
       "      <td>0</td>\n",
       "      <td>0</td>\n",
       "      <td>0.0</td>\n",
       "    </tr>\n",
       "    <tr>\n",
       "      <th>3</th>\n",
       "      <td>0</td>\n",
       "      <td>0</td>\n",
       "      <td>0</td>\n",
       "      <td>0</td>\n",
       "      <td>0</td>\n",
       "      <td>0</td>\n",
       "      <td>0</td>\n",
       "      <td>0</td>\n",
       "      <td>0</td>\n",
       "      <td>0</td>\n",
       "      <td>...</td>\n",
       "      <td>0</td>\n",
       "      <td>0</td>\n",
       "      <td>0</td>\n",
       "      <td>0</td>\n",
       "      <td>1</td>\n",
       "      <td>0</td>\n",
       "      <td>0</td>\n",
       "      <td>0</td>\n",
       "      <td>0</td>\n",
       "      <td>0.0</td>\n",
       "    </tr>\n",
       "    <tr>\n",
       "      <th>4</th>\n",
       "      <td>0</td>\n",
       "      <td>0</td>\n",
       "      <td>0</td>\n",
       "      <td>0</td>\n",
       "      <td>0</td>\n",
       "      <td>0</td>\n",
       "      <td>0</td>\n",
       "      <td>0</td>\n",
       "      <td>0</td>\n",
       "      <td>0</td>\n",
       "      <td>...</td>\n",
       "      <td>0</td>\n",
       "      <td>0</td>\n",
       "      <td>0</td>\n",
       "      <td>0</td>\n",
       "      <td>1</td>\n",
       "      <td>0</td>\n",
       "      <td>0</td>\n",
       "      <td>0</td>\n",
       "      <td>0</td>\n",
       "      <td>0.0</td>\n",
       "    </tr>\n",
       "  </tbody>\n",
       "</table>\n",
       "<p>5 rows × 60 columns</p>\n",
       "</div>"
      ],
      "text/plain": [
       "   user_id_0  user_id_1  user_id_2  user_id_3  user_id_4  user_id_5  \\\n",
       "0          0          0          0          0          0          0   \n",
       "1          0          0          0          0          0          0   \n",
       "2          0          0          0          0          0          0   \n",
       "3          0          0          0          0          0          0   \n",
       "4          0          0          0          0          0          0   \n",
       "\n",
       "   user_id_6  user_id_7  user_id_8  user_id_9  ...  fresh  green  mix  \\\n",
       "0          0          0          0          0  ...      0      0    0   \n",
       "1          0          0          0          0  ...      0      0    0   \n",
       "2          0          0          0          0  ...      0      0    0   \n",
       "3          0          0          0          0  ...      0      0    0   \n",
       "4          0          0          0          0  ...      0      0    0   \n",
       "\n",
       "   natural  organic  original  sweet  white  purchased_early_past  \\\n",
       "0        0        1         0      0      0                     0   \n",
       "1        0        1         0      0      0                     0   \n",
       "2        0        1         0      0      0                     0   \n",
       "3        0        1         0      0      0                     0   \n",
       "4        0        1         0      0      0                     0   \n",
       "\n",
       "   percent_past_purchased_early  \n",
       "0                           0.0  \n",
       "1                           0.0  \n",
       "2                           0.0  \n",
       "3                           0.0  \n",
       "4                           0.0  \n",
       "\n",
       "[5 rows x 60 columns]"
      ]
     },
     "execution_count": 11,
     "metadata": {},
     "output_type": "execute_result"
    }
   ],
   "source": [
    "Xbin.head()"
   ]
  },
  {
   "cell_type": "code",
   "execution_count": 12,
   "id": "aab5a112",
   "metadata": {},
   "outputs": [
    {
     "data": {
      "text/plain": [
       "Index(['user_id_0', 'user_id_1', 'user_id_2', 'user_id_3', 'user_id_4',\n",
       "       'user_id_5', 'user_id_6', 'user_id_7', 'user_id_8', 'user_id_9',\n",
       "       'user_id_10', 'user_id_11', 'order_by_user_sequence', 'order_dow',\n",
       "       'order_hour_of_day', 'days_since_prior_order', 'product_name_0',\n",
       "       'product_name_1', 'product_name_2', 'product_name_3', 'product_name_4',\n",
       "       'product_name_5', 'product_name_6', 'product_name_7', 'product_name_8',\n",
       "       'product_name_9', 'product_name_10', 'product_name_11',\n",
       "       'product_name_12', 'product_name_13', 'product_name_14', 'aisle_name_0',\n",
       "       'aisle_name_1', 'aisle_name_2', 'aisle_name_3', 'aisle_name_4',\n",
       "       'aisle_name_5', 'aisle_name_6', 'aisle_name_7', 'dept_name_0',\n",
       "       'dept_name_1', 'dept_name_2', 'dept_name_3', 'dept_name_4',\n",
       "       'prior_purchases', 'purchased_percent_prior', 'apple', 'bar', 'cream',\n",
       "       'free', 'fresh', 'green', 'mix', 'natural', 'organic', 'original',\n",
       "       'sweet', 'white', 'purchased_early_past',\n",
       "       'percent_past_purchased_early'],\n",
       "      dtype='object')"
      ]
     },
     "execution_count": 12,
     "metadata": {},
     "output_type": "execute_result"
    }
   ],
   "source": [
    "Xbin.columns"
   ]
  },
  {
   "cell_type": "code",
   "execution_count": 13,
   "id": "258a798d",
   "metadata": {},
   "outputs": [
    {
     "name": "stdout",
     "output_type": "stream",
     "text": [
      "binary bagging f1 score:  0.23791675917098715\n",
      "binary bagging kappa score:  0.2052455706172115\n",
      "binary bagging roc_auc score:  0.5699450975998187\n",
      "binary bagging log_loss score:  3.090165013302997\n",
      "AxesSubplot(0.125,0.11;0.62x0.77)\n"
     ]
    },
    {
     "data": {
      "image/png": "[encoded data removed]",
      "text/plain": [
       "<Figure size 640x480 with 2 Axes>"
      ]
     },
     "metadata": {},
     "output_type": "display_data"
    }
   ],
   "source": [
    "# Test out encoder performance in Bagging and RandomForest models. \n",
    "# These were better than others when trying them out with a practice user.\n",
    "# First need to standardize. Don't bother yet with tuning model hyperparameters.\n",
    "\n",
    "Xbin_train, Xbin_test, ybin_train, ybin_test = train_test_split(Xbin, y, test_size=0.3)\n",
    "\n",
    "scaler = StandardScaler()\n",
    "Xbin_train_scaled = scaler.fit_transform(Xbin_train)\n",
    "Xbin_test_scaled = scaler.transform(Xbin_test)\n",
    "\n",
    "bgg_clf = BaggingClassifier()\n",
    "bgg_clf = bgg_clf.fit(Xbin_train_scaled, ybin_train)\n",
    "ybin_pred = bgg_clf.predict(Xbin_test_scaled)\n",
    "print('binary bagging f1 score: ', metrics.f1_score(ybin_test, ybin_pred))\n",
    "print('binary bagging kappa score: ', metrics.cohen_kappa_score(ybin_test, ybin_pred))\n",
    "print('binary bagging roc_auc score: ', metrics.roc_auc_score(ybin_test, ybin_pred))\n",
    "print('binary bagging log_loss score: ', metrics.log_loss(ybin_test, ybin_pred))\n",
    "cm = metrics.confusion_matrix(ybin_test, ybin_pred)\n",
    "print(sns.heatmap(cm, annot=True, fmt='g'))"
   ]
  },
  {
   "cell_type": "code",
   "execution_count": 14,
   "id": "cc881928",
   "metadata": {},
   "outputs": [
    {
     "name": "stdout",
     "output_type": "stream",
     "text": [
      "binary RF f1 score:  0.2635020199872422\n",
      "binary RF kappa score:  0.233905126835658\n",
      "binary RF roc_auc score:  0.5785347882607469\n",
      "binary RF log_loss score:  2.9347411914630683\n",
      "AxesSubplot(0.125,0.11;0.62x0.77)\n"
     ]
    },
    {
     "data": {
      "image/png": "[encoded data removed]",
      "text/plain": [
       "<Figure size 640x480 with 2 Axes>"
      ]
     },
     "metadata": {},
     "output_type": "display_data"
    }
   ],
   "source": [
    "rf_clf = RandomForestClassifier()\n",
    "rf_clf = rf_clf.fit(Xbin_train_scaled, ybin_train)\n",
    "ybin_pred = rf_clf.predict(Xbin_test_scaled)\n",
    "cm = metrics.confusion_matrix(ybin_test, ybin_pred)\n",
    "print('binary RF f1 score: ', metrics.f1_score(ybin_test, ybin_pred))\n",
    "print('binary RF kappa score: ', metrics.cohen_kappa_score(ybin_test, ybin_pred))\n",
    "print('binary RF roc_auc score: ', metrics.roc_auc_score(ybin_test, ybin_pred))\n",
    "print('binary RF log_loss score: ', metrics.log_loss(ybin_test, ybin_pred))\n",
    "cm = metrics.confusion_matrix(ybin_test, ybin_pred)\n",
    "print(sns.heatmap(cm, annot=True, fmt='g'))"
   ]
  },
  {
   "cell_type": "markdown",
   "id": "b816f7f7",
   "metadata": {},
   "source": [
    " <font color='violet'>Leave One Out Encoder</font>"
   ]
  },
  {
   "cell_type": "code",
   "execution_count": 15,
   "id": "25880bc9",
   "metadata": {},
   "outputs": [
    {
     "data": {
      "text/html": [
       "<div>\n",
       "<style scoped>\n",
       "    .dataframe tbody tr th:only-of-type {\n",
       "        vertical-align: middle;\n",
       "    }\n",
       "\n",
       "    .dataframe tbody tr th {\n",
       "        vertical-align: top;\n",
       "    }\n",
       "\n",
       "    .dataframe thead th {\n",
       "        text-align: right;\n",
       "    }\n",
       "</style>\n",
       "<table border=\"1\" class=\"dataframe\">\n",
       "  <thead>\n",
       "    <tr style=\"text-align: right;\">\n",
       "      <th></th>\n",
       "      <th>user_id</th>\n",
       "      <th>order_by_user_sequence</th>\n",
       "      <th>order_dow</th>\n",
       "      <th>order_hour_of_day</th>\n",
       "      <th>days_since_prior_order</th>\n",
       "      <th>product_name</th>\n",
       "      <th>aisle_name</th>\n",
       "      <th>dept_name</th>\n",
       "      <th>prior_purchases</th>\n",
       "      <th>purchased_percent_prior</th>\n",
       "      <th>...</th>\n",
       "      <th>fresh</th>\n",
       "      <th>green</th>\n",
       "      <th>mix</th>\n",
       "      <th>natural</th>\n",
       "      <th>organic</th>\n",
       "      <th>original</th>\n",
       "      <th>sweet</th>\n",
       "      <th>white</th>\n",
       "      <th>purchased_early_past</th>\n",
       "      <th>percent_past_purchased_early</th>\n",
       "    </tr>\n",
       "  </thead>\n",
       "  <tbody>\n",
       "    <tr>\n",
       "      <th>1241637</th>\n",
       "      <td>0.075495</td>\n",
       "      <td>17</td>\n",
       "      <td>1</td>\n",
       "      <td>18</td>\n",
       "      <td>6.0</td>\n",
       "      <td>0.000000</td>\n",
       "      <td>0.028887</td>\n",
       "      <td>0.032212</td>\n",
       "      <td>1</td>\n",
       "      <td>0.058824</td>\n",
       "      <td>...</td>\n",
       "      <td>0</td>\n",
       "      <td>0</td>\n",
       "      <td>0</td>\n",
       "      <td>0</td>\n",
       "      <td>0</td>\n",
       "      <td>0</td>\n",
       "      <td>0</td>\n",
       "      <td>0</td>\n",
       "      <td>0</td>\n",
       "      <td>0.000000</td>\n",
       "    </tr>\n",
       "    <tr>\n",
       "      <th>1220663</th>\n",
       "      <td>0.065457</td>\n",
       "      <td>24</td>\n",
       "      <td>3</td>\n",
       "      <td>17</td>\n",
       "      <td>2.0</td>\n",
       "      <td>0.000000</td>\n",
       "      <td>0.067699</td>\n",
       "      <td>0.054265</td>\n",
       "      <td>1</td>\n",
       "      <td>0.041667</td>\n",
       "      <td>...</td>\n",
       "      <td>0</td>\n",
       "      <td>0</td>\n",
       "      <td>0</td>\n",
       "      <td>0</td>\n",
       "      <td>0</td>\n",
       "      <td>0</td>\n",
       "      <td>0</td>\n",
       "      <td>0</td>\n",
       "      <td>0</td>\n",
       "      <td>0.000000</td>\n",
       "    </tr>\n",
       "    <tr>\n",
       "      <th>1203860</th>\n",
       "      <td>0.211793</td>\n",
       "      <td>23</td>\n",
       "      <td>0</td>\n",
       "      <td>8</td>\n",
       "      <td>10.0</td>\n",
       "      <td>0.000000</td>\n",
       "      <td>0.072913</td>\n",
       "      <td>0.069616</td>\n",
       "      <td>1</td>\n",
       "      <td>0.043478</td>\n",
       "      <td>...</td>\n",
       "      <td>0</td>\n",
       "      <td>0</td>\n",
       "      <td>0</td>\n",
       "      <td>0</td>\n",
       "      <td>0</td>\n",
       "      <td>0</td>\n",
       "      <td>0</td>\n",
       "      <td>0</td>\n",
       "      <td>1</td>\n",
       "      <td>0.043478</td>\n",
       "    </tr>\n",
       "    <tr>\n",
       "      <th>2101772</th>\n",
       "      <td>0.094453</td>\n",
       "      <td>29</td>\n",
       "      <td>5</td>\n",
       "      <td>11</td>\n",
       "      <td>15.0</td>\n",
       "      <td>0.129032</td>\n",
       "      <td>0.055985</td>\n",
       "      <td>0.099753</td>\n",
       "      <td>2</td>\n",
       "      <td>0.068966</td>\n",
       "      <td>...</td>\n",
       "      <td>0</td>\n",
       "      <td>0</td>\n",
       "      <td>0</td>\n",
       "      <td>0</td>\n",
       "      <td>0</td>\n",
       "      <td>0</td>\n",
       "      <td>0</td>\n",
       "      <td>1</td>\n",
       "      <td>1</td>\n",
       "      <td>0.034483</td>\n",
       "    </tr>\n",
       "    <tr>\n",
       "      <th>1899372</th>\n",
       "      <td>0.114676</td>\n",
       "      <td>39</td>\n",
       "      <td>1</td>\n",
       "      <td>16</td>\n",
       "      <td>3.0</td>\n",
       "      <td>0.080645</td>\n",
       "      <td>0.064176</td>\n",
       "      <td>0.058679</td>\n",
       "      <td>2</td>\n",
       "      <td>0.051282</td>\n",
       "      <td>...</td>\n",
       "      <td>0</td>\n",
       "      <td>0</td>\n",
       "      <td>0</td>\n",
       "      <td>0</td>\n",
       "      <td>0</td>\n",
       "      <td>0</td>\n",
       "      <td>0</td>\n",
       "      <td>0</td>\n",
       "      <td>1</td>\n",
       "      <td>0.025641</td>\n",
       "    </tr>\n",
       "  </tbody>\n",
       "</table>\n",
       "<p>5 rows × 24 columns</p>\n",
       "</div>"
      ],
      "text/plain": [
       "          user_id  order_by_user_sequence  order_dow  order_hour_of_day  \\\n",
       "1241637  0.075495                      17          1                 18   \n",
       "1220663  0.065457                      24          3                 17   \n",
       "1203860  0.211793                      23          0                  8   \n",
       "2101772  0.094453                      29          5                 11   \n",
       "1899372  0.114676                      39          1                 16   \n",
       "\n",
       "         days_since_prior_order  product_name  aisle_name  dept_name  \\\n",
       "1241637                     6.0      0.000000    0.028887   0.032212   \n",
       "1220663                     2.0      0.000000    0.067699   0.054265   \n",
       "1203860                    10.0      0.000000    0.072913   0.069616   \n",
       "2101772                    15.0      0.129032    0.055985   0.099753   \n",
       "1899372                     3.0      0.080645    0.064176   0.058679   \n",
       "\n",
       "         prior_purchases  purchased_percent_prior  ...  fresh  green  mix  \\\n",
       "1241637                1                 0.058824  ...      0      0    0   \n",
       "1220663                1                 0.041667  ...      0      0    0   \n",
       "1203860                1                 0.043478  ...      0      0    0   \n",
       "2101772                2                 0.068966  ...      0      0    0   \n",
       "1899372                2                 0.051282  ...      0      0    0   \n",
       "\n",
       "         natural  organic  original  sweet  white  purchased_early_past  \\\n",
       "1241637        0        0         0      0      0                     0   \n",
       "1220663        0        0         0      0      0                     0   \n",
       "1203860        0        0         0      0      0                     1   \n",
       "2101772        0        0         0      0      1                     1   \n",
       "1899372        0        0         0      0      0                     1   \n",
       "\n",
       "         percent_past_purchased_early  \n",
       "1241637                      0.000000  \n",
       "1220663                      0.000000  \n",
       "1203860                      0.043478  \n",
       "2101772                      0.034483  \n",
       "1899372                      0.025641  \n",
       "\n",
       "[5 rows x 24 columns]"
      ]
     },
     "execution_count": 15,
     "metadata": {},
     "output_type": "execute_result"
    }
   ],
   "source": [
    "# Try a Bayesian encoder. Start with LeaveOneOut. Even though it has less contaminiation\n",
    "# than other Bayesian encoders, it's best to split data first. \n",
    "\n",
    "Xloo_train, Xloo_test, yloo_train, yloo_test = train_test_split(X, y, test_size=0.3)\n",
    "\n",
    "ce_loo = ce.leave_one_out.LeaveOneOutEncoder(cols=categorical_columns, random_state=43)\n",
    "ce_loo.fit(Xloo_train, yloo_train)\n",
    "Xloo_train = ce_loo.transform(Xloo_train)\n",
    "Xloo_test = ce_loo.transform(Xloo_test)\n",
    "\n",
    "Xloo_train.head()"
   ]
  },
  {
   "cell_type": "code",
   "execution_count": 16,
   "id": "50447aa9",
   "metadata": {},
   "outputs": [
    {
     "name": "stdout",
     "output_type": "stream",
     "text": [
      "prod min 0.0\n",
      "prod max 1.0\n"
     ]
    }
   ],
   "source": [
    "print('prod min', Xloo_train['product_name'].min())\n",
    "print('prod max', Xloo_train['product_name'].max())"
   ]
  },
  {
   "cell_type": "code",
   "execution_count": 17,
   "id": "4ce7fddf",
   "metadata": {},
   "outputs": [
    {
     "name": "stdout",
     "output_type": "stream",
     "text": [
      "LeaveOneOut bagging f1 score:  0.26707732371794873\n",
      "LeaveOneOut bagging kappa score:  0.2307775958994306\n",
      "LeaveOneOut bagging roc_auc score:  0.5817464346841479\n",
      "LeaveOneOut bagging log_loss score:  3.099963945064664\n",
      "AxesSubplot(0.125,0.11;0.62x0.77)\n"
     ]
    },
    {
     "data": {
      "image/png": "[encoded data removed]",
      "text/plain": [
       "<Figure size 640x480 with 2 Axes>"
      ]
     },
     "metadata": {},
     "output_type": "display_data"
    }
   ],
   "source": [
    "# Now try this encoded data in models after standardization\n",
    "\n",
    "scaler = StandardScaler()\n",
    "Xloo_train_scaled = scaler.fit_transform(Xloo_train)\n",
    "Xloo_test_scaled = scaler.transform(Xloo_test)\n",
    "\n",
    "bgg_clf = BaggingClassifier()\n",
    "bgg_clf = bgg_clf.fit(Xloo_train_scaled, yloo_train)\n",
    "yloo_pred = bgg_clf.predict(Xloo_test_scaled)\n",
    "print('LeaveOneOut bagging f1 score: ', metrics.f1_score(yloo_test, yloo_pred))\n",
    "print('LeaveOneOut bagging kappa score: ', metrics.cohen_kappa_score(yloo_test, yloo_pred))\n",
    "print('LeaveOneOut bagging roc_auc score: ', metrics.roc_auc_score(yloo_test, yloo_pred))\n",
    "print('LeaveOneOut bagging log_loss score: ', metrics.log_loss(yloo_test, yloo_pred))\n",
    "cm = metrics.confusion_matrix(yloo_test, yloo_pred)\n",
    "print(sns.heatmap(cm, annot=True, fmt='g'))"
   ]
  },
  {
   "cell_type": "code",
   "execution_count": 18,
   "id": "fc414563",
   "metadata": {},
   "outputs": [
    {
     "name": "stdout",
     "output_type": "stream",
     "text": [
      "LeaveOneOut RF f1 score:  0.2791943152724803\n",
      "LeaveOneOut RF kappa score:  0.2480719972862283\n",
      "LeaveOneOut RF roc_auc score:  0.5847370427798204\n",
      "LeaveOneOut RF log_loss score:  2.9221389256073884\n",
      "AxesSubplot(0.125,0.11;0.62x0.77)\n"
     ]
    },
    {
     "data": {
      "image/png": "[encoded data removed]",
      "text/plain": [
       "<Figure size 640x480 with 2 Axes>"
      ]
     },
     "metadata": {},
     "output_type": "display_data"
    }
   ],
   "source": [
    "rf_clf = RandomForestClassifier()\n",
    "rf_clf = rf_clf.fit(Xloo_train_scaled, yloo_train)\n",
    "yloo_pred = rf_clf.predict(Xloo_test_scaled)\n",
    "print('LeaveOneOut RF f1 score: ', metrics.f1_score(yloo_test, yloo_pred))\n",
    "print('LeaveOneOut RF kappa score: ', metrics.cohen_kappa_score(yloo_test, yloo_pred))\n",
    "print('LeaveOneOut RF roc_auc score: ', metrics.roc_auc_score(yloo_test, yloo_pred))\n",
    "print('LeaveOneOut RF log_loss score: ', metrics.log_loss(yloo_test, yloo_pred))\n",
    "cm = metrics.confusion_matrix(yloo_test, yloo_pred)\n",
    "print(sns.heatmap(cm, annot=True, fmt='g'))"
   ]
  },
  {
   "cell_type": "markdown",
   "id": "13d8ec1d",
   "metadata": {},
   "source": [
    " <font color='violet'>Target Encoder</font>\n",
    " \n",
    "Try the other Bayesian encoders. Just stick with a random forest classifier for now becaue it seems to perform better tha bagging. "
   ]
  },
  {
   "cell_type": "code",
   "execution_count": 19,
   "id": "46ce1d95",
   "metadata": {},
   "outputs": [
    {
     "name": "stderr",
     "output_type": "stream",
     "text": [
      "/Users/admin/opt/anaconda3/lib/python3.9/site-packages/category_encoders/target_encoder.py:122: FutureWarning: Default parameter min_samples_leaf will change in version 2.6.See https://github.com/scikit-learn-contrib/category_encoders/issues/327\n",
      "  warnings.warn(\"Default parameter min_samples_leaf will change in version 2.6.\"\n",
      "/Users/admin/opt/anaconda3/lib/python3.9/site-packages/category_encoders/target_encoder.py:127: FutureWarning: Default parameter smoothing will change in version 2.6.See https://github.com/scikit-learn-contrib/category_encoders/issues/327\n",
      "  warnings.warn(\"Default parameter smoothing will change in version 2.6.\"\n"
     ]
    },
    {
     "data": {
      "text/html": [
       "<div>\n",
       "<style scoped>\n",
       "    .dataframe tbody tr th:only-of-type {\n",
       "        vertical-align: middle;\n",
       "    }\n",
       "\n",
       "    .dataframe tbody tr th {\n",
       "        vertical-align: top;\n",
       "    }\n",
       "\n",
       "    .dataframe thead th {\n",
       "        text-align: right;\n",
       "    }\n",
       "</style>\n",
       "<table border=\"1\" class=\"dataframe\">\n",
       "  <thead>\n",
       "    <tr style=\"text-align: right;\">\n",
       "      <th></th>\n",
       "      <th>user_id</th>\n",
       "      <th>order_by_user_sequence</th>\n",
       "      <th>order_dow</th>\n",
       "      <th>order_hour_of_day</th>\n",
       "      <th>days_since_prior_order</th>\n",
       "      <th>product_name</th>\n",
       "      <th>aisle_name</th>\n",
       "      <th>dept_name</th>\n",
       "      <th>prior_purchases</th>\n",
       "      <th>purchased_percent_prior</th>\n",
       "      <th>...</th>\n",
       "      <th>fresh</th>\n",
       "      <th>green</th>\n",
       "      <th>mix</th>\n",
       "      <th>natural</th>\n",
       "      <th>organic</th>\n",
       "      <th>original</th>\n",
       "      <th>sweet</th>\n",
       "      <th>white</th>\n",
       "      <th>purchased_early_past</th>\n",
       "      <th>percent_past_purchased_early</th>\n",
       "    </tr>\n",
       "  </thead>\n",
       "  <tbody>\n",
       "    <tr>\n",
       "      <th>1678105</th>\n",
       "      <td>0.103448</td>\n",
       "      <td>2</td>\n",
       "      <td>1</td>\n",
       "      <td>16</td>\n",
       "      <td>30.0</td>\n",
       "      <td>0.035176</td>\n",
       "      <td>0.041614</td>\n",
       "      <td>0.032063</td>\n",
       "      <td>1</td>\n",
       "      <td>0.500000</td>\n",
       "      <td>...</td>\n",
       "      <td>0</td>\n",
       "      <td>0</td>\n",
       "      <td>0</td>\n",
       "      <td>0</td>\n",
       "      <td>1</td>\n",
       "      <td>0</td>\n",
       "      <td>0</td>\n",
       "      <td>0</td>\n",
       "      <td>0</td>\n",
       "      <td>0.000000</td>\n",
       "    </tr>\n",
       "    <tr>\n",
       "      <th>102068</th>\n",
       "      <td>0.078921</td>\n",
       "      <td>48</td>\n",
       "      <td>0</td>\n",
       "      <td>17</td>\n",
       "      <td>4.0</td>\n",
       "      <td>0.164700</td>\n",
       "      <td>0.087581</td>\n",
       "      <td>0.123310</td>\n",
       "      <td>10</td>\n",
       "      <td>0.208333</td>\n",
       "      <td>...</td>\n",
       "      <td>0</td>\n",
       "      <td>0</td>\n",
       "      <td>0</td>\n",
       "      <td>0</td>\n",
       "      <td>1</td>\n",
       "      <td>0</td>\n",
       "      <td>0</td>\n",
       "      <td>0</td>\n",
       "      <td>2</td>\n",
       "      <td>0.041667</td>\n",
       "    </tr>\n",
       "    <tr>\n",
       "      <th>462759</th>\n",
       "      <td>0.073744</td>\n",
       "      <td>54</td>\n",
       "      <td>6</td>\n",
       "      <td>8</td>\n",
       "      <td>10.0</td>\n",
       "      <td>0.106299</td>\n",
       "      <td>0.111291</td>\n",
       "      <td>0.111828</td>\n",
       "      <td>5</td>\n",
       "      <td>0.092593</td>\n",
       "      <td>...</td>\n",
       "      <td>0</td>\n",
       "      <td>0</td>\n",
       "      <td>0</td>\n",
       "      <td>0</td>\n",
       "      <td>0</td>\n",
       "      <td>0</td>\n",
       "      <td>0</td>\n",
       "      <td>0</td>\n",
       "      <td>3</td>\n",
       "      <td>0.055556</td>\n",
       "    </tr>\n",
       "    <tr>\n",
       "      <th>348669</th>\n",
       "      <td>0.173077</td>\n",
       "      <td>4</td>\n",
       "      <td>0</td>\n",
       "      <td>19</td>\n",
       "      <td>30.0</td>\n",
       "      <td>0.158730</td>\n",
       "      <td>0.085969</td>\n",
       "      <td>0.082957</td>\n",
       "      <td>2</td>\n",
       "      <td>0.500000</td>\n",
       "      <td>...</td>\n",
       "      <td>0</td>\n",
       "      <td>0</td>\n",
       "      <td>0</td>\n",
       "      <td>0</td>\n",
       "      <td>0</td>\n",
       "      <td>0</td>\n",
       "      <td>0</td>\n",
       "      <td>0</td>\n",
       "      <td>1</td>\n",
       "      <td>0.250000</td>\n",
       "    </tr>\n",
       "    <tr>\n",
       "      <th>686686</th>\n",
       "      <td>0.099096</td>\n",
       "      <td>33</td>\n",
       "      <td>0</td>\n",
       "      <td>11</td>\n",
       "      <td>7.0</td>\n",
       "      <td>0.000000</td>\n",
       "      <td>0.020396</td>\n",
       "      <td>0.032063</td>\n",
       "      <td>1</td>\n",
       "      <td>0.030303</td>\n",
       "      <td>...</td>\n",
       "      <td>0</td>\n",
       "      <td>0</td>\n",
       "      <td>0</td>\n",
       "      <td>0</td>\n",
       "      <td>1</td>\n",
       "      <td>1</td>\n",
       "      <td>0</td>\n",
       "      <td>0</td>\n",
       "      <td>1</td>\n",
       "      <td>0.030303</td>\n",
       "    </tr>\n",
       "  </tbody>\n",
       "</table>\n",
       "<p>5 rows × 24 columns</p>\n",
       "</div>"
      ],
      "text/plain": [
       "          user_id  order_by_user_sequence  order_dow  order_hour_of_day  \\\n",
       "1678105  0.103448                       2          1                 16   \n",
       "102068   0.078921                      48          0                 17   \n",
       "462759   0.073744                      54          6                  8   \n",
       "348669   0.173077                       4          0                 19   \n",
       "686686   0.099096                      33          0                 11   \n",
       "\n",
       "         days_since_prior_order  product_name  aisle_name  dept_name  \\\n",
       "1678105                    30.0      0.035176    0.041614   0.032063   \n",
       "102068                      4.0      0.164700    0.087581   0.123310   \n",
       "462759                     10.0      0.106299    0.111291   0.111828   \n",
       "348669                     30.0      0.158730    0.085969   0.082957   \n",
       "686686                      7.0      0.000000    0.020396   0.032063   \n",
       "\n",
       "         prior_purchases  purchased_percent_prior  ...  fresh  green  mix  \\\n",
       "1678105                1                 0.500000  ...      0      0    0   \n",
       "102068                10                 0.208333  ...      0      0    0   \n",
       "462759                 5                 0.092593  ...      0      0    0   \n",
       "348669                 2                 0.500000  ...      0      0    0   \n",
       "686686                 1                 0.030303  ...      0      0    0   \n",
       "\n",
       "         natural  organic  original  sweet  white  purchased_early_past  \\\n",
       "1678105        0        1         0      0      0                     0   \n",
       "102068         0        1         0      0      0                     2   \n",
       "462759         0        0         0      0      0                     3   \n",
       "348669         0        0         0      0      0                     1   \n",
       "686686         0        1         1      0      0                     1   \n",
       "\n",
       "         percent_past_purchased_early  \n",
       "1678105                      0.000000  \n",
       "102068                       0.041667  \n",
       "462759                       0.055556  \n",
       "348669                       0.250000  \n",
       "686686                       0.030303  \n",
       "\n",
       "[5 rows x 24 columns]"
      ]
     },
     "execution_count": 19,
     "metadata": {},
     "output_type": "execute_result"
    }
   ],
   "source": [
    "Xtar_train, Xtar_test, ytar_train, ytar_test = train_test_split(X, y, test_size=0.3)\n",
    "\n",
    "ce_tar = ce.target_encoder.TargetEncoder(cols=categorical_columns)\n",
    "ce_tar.fit(Xtar_train, ytar_train)\n",
    "Xtar_train = ce_tar.transform(Xtar_train)\n",
    "Xtar_test = ce_tar.transform(Xtar_test)\n",
    "\n",
    "Xtar_train.head()"
   ]
  },
  {
   "cell_type": "code",
   "execution_count": 20,
   "id": "5f3a65b5",
   "metadata": {},
   "outputs": [
    {
     "name": "stdout",
     "output_type": "stream",
     "text": [
      "prod min 0.0\n",
      "prod max 0.9999979438200647\n"
     ]
    }
   ],
   "source": [
    "print('prod min', Xtar_train['product_name'].min())\n",
    "print('prod max', Xtar_train['product_name'].max())"
   ]
  },
  {
   "cell_type": "code",
   "execution_count": 21,
   "id": "8179955d",
   "metadata": {},
   "outputs": [
    {
     "name": "stdout",
     "output_type": "stream",
     "text": [
      "Target RF f1 score:  0.27715346051175205\n",
      "Target RF kappa score:  0.24580029841131557\n",
      "Target RF roc_auc score:  0.5840113328317595\n",
      "Target RF log_loss score:  2.9395610890285866\n",
      "AxesSubplot(0.125,0.11;0.62x0.77)\n"
     ]
    },
    {
     "data": {
      "image/png": "[encoded data removed]",
      "text/plain": [
       "<Figure size 640x480 with 2 Axes>"
      ]
     },
     "metadata": {},
     "output_type": "display_data"
    }
   ],
   "source": [
    "scaler = StandardScaler()\n",
    "Xtar_train_scaled = scaler.fit_transform(Xtar_train)\n",
    "Xtar_test_scaled = scaler.transform(Xtar_test)\n",
    "\n",
    "rf_clf = RandomForestClassifier()\n",
    "rf_clf = rf_clf.fit(Xtar_train_scaled, ytar_train)\n",
    "ytar_pred = rf_clf.predict(Xtar_test_scaled)\n",
    "print('Target RF f1 score: ', metrics.f1_score(ytar_test, ytar_pred))\n",
    "print('Target RF kappa score: ', metrics.cohen_kappa_score(ytar_test, ytar_pred))\n",
    "print('Target RF roc_auc score: ', metrics.roc_auc_score(ytar_test, ytar_pred))\n",
    "print('Target RF log_loss score: ', metrics.log_loss(ytar_test, ytar_pred))\n",
    "cm = metrics.confusion_matrix(ytar_test, ytar_pred)\n",
    "print(sns.heatmap(cm, annot=True, fmt='g'))"
   ]
  },
  {
   "cell_type": "markdown",
   "id": "b369bfec",
   "metadata": {},
   "source": [
    " <font color='violet'>Weight of Evidence Encoder</font>\n",
    "\n",
    "TargetEncoder seems to perform comprably with LeaveOneOut. Try WeightofEvidence. "
   ]
  },
  {
   "cell_type": "code",
   "execution_count": 22,
   "id": "dd732f76",
   "metadata": {},
   "outputs": [
    {
     "data": {
      "text/html": [
       "<div>\n",
       "<style scoped>\n",
       "    .dataframe tbody tr th:only-of-type {\n",
       "        vertical-align: middle;\n",
       "    }\n",
       "\n",
       "    .dataframe tbody tr th {\n",
       "        vertical-align: top;\n",
       "    }\n",
       "\n",
       "    .dataframe thead th {\n",
       "        text-align: right;\n",
       "    }\n",
       "</style>\n",
       "<table border=\"1\" class=\"dataframe\">\n",
       "  <thead>\n",
       "    <tr style=\"text-align: right;\">\n",
       "      <th></th>\n",
       "      <th>user_id</th>\n",
       "      <th>order_by_user_sequence</th>\n",
       "      <th>order_dow</th>\n",
       "      <th>order_hour_of_day</th>\n",
       "      <th>days_since_prior_order</th>\n",
       "      <th>product_name</th>\n",
       "      <th>aisle_name</th>\n",
       "      <th>dept_name</th>\n",
       "      <th>prior_purchases</th>\n",
       "      <th>purchased_percent_prior</th>\n",
       "      <th>...</th>\n",
       "      <th>fresh</th>\n",
       "      <th>green</th>\n",
       "      <th>mix</th>\n",
       "      <th>natural</th>\n",
       "      <th>organic</th>\n",
       "      <th>original</th>\n",
       "      <th>sweet</th>\n",
       "      <th>white</th>\n",
       "      <th>purchased_early_past</th>\n",
       "      <th>percent_past_purchased_early</th>\n",
       "    </tr>\n",
       "  </thead>\n",
       "  <tbody>\n",
       "    <tr>\n",
       "      <th>1706797</th>\n",
       "      <td>-1.191071</td>\n",
       "      <td>90</td>\n",
       "      <td>3</td>\n",
       "      <td>17</td>\n",
       "      <td>3.0</td>\n",
       "      <td>-0.242409</td>\n",
       "      <td>-0.528501</td>\n",
       "      <td>-0.136421</td>\n",
       "      <td>0</td>\n",
       "      <td>0.000000</td>\n",
       "      <td>...</td>\n",
       "      <td>0</td>\n",
       "      <td>0</td>\n",
       "      <td>0</td>\n",
       "      <td>0</td>\n",
       "      <td>1</td>\n",
       "      <td>0</td>\n",
       "      <td>0</td>\n",
       "      <td>0</td>\n",
       "      <td>0</td>\n",
       "      <td>0.00</td>\n",
       "    </tr>\n",
       "    <tr>\n",
       "      <th>170543</th>\n",
       "      <td>0.430866</td>\n",
       "      <td>4</td>\n",
       "      <td>2</td>\n",
       "      <td>16</td>\n",
       "      <td>7.0</td>\n",
       "      <td>-1.341022</td>\n",
       "      <td>-1.339295</td>\n",
       "      <td>-1.091708</td>\n",
       "      <td>1</td>\n",
       "      <td>0.250000</td>\n",
       "      <td>...</td>\n",
       "      <td>0</td>\n",
       "      <td>0</td>\n",
       "      <td>0</td>\n",
       "      <td>0</td>\n",
       "      <td>0</td>\n",
       "      <td>0</td>\n",
       "      <td>0</td>\n",
       "      <td>0</td>\n",
       "      <td>0</td>\n",
       "      <td>0.00</td>\n",
       "    </tr>\n",
       "    <tr>\n",
       "      <th>325777</th>\n",
       "      <td>0.290068</td>\n",
       "      <td>50</td>\n",
       "      <td>1</td>\n",
       "      <td>6</td>\n",
       "      <td>3.0</td>\n",
       "      <td>0.167033</td>\n",
       "      <td>-0.025178</td>\n",
       "      <td>0.239666</td>\n",
       "      <td>1</td>\n",
       "      <td>0.020000</td>\n",
       "      <td>...</td>\n",
       "      <td>0</td>\n",
       "      <td>0</td>\n",
       "      <td>0</td>\n",
       "      <td>0</td>\n",
       "      <td>1</td>\n",
       "      <td>0</td>\n",
       "      <td>0</td>\n",
       "      <td>0</td>\n",
       "      <td>1</td>\n",
       "      <td>0.02</td>\n",
       "    </tr>\n",
       "    <tr>\n",
       "      <th>1020713</th>\n",
       "      <td>0.584717</td>\n",
       "      <td>14</td>\n",
       "      <td>2</td>\n",
       "      <td>17</td>\n",
       "      <td>5.0</td>\n",
       "      <td>-0.986200</td>\n",
       "      <td>-1.081991</td>\n",
       "      <td>-0.959776</td>\n",
       "      <td>1</td>\n",
       "      <td>0.071429</td>\n",
       "      <td>...</td>\n",
       "      <td>0</td>\n",
       "      <td>0</td>\n",
       "      <td>0</td>\n",
       "      <td>0</td>\n",
       "      <td>0</td>\n",
       "      <td>0</td>\n",
       "      <td>0</td>\n",
       "      <td>0</td>\n",
       "      <td>0</td>\n",
       "      <td>0.00</td>\n",
       "    </tr>\n",
       "    <tr>\n",
       "      <th>814671</th>\n",
       "      <td>0.420747</td>\n",
       "      <td>18</td>\n",
       "      <td>6</td>\n",
       "      <td>9</td>\n",
       "      <td>6.0</td>\n",
       "      <td>0.330380</td>\n",
       "      <td>0.238380</td>\n",
       "      <td>0.239666</td>\n",
       "      <td>3</td>\n",
       "      <td>0.166667</td>\n",
       "      <td>...</td>\n",
       "      <td>0</td>\n",
       "      <td>0</td>\n",
       "      <td>0</td>\n",
       "      <td>0</td>\n",
       "      <td>1</td>\n",
       "      <td>0</td>\n",
       "      <td>0</td>\n",
       "      <td>0</td>\n",
       "      <td>0</td>\n",
       "      <td>0.00</td>\n",
       "    </tr>\n",
       "  </tbody>\n",
       "</table>\n",
       "<p>5 rows × 24 columns</p>\n",
       "</div>"
      ],
      "text/plain": [
       "          user_id  order_by_user_sequence  order_dow  order_hour_of_day  \\\n",
       "1706797 -1.191071                      90          3                 17   \n",
       "170543   0.430866                       4          2                 16   \n",
       "325777   0.290068                      50          1                  6   \n",
       "1020713  0.584717                      14          2                 17   \n",
       "814671   0.420747                      18          6                  9   \n",
       "\n",
       "         days_since_prior_order  product_name  aisle_name  dept_name  \\\n",
       "1706797                     3.0     -0.242409   -0.528501  -0.136421   \n",
       "170543                      7.0     -1.341022   -1.339295  -1.091708   \n",
       "325777                      3.0      0.167033   -0.025178   0.239666   \n",
       "1020713                     5.0     -0.986200   -1.081991  -0.959776   \n",
       "814671                      6.0      0.330380    0.238380   0.239666   \n",
       "\n",
       "         prior_purchases  purchased_percent_prior  ...  fresh  green  mix  \\\n",
       "1706797                0                 0.000000  ...      0      0    0   \n",
       "170543                 1                 0.250000  ...      0      0    0   \n",
       "325777                 1                 0.020000  ...      0      0    0   \n",
       "1020713                1                 0.071429  ...      0      0    0   \n",
       "814671                 3                 0.166667  ...      0      0    0   \n",
       "\n",
       "         natural  organic  original  sweet  white  purchased_early_past  \\\n",
       "1706797        0        1         0      0      0                     0   \n",
       "170543         0        0         0      0      0                     0   \n",
       "325777         0        1         0      0      0                     1   \n",
       "1020713        0        0         0      0      0                     0   \n",
       "814671         0        1         0      0      0                     0   \n",
       "\n",
       "         percent_past_purchased_early  \n",
       "1706797                          0.00  \n",
       "170543                           0.00  \n",
       "325777                           0.02  \n",
       "1020713                          0.00  \n",
       "814671                           0.00  \n",
       "\n",
       "[5 rows x 24 columns]"
      ]
     },
     "execution_count": 22,
     "metadata": {},
     "output_type": "execute_result"
    }
   ],
   "source": [
    "Xwoe_train, Xwoe_test, ywoe_train, ywoe_test = train_test_split(X, y, test_size=0.3)\n",
    "\n",
    "ce_woe = ce.woe.WOEEncoder(cols=categorical_columns, random_state=43)\n",
    "ce_woe.fit(Xwoe_train, ywoe_train)\n",
    "Xwoe_train = ce_woe.transform(Xwoe_train)\n",
    "Xwoe_test = ce_woe.transform(Xwoe_test)\n",
    "\n",
    "Xwoe_train.head()"
   ]
  },
  {
   "cell_type": "code",
   "execution_count": 23,
   "id": "54ab38b4",
   "metadata": {},
   "outputs": [
    {
     "name": "stdout",
     "output_type": "stream",
     "text": [
      "prod min -3.7306180347206883\n",
      "prod max 5.305368950110716\n"
     ]
    }
   ],
   "source": [
    "# Unlike the others, this encoder seems to return a range of values. What do these look like?\n",
    "\n",
    "print('prod min', Xwoe_train['product_name'].min())\n",
    "print('prod max', Xwoe_train['product_name'].max())"
   ]
  },
  {
   "cell_type": "code",
   "execution_count": 24,
   "id": "04acab9d",
   "metadata": {},
   "outputs": [
    {
     "name": "stdout",
     "output_type": "stream",
     "text": [
      "dept min -1.0971734420103874\n",
      "dept max 0.37821945505842813\n"
     ]
    }
   ],
   "source": [
    "print('dept min', Xwoe_train['dept_name'].min())\n",
    "print('dept max', Xwoe_train['dept_name'].max())"
   ]
  },
  {
   "cell_type": "code",
   "execution_count": 25,
   "id": "a9fbe53c",
   "metadata": {},
   "outputs": [
    {
     "name": "stdout",
     "output_type": "stream",
     "text": [
      "user min -2.167700137921481\n",
      "user max 3.8137140733329997\n"
     ]
    }
   ],
   "source": [
    "print('user min', Xwoe_train['user_id'].min())\n",
    "print('user max', Xwoe_train['user_id'].max())"
   ]
  },
  {
   "cell_type": "code",
   "execution_count": 26,
   "id": "ab1756d6",
   "metadata": {},
   "outputs": [
    {
     "name": "stdout",
     "output_type": "stream",
     "text": [
      "WeightofEvidence RF f1 score:  0.2743086820916363\n",
      "WeightofEvidence RF kappa score:  0.2430505185446059\n",
      "WeightofEvidence RF roc_auc score:  0.5829360156503187\n",
      "WeightofEvidence RF log_loss score:  2.944750599717889\n",
      "AxesSubplot(0.125,0.11;0.62x0.77)\n"
     ]
    },
    {
     "data": {
      "image/png": "[encoded data removed]",
      "text/plain": [
       "<Figure size 640x480 with 2 Axes>"
      ]
     },
     "metadata": {},
     "output_type": "display_data"
    }
   ],
   "source": [
    "scaler = StandardScaler()\n",
    "Xwoe_train_scaled = scaler.fit_transform(Xwoe_train)\n",
    "Xwoe_test_scaled = scaler.transform(Xwoe_test)\n",
    "\n",
    "rf_clf = RandomForestClassifier()\n",
    "rf_clf = rf_clf.fit(Xwoe_train_scaled, ywoe_train)\n",
    "ywoe_pred = rf_clf.predict(Xwoe_test_scaled)\n",
    "print('WeightofEvidence RF f1 score: ', metrics.f1_score(ywoe_test, ywoe_pred))\n",
    "print('WeightofEvidence RF kappa score: ', metrics.cohen_kappa_score(ywoe_test, ywoe_pred))\n",
    "print('WeightofEvidence RF roc_auc score: ', metrics.roc_auc_score(ywoe_test, ywoe_pred))\n",
    "print('WeightofEvidence RF log_loss score: ', metrics.log_loss(ywoe_test, ywoe_pred))\n",
    "cm = metrics.confusion_matrix(ywoe_test, ywoe_pred)\n",
    "print(sns.heatmap(cm, annot=True, fmt='g'))"
   ]
  },
  {
   "cell_type": "markdown",
   "id": "764cae7a",
   "metadata": {},
   "source": [
    "WeightOfEvidence performed comparably to other Bayesian encoders. For further exploration, I'll just use WOE and compare evaluation scores with those immediately above. \n",
    "\n",
    "I can prune the metrics I'm using. The F1 score is easily-explainable and also redundant with the confusion matrix. Kappa isn't super intutive and doesn't seem to vary/provide additional information relative to other metrics. ROC tells how much a model is capable of distinguishing between classes and is a bit more easily explainable than log loss. Log loss, being the log of the likelihood function (how likely it is that a model's predictions are the actual outcomes), is perhaps the most important metric for evaluation. So, in making my selections, I'll prioritize log loss, but I'll consider the area under the curve as well. In the future, I could re-introduce the F1 score and/or confusion matrix in order to better explain model performance to stakeholders. \n",
    "\n",
    "Next, I need to play around and see if any further adjustments to the rows and columns will help improve modeling. \n",
    "\n",
    " <font color='violet'>Try resampling to inspect its effects on model performance: over-sample, under-sample, balanced SVM</font>"
   ]
  },
  {
   "cell_type": "code",
   "execution_count": 27,
   "id": "b2773bb2",
   "metadata": {},
   "outputs": [
    {
     "name": "stdout",
     "output_type": "stream",
     "text": [
      "(1521883, 24) (1521883, 25)\n"
     ]
    }
   ],
   "source": [
    "# Oversample first. Split into train-test sets so I'm only over-sampling the training data\n",
    "X_train, X_test, y_train, y_test = train_test_split(X, y, test_size=0.3)\n",
    "\n",
    "# Put training sets back together for purposes of oversampling\n",
    "train_set = pd.concat([X_train, y_train], axis=1)\n",
    "print(X_train.shape, train_set.shape)"
   ]
  },
  {
   "cell_type": "code",
   "execution_count": 28,
   "id": "c53e8f17",
   "metadata": {},
   "outputs": [
    {
     "data": {
      "text/plain": [
       "196663"
      ]
     },
     "execution_count": 28,
     "metadata": {},
     "output_type": "execute_result"
    }
   ],
   "source": [
    "len(df[df['reordered']==1])"
   ]
  },
  {
   "cell_type": "code",
   "execution_count": 29,
   "id": "156bab13",
   "metadata": {},
   "outputs": [
    {
     "data": {
      "text/plain": [
       "(2111872, 25)"
      ]
     },
     "execution_count": 29,
     "metadata": {},
     "output_type": "execute_result"
    }
   ],
   "source": [
    "# Over-sample the minority class in the training data, to quadruple its size.\n",
    "over_sampled3 = train_set[train_set['reordered']==1].sample(n=589989, axis=0, replace=True, \n",
    "                                                            random_state=43)  \n",
    "quadrupled_reorders = pd.concat([train_set, over_sampled3])\n",
    "quadrupled_reorders.shape"
   ]
  },
  {
   "cell_type": "code",
   "execution_count": 30,
   "id": "5abeeb6e",
   "metadata": {},
   "outputs": [
    {
     "name": "stdout",
     "output_type": "stream",
     "text": [
      "quadruple oversample roc_auc:  0.6186961139540238\n",
      "quadruple oversample log_loss:  3.0555404408123126\n"
     ]
    }
   ],
   "source": [
    "# Now re-split X_train and y_train, then run through encoding and modeling. \n",
    "\n",
    "Xo_train = quadrupled_reorders.drop(columns=['reordered'])\n",
    "yo_train = quadrupled_reorders['reordered']\n",
    "\n",
    "# Try out with WOE encoder & RandomForest\n",
    "ce_woe = ce.woe.WOEEncoder(cols=categorical_columns, random_state=43)\n",
    "ce_woe.fit(Xo_train, yo_train)\n",
    "Xo_train = ce_woe.transform(Xo_train)\n",
    "X_test = ce_woe.transform(X_test)\n",
    "\n",
    "scaler = StandardScaler()\n",
    "Xo_train_scaled = scaler.fit_transform(Xo_train)\n",
    "X_test_scaled = scaler.transform(X_test)\n",
    "\n",
    "rf_clf = RandomForestClassifier()\n",
    "rf_clf = rf_clf.fit(Xo_train_scaled, yo_train)\n",
    "y_pred = rf_clf.predict(X_test_scaled)\n",
    "\n",
    "print('quadruple oversample roc_auc: ', metrics.roc_auc_score(y_test, y_pred))\n",
    "print('quadruple oversample log_loss: ', metrics.log_loss(y_test, y_pred))"
   ]
  },
  {
   "cell_type": "markdown",
   "id": "9951a504",
   "metadata": {},
   "source": [
    "This modeling with over-sampled training data performed less well than the same encoder/classifier using the original data. \n",
    "\n",
    "Next, try a different method for dealing with unbalanced data. "
   ]
  },
  {
   "cell_type": "code",
   "execution_count": 31,
   "id": "1e687ff8",
   "metadata": {},
   "outputs": [
    {
     "data": {
      "text/plain": [
       "1521883"
      ]
     },
     "execution_count": 31,
     "metadata": {},
     "output_type": "execute_result"
    }
   ],
   "source": [
    "# Undersample the majority class. Cut the index in half. This will leave the dataset with about \n",
    "# a 5:1 non-reorders:reorders. Rather than the original ratio of 9:1\n",
    "len(train_set)"
   ]
  },
  {
   "cell_type": "code",
   "execution_count": 32,
   "id": "9597103a",
   "metadata": {},
   "outputs": [
    {
     "data": {
      "text/plain": [
       "760941"
      ]
     },
     "execution_count": 32,
     "metadata": {},
     "output_type": "execute_result"
    }
   ],
   "source": [
    "index_to_drop = random.sample(train_set.index.to_list(),760942)\n",
    "undersampled = train_set.drop(index_to_drop)\n",
    "len(undersampled)"
   ]
  },
  {
   "cell_type": "code",
   "execution_count": 33,
   "id": "fdc83236",
   "metadata": {},
   "outputs": [
    {
     "name": "stdout",
     "output_type": "stream",
     "text": [
      "undersampled roc_auc:  0.5792350248898528\n",
      "undersampled log_loss:  3.324920182063632\n"
     ]
    }
   ],
   "source": [
    "# Again, re-split X_train and y_train, then run through encoding and modeling. \n",
    "\n",
    "Xu_train = undersampled.drop(columns=['reordered'])\n",
    "yu_train = undersampled['reordered']\n",
    "\n",
    "# Try out with WOE encoder & RandomForest\n",
    "ce_woe = ce.woe.WOEEncoder(cols=categorical_columns, random_state=43)\n",
    "ce_woe.fit(Xo_train, yo_train)\n",
    "Xu_train = ce_woe.transform(Xu_train)\n",
    "X_test = ce_woe.transform(X_test)\n",
    "\n",
    "scaler = StandardScaler()\n",
    "Xu_train_scaled = scaler.fit_transform(Xu_train)\n",
    "X_test_scaled = scaler.transform(X_test)\n",
    "\n",
    "rf_clf = RandomForestClassifier()\n",
    "rf_clf = rf_clf.fit(Xu_train_scaled, yu_train)\n",
    "y_pred = rf_clf.predict(X_test_scaled)\n",
    "\n",
    "print('undersampled roc_auc: ', metrics.roc_auc_score(y_test, y_pred))\n",
    "print('undersampled log_loss: ', metrics.log_loss(y_test, y_pred))"
   ]
  },
  {
   "cell_type": "code",
   "execution_count": 34,
   "id": "d8f84f99",
   "metadata": {},
   "outputs": [
    {
     "name": "stderr",
     "output_type": "stream",
     "text": [
      "/Users/admin/opt/anaconda3/lib/python3.9/site-packages/sklearn/svm/_base.py:284: ConvergenceWarning: Solver terminated early (max_iter=1).  Consider pre-processing your data with StandardScaler or MinMaxScaler.\n",
      "  warnings.warn(\n"
     ]
    },
    {
     "name": "stdout",
     "output_type": "stream",
     "text": [
      "Target SVM balance roc_auc score:  0.5\n",
      "Target SVM balance log_loss score:  31.404813819687707\n"
     ]
    }
   ],
   "source": [
    "# Undersampling is definitely a bad idea, even with the large size of the data. \n",
    "# Try using a support vector macine's class_weight parameter to balance the classes. \n",
    "# Work from the data previously encoded using WOE Encoder. \n",
    "\n",
    "svm_svc_clf = svm.SVC(class_weight='balanced', max_iter=1, random_state=43)\n",
    "svm_svc_clf = svm_svc_clf.fit(Xwoe_train_scaled, ywoe_train)\n",
    "ywoe_pred = svm_svc_clf.predict(Xwoe_test_scaled)\n",
    "print('Target SVM balance roc_auc score: ', metrics.roc_auc_score(ywoe_test, ywoe_pred))\n",
    "print('Target SVM balance log_loss score: ', metrics.log_loss(ywoe_test, ywoe_pred))"
   ]
  },
  {
   "cell_type": "markdown",
   "id": "06b92642",
   "metadata": {},
   "source": [
    "The SVM model, even with balancing, performed as absysmally as the last time I tried. \n",
    "\n",
    " <font color='violet'>Try removing rows where department = missing, since this category of products may bring incoherence to the dept_name feature.</font>"
   ]
  },
  {
   "cell_type": "code",
   "execution_count": 35,
   "id": "c1eadb0a",
   "metadata": {},
   "outputs": [
    {
     "name": "stdout",
     "output_type": "stream",
     "text": [
      "2174119 2170652\n"
     ]
    }
   ],
   "source": [
    "# Get new dataset with missing rows removed\n",
    "missing_dept = df[df['dept_name']=='missing'].index.to_list()\n",
    "df_no_missing_dept = df.drop(missing_dept)\n",
    "print(len(df), len(df_no_missing_dept))"
   ]
  },
  {
   "cell_type": "code",
   "execution_count": 36,
   "id": "eefb401f",
   "metadata": {},
   "outputs": [
    {
     "name": "stdout",
     "output_type": "stream",
     "text": [
      "WOE CF w/o missing dept roc_auc score:  0.5853671146219892\n",
      "WOE CF w/o missing dept log_loss score:  2.9194335012979726\n"
     ]
    }
   ],
   "source": [
    "# Try modeling with this dataset. \n",
    "\n",
    "X_no_miss = df_no_missing_dept.drop(columns=['reordered', 'add_to_cart_sequence'])\n",
    "y_no_miss = df_no_missing_dept['reordered']\n",
    "X_no_miss_train, X_no_miss_test, y_no_miss_train, y_no_miss_test = train_test_split(\n",
    "    X_no_miss, y_no_miss, test_size=0.3)\n",
    "\n",
    "ce_woe = ce.woe.WOEEncoder(cols=categorical_columns, random_state=43)\n",
    "ce_woe.fit(X_no_miss_train, y_no_miss_train)\n",
    "Xwoe_train = ce_woe.transform(X_no_miss_train)\n",
    "Xwoe_test = ce_woe.transform(X_no_miss_test)\n",
    "\n",
    "scaler = StandardScaler()\n",
    "X_no_miss_train_scaled = scaler.fit_transform(Xwoe_train)\n",
    "X_no_miss_test_scaled = scaler.transform(Xwoe_test)\n",
    "\n",
    "rf_clf = RandomForestClassifier()\n",
    "rf_clf = rf_clf.fit(X_no_miss_train_scaled, y_no_miss_train)\n",
    "y_no_miss_pred = rf_clf.predict(X_no_miss_test_scaled)\n",
    "\n",
    "print('WOE CF w/o missing dept roc_auc score: ', metrics.roc_auc_score(\n",
    "    y_no_miss_test, y_no_miss_pred))\n",
    "print('WOE CF w/o missing dept log_loss score: ', metrics.log_loss(\n",
    "    y_no_miss_test, y_no_miss_pred))"
   ]
  },
  {
   "cell_type": "markdown",
   "id": "dbd590cf",
   "metadata": {},
   "source": [
    "Evaluation metrics from when I used the same encoder and classifer without dropping rows that had a 'missing' department name:\n",
    "\n",
    "- WeightofEvidence RF roc_auc score:  0.5829360156503187\n",
    "- WeightofEvidence RF log_loss score:  2.944750599717889\n",
    "\n",
    "The log loss is lower and the area under the curve is higher when dropping all rows involving orders of products from the 'missing' department. My hypothesis is that these items did in fact bring incoherence to the dept_name column by skewing patterns in inherent 'reorder-ability' for popular departments such as 'dairy & eggs.'\n",
    "\n",
    "In a real-world situation, if we definitely wanted to be able to recommend those items currently in the 'missing' department, it would make more sense to reclassify items. As it is, if I keep the missing department's rows, they hinder the model's ability to correctly predict all other items' reorders. \n",
    "\n",
    " <font color='violet'>PCA</font>\n",
    " \n",
    "Finally, try dimensionality reduction to see if this improves performance at all. \n",
    "\n",
    "Find intrinsic dimensions of independent variables from a training set. Use the encoded, normalized training set from the df I just created with all rows except those where the department name was missing. "
   ]
  },
  {
   "cell_type": "code",
   "execution_count": 37,
   "id": "85fc5fcf",
   "metadata": {},
   "outputs": [
    {
     "data": {
      "image/png": "[encoded data removed]",
      "text/plain": [
       "<Figure size 640x480 with 1 Axes>"
      ]
     },
     "metadata": {},
     "output_type": "display_data"
    }
   ],
   "source": [
    "pca = PCA()\n",
    "pca.fit(X_no_miss_train_scaled)\n",
    "features = range(pca.n_components_)\n",
    "\n",
    "#Plot variances of PCA featuers\n",
    "plt.bar(features, pca.explained_variance_)\n",
    "plt.xticks(features)\n",
    "plt.ylabel('variance')\n",
    "plt.xlabel('PCA feature')\n",
    "plt.show()"
   ]
  },
  {
   "cell_type": "code",
   "execution_count": 38,
   "id": "20f8c7ba",
   "metadata": {},
   "outputs": [
    {
     "data": {
      "text/plain": [
       "array([3.5021547 , 1.93238525, 1.80374474, 1.17819233, 1.08042779,\n",
       "       1.05057949, 1.04078505, 1.02365029, 1.00938969, 0.99987922,\n",
       "       0.99679288, 0.99128187, 0.96038352, 0.95430189, 0.93966363,\n",
       "       0.90881941, 0.82932179, 0.75069184, 0.68646842, 0.54147558,\n",
       "       0.36148173, 0.25535217, 0.15364445, 0.04914805])"
      ]
     },
     "execution_count": 38,
     "metadata": {},
     "output_type": "execute_result"
    }
   ],
   "source": [
    "pca.explained_variance_"
   ]
  },
  {
   "cell_type": "code",
   "execution_count": 39,
   "id": "ab622734",
   "metadata": {},
   "outputs": [
    {
     "name": "stdout",
     "output_type": "stream",
     "text": [
      "dimensions reduced RF roc_auc score:  0.5\n",
      "dimensions reduced RF log_loss score:  31.404813819687707\n"
     ]
    }
   ],
   "source": [
    "# Reduce dimensions of training set independent variables to 17 based on the plot. (Change in \n",
    "# variance plateaus at PCA feature 3, then drops again after feature 16; keep through plateau)\n",
    "\n",
    "pca = PCA(n_components=17)\n",
    "pca.fit(Xwoe_train_scaled)\n",
    "X_reduced_train = pca.transform(X_no_miss_train_scaled)\n",
    "X_reduced_test = pca.transform(X_no_miss_test_scaled)\n",
    "\n",
    "# Continue with modeling\n",
    "rf_clf = RandomForestClassifier()\n",
    "rf_clf = rf_clf.fit(X_reduced_train, y_no_miss_train)\n",
    "y_reduced_pred = rf_clf.predict(X_reduced_test)\n",
    "print('dimensions reduced RF roc_auc score: ', metrics.roc_auc_score(ywoe_test, ywoe_pred))\n",
    "print('dimensions reduced RF log_loss score: ', metrics.log_loss(ywoe_test, ywoe_pred))"
   ]
  },
  {
   "cell_type": "markdown",
   "id": "cf855f8b",
   "metadata": {},
   "source": [
    "PCA wasn't helpful. I did try changing the value of n_components a couple times (i.e. 3,4), and the performance was similar to when n_components = 17. It seems that maintaining all features helps the model perform better. \n",
    "\n",
    " <font color='violet'>Encoder Optimization</font>\n",
    " \n",
    "All three Bayesian encoders performed better than the binary encoder and comparably well to each other. I'll need to include various parameter values and do hyperparameter tuning for each encoder in order to settle on a strategy for encoding data before moving into modeling.\n",
    "\n",
    "First, I've been evaluating these encoders via results of a random forest classifier. I'll keep doing that, but I've heard that RF doesn't requre standardized data. But does standardization help/hurt? I'll check that out, and then get into more in-depth hyperparameter tuning for encoders. "
   ]
  },
  {
   "cell_type": "code",
   "execution_count": 40,
   "id": "94b44e59",
   "metadata": {},
   "outputs": [
    {
     "name": "stdout",
     "output_type": "stream",
     "text": [
      "WOE CF w/o missing dept roc_auc score:  0.5849943240917043\n",
      "WOE CF w/o missing dept log_loss score:  2.9168875046611795\n"
     ]
    }
   ],
   "source": [
    "# Use the same code as before, just delete the standard scaler step.\n",
    "\n",
    "ce_woe = ce.woe.WOEEncoder(cols=categorical_columns, random_state=43)\n",
    "ce_woe.fit(X_no_miss_train, y_no_miss_train)\n",
    "Xwoe_train = ce_woe.transform(X_no_miss_train)\n",
    "Xwoe_test = ce_woe.transform(X_no_miss_test)\n",
    "\n",
    "rf_clf = RandomForestClassifier()\n",
    "rf_clf = rf_clf.fit(Xwoe_train, y_no_miss_train)\n",
    "y_no_miss_pred = rf_clf.predict(Xwoe_test)\n",
    "\n",
    "print('WOE CF w/o missing dept roc_auc score: ', metrics.roc_auc_score(\n",
    "    y_no_miss_test, y_no_miss_pred))\n",
    "print('WOE CF w/o missing dept log_loss score: ', metrics.log_loss(\n",
    "    y_no_miss_test, y_no_miss_pred))"
   ]
  },
  {
   "cell_type": "markdown",
   "id": "ca88004c",
   "metadata": {},
   "source": [
    "The RF classifier does actually perform very, very slightly better without standardization, so skip that step when testing various encoder hyperparameters in an RF classifier. \n",
    "\n",
    "My understanding is that sklearn tools like GridSearchCV or Random Search only support the tuning of hyperparameters for 'estimators' or classifiers, so I'll need my own for loop to optimize these encoders.\n",
    "\n",
    "<font color='violet'>Hyperparameter Tuning</font>\n",
    "\n",
    "Encoder hyperparameter tuning was actually taking too long with the full dataset. Using just a portion of this data to select an encoder might not result in as perfect a selection, but it'll be the best choice I can make. "
   ]
  },
  {
   "cell_type": "code",
   "execution_count": 41,
   "id": "d7252175",
   "metadata": {},
   "outputs": [
    {
     "data": {
      "text/plain": [
       "2060"
      ]
     },
     "execution_count": 41,
     "metadata": {},
     "output_type": "execute_result"
    }
   ],
   "source": [
    "len(df['user_id'].unique())"
   ]
  },
  {
   "cell_type": "code",
   "execution_count": 42,
   "id": "e2e19649",
   "metadata": {},
   "outputs": [
    {
     "data": {
      "text/plain": [
       "(187070, 26)"
      ]
     },
     "execution_count": 42,
     "metadata": {},
     "output_type": "execute_result"
    }
   ],
   "source": [
    "all_users = set(df['user_id'].unique())\n",
    "users_for_tuning = random.sample(list(all_users), 206)\n",
    "df_for_tuning = df.loc[df['user_id'].isin(users_for_tuning), :].copy()\n",
    "df_for_tuning.shape"
   ]
  },
  {
   "cell_type": "code",
   "execution_count": 43,
   "id": "ede60197",
   "metadata": {},
   "outputs": [],
   "source": [
    "categorical_columns=['user_id', 'product_name', 'aisle_name', 'dept_name']\n",
    "\n",
    "X = df_for_tuning.drop(columns=['reordered', 'add_to_cart_sequence'])\n",
    "y = df_for_tuning['reordered']\n",
    "X_train, X_test, y_train, y_test = train_test_split(X, y, test_size=0.3)\n",
    "\n",
    "results=[]\n",
    "\n",
    "# Establish possible hyperparameters\n",
    "p_drop_invariant = [True, False]\n",
    "p_min_sample_leaf = [1,2,3]\n",
    "p_smoothing = [0.5,1,2,3]\n",
    "p_sigma = [0.05,0.2,0.4,0.6]\n",
    "p_randomized = [True, False]\n",
    "p_regularization = [0.5,1,2,3]"
   ]
  },
  {
   "cell_type": "code",
   "execution_count": 44,
   "id": "cf068387",
   "metadata": {},
   "outputs": [],
   "source": [
    "# Tune hyperparameters for WeightOfEvidence Encoder\n",
    "for di in p_drop_invariant:\n",
    "    for rand in p_randomized:\n",
    "        for sig in p_sigma:\n",
    "            for reg in p_regularization:\n",
    "                woe = ce.woe.WOEEncoder(cols=categorical_columns, random_state=43, \n",
    "                                        drop_invariant=di, randomized=rand, sigma=sig, \n",
    "                                        regularization=reg)\n",
    "                woe.fit(X_train, y_train)\n",
    "                X_woe_train = woe.transform(X_train)\n",
    "                X_woe_test = woe.transform(X_test)\n",
    "                \n",
    "                rf = RandomForestClassifier()\n",
    "                rf_clf = rf.fit(X_woe_train, y_train)\n",
    "                y_pred = rf.predict(X_woe_test)\n",
    "                \n",
    "                results.append({'encoder':'woe', 'drop_invariant':di, 'ranomized':rand,\n",
    "                                'sigma':sig, 'regularization':reg, \n",
    "                                'roc_auc':metrics.roc_auc_score(y_test, y_pred),\n",
    "                                'log_loss':metrics.log_loss(y_test, y_pred)})"
   ]
  },
  {
   "cell_type": "code",
   "execution_count": 45,
   "id": "706845dd",
   "metadata": {},
   "outputs": [],
   "source": [
    "# Tune hyperparameters for the LeaveOneOut encoder\n",
    "for di in p_drop_invariant:\n",
    "    for sig in p_sigma:\n",
    "        loo = ce.leave_one_out.LeaveOneOutEncoder(cols=categorical_columns, random_state=43,\n",
    "                                                    drop_invariant=di, sigma=sig)\n",
    "        loo.fit(X_train, y_train)\n",
    "        X_loo_train = loo.transform(X_train)\n",
    "        X_loo_test = loo.transform(X_test)\n",
    "        \n",
    "        rf = RandomForestClassifier()\n",
    "        rf_clf = rf.fit(X_loo_train, y_train)\n",
    "        y_pred = rf.predict(X_loo_test)\n",
    "        \n",
    "        results.append({'encoder':'loo', 'drop_invariant':di, 'sigma':sig, \n",
    "                        'roc_auc':metrics.roc_auc_score(y_test, y_pred),\n",
    "                        'log_loss':metrics.log_loss(y_test, y_pred)})"
   ]
  },
  {
   "cell_type": "code",
   "execution_count": 46,
   "id": "79265079",
   "metadata": {},
   "outputs": [],
   "source": [
    "# It keeps giving me a warning that default values are changing soon; suppress the warning.\n",
    "warnings.simplefilter(action='ignore', category=FutureWarning)\n",
    "\n",
    "# Tune hyperparameters for Target Encoder\n",
    "for di in p_drop_invariant:\n",
    "    for msl in p_min_sample_leaf:\n",
    "        for sm in p_smoothing:\n",
    "            target = ce.target_encoder.TargetEncoder(cols=categorical_columns, drop_invariant=di,\n",
    "                                                     min_samples_leaf=msl, smoothing=sm)\n",
    "            target.fit(X_train, y_train)\n",
    "            X_tar_train = target.transform(X_train)\n",
    "            X_tar_test = target.transform(X_test)\n",
    "            \n",
    "            rf = RandomForestClassifier()\n",
    "            rf_clf = rf.fit(X_tar_train, y_train)\n",
    "            y_pred = rf.predict(X_tar_test)\n",
    "            \n",
    "            results.append({'encoder':'target', 'drop_invariant':di, 'min_sample_leaf':msl,\n",
    "                           'smoothing':sm, 'roc_auc':metrics.roc_auc_score(y_test, y_pred),\n",
    "                           'log_loss':metrics.log_loss(y_test, y_pred)})"
   ]
  },
  {
   "cell_type": "code",
   "execution_count": 47,
   "id": "5692bce8",
   "metadata": {},
   "outputs": [
    {
     "data": {
      "text/html": [
       "<div>\n",
       "<style scoped>\n",
       "    .dataframe tbody tr th:only-of-type {\n",
       "        vertical-align: middle;\n",
       "    }\n",
       "\n",
       "    .dataframe tbody tr th {\n",
       "        vertical-align: top;\n",
       "    }\n",
       "\n",
       "    .dataframe thead th {\n",
       "        text-align: right;\n",
       "    }\n",
       "</style>\n",
       "<table border=\"1\" class=\"dataframe\">\n",
       "  <thead>\n",
       "    <tr style=\"text-align: right;\">\n",
       "      <th></th>\n",
       "      <th>encoder</th>\n",
       "      <th>drop_invariant</th>\n",
       "      <th>ranomized</th>\n",
       "      <th>sigma</th>\n",
       "      <th>regularization</th>\n",
       "      <th>roc_auc</th>\n",
       "      <th>log_loss</th>\n",
       "      <th>min_sample_leaf</th>\n",
       "      <th>smoothing</th>\n",
       "    </tr>\n",
       "  </thead>\n",
       "  <tbody>\n",
       "    <tr>\n",
       "      <th>81</th>\n",
       "      <td>target</td>\n",
       "      <td>True</td>\n",
       "      <td>NaN</td>\n",
       "      <td>NaN</td>\n",
       "      <td>NaN</td>\n",
       "      <td>0.610497</td>\n",
       "      <td>3.074105</td>\n",
       "      <td>3.0</td>\n",
       "      <td>1.0</td>\n",
       "    </tr>\n",
       "    <tr>\n",
       "      <th>93</th>\n",
       "      <td>target</td>\n",
       "      <td>False</td>\n",
       "      <td>NaN</td>\n",
       "      <td>NaN</td>\n",
       "      <td>NaN</td>\n",
       "      <td>0.608169</td>\n",
       "      <td>3.077182</td>\n",
       "      <td>3.0</td>\n",
       "      <td>1.0</td>\n",
       "    </tr>\n",
       "    <tr>\n",
       "      <th>79</th>\n",
       "      <td>target</td>\n",
       "      <td>True</td>\n",
       "      <td>NaN</td>\n",
       "      <td>NaN</td>\n",
       "      <td>NaN</td>\n",
       "      <td>0.609239</td>\n",
       "      <td>3.081490</td>\n",
       "      <td>2.0</td>\n",
       "      <td>3.0</td>\n",
       "    </tr>\n",
       "    <tr>\n",
       "      <th>86</th>\n",
       "      <td>target</td>\n",
       "      <td>False</td>\n",
       "      <td>NaN</td>\n",
       "      <td>NaN</td>\n",
       "      <td>NaN</td>\n",
       "      <td>0.609261</td>\n",
       "      <td>3.085183</td>\n",
       "      <td>1.0</td>\n",
       "      <td>2.0</td>\n",
       "    </tr>\n",
       "    <tr>\n",
       "      <th>53</th>\n",
       "      <td>woe</td>\n",
       "      <td>False</td>\n",
       "      <td>False</td>\n",
       "      <td>0.2</td>\n",
       "      <td>1.0</td>\n",
       "      <td>0.609424</td>\n",
       "      <td>3.085183</td>\n",
       "      <td>NaN</td>\n",
       "      <td>NaN</td>\n",
       "    </tr>\n",
       "    <tr>\n",
       "      <th>41</th>\n",
       "      <td>woe</td>\n",
       "      <td>False</td>\n",
       "      <td>True</td>\n",
       "      <td>0.4</td>\n",
       "      <td>1.0</td>\n",
       "      <td>0.608418</td>\n",
       "      <td>3.087029</td>\n",
       "      <td>NaN</td>\n",
       "      <td>NaN</td>\n",
       "    </tr>\n",
       "    <tr>\n",
       "      <th>38</th>\n",
       "      <td>woe</td>\n",
       "      <td>False</td>\n",
       "      <td>True</td>\n",
       "      <td>0.2</td>\n",
       "      <td>2.0</td>\n",
       "      <td>0.608603</td>\n",
       "      <td>3.090722</td>\n",
       "      <td>NaN</td>\n",
       "      <td>NaN</td>\n",
       "    </tr>\n",
       "    <tr>\n",
       "      <th>91</th>\n",
       "      <td>target</td>\n",
       "      <td>False</td>\n",
       "      <td>NaN</td>\n",
       "      <td>NaN</td>\n",
       "      <td>NaN</td>\n",
       "      <td>0.607902</td>\n",
       "      <td>3.093799</td>\n",
       "      <td>2.0</td>\n",
       "      <td>3.0</td>\n",
       "    </tr>\n",
       "    <tr>\n",
       "      <th>90</th>\n",
       "      <td>target</td>\n",
       "      <td>False</td>\n",
       "      <td>NaN</td>\n",
       "      <td>NaN</td>\n",
       "      <td>NaN</td>\n",
       "      <td>0.608960</td>\n",
       "      <td>3.093799</td>\n",
       "      <td>2.0</td>\n",
       "      <td>2.0</td>\n",
       "    </tr>\n",
       "    <tr>\n",
       "      <th>92</th>\n",
       "      <td>target</td>\n",
       "      <td>False</td>\n",
       "      <td>NaN</td>\n",
       "      <td>NaN</td>\n",
       "      <td>NaN</td>\n",
       "      <td>0.607892</td>\n",
       "      <td>3.094414</td>\n",
       "      <td>3.0</td>\n",
       "      <td>0.5</td>\n",
       "    </tr>\n",
       "  </tbody>\n",
       "</table>\n",
       "</div>"
      ],
      "text/plain": [
       "   encoder  drop_invariant ranomized  sigma  regularization   roc_auc  \\\n",
       "81  target            True       NaN    NaN             NaN  0.610497   \n",
       "93  target           False       NaN    NaN             NaN  0.608169   \n",
       "79  target            True       NaN    NaN             NaN  0.609239   \n",
       "86  target           False       NaN    NaN             NaN  0.609261   \n",
       "53     woe           False     False    0.2             1.0  0.609424   \n",
       "41     woe           False      True    0.4             1.0  0.608418   \n",
       "38     woe           False      True    0.2             2.0  0.608603   \n",
       "91  target           False       NaN    NaN             NaN  0.607902   \n",
       "90  target           False       NaN    NaN             NaN  0.608960   \n",
       "92  target           False       NaN    NaN             NaN  0.607892   \n",
       "\n",
       "    log_loss  min_sample_leaf  smoothing  \n",
       "81  3.074105              3.0        1.0  \n",
       "93  3.077182              3.0        1.0  \n",
       "79  3.081490              2.0        3.0  \n",
       "86  3.085183              1.0        2.0  \n",
       "53  3.085183              NaN        NaN  \n",
       "41  3.087029              NaN        NaN  \n",
       "38  3.090722              NaN        NaN  \n",
       "91  3.093799              2.0        3.0  \n",
       "90  3.093799              2.0        2.0  \n",
       "92  3.094414              3.0        0.5  "
      ]
     },
     "execution_count": 47,
     "metadata": {},
     "output_type": "execute_result"
    }
   ],
   "source": [
    "# Sort results\n",
    "results = pd.DataFrame(results)\n",
    "results.sort_values('log_loss').head(10)"
   ]
  },
  {
   "cell_type": "markdown",
   "id": "d5f6bc85",
   "metadata": {},
   "source": [
    "Most of the best-performing combinations were with the target encoder. I'll try running it again with another chunk of the users, to see if the best hyperparameter combinations look similar. The 0.5 smoothing value didn't do as well; replace it with some higher values. "
   ]
  },
  {
   "cell_type": "code",
   "execution_count": 48,
   "id": "cfc8695d",
   "metadata": {},
   "outputs": [
    {
     "data": {
      "text/plain": [
       "1854"
      ]
     },
     "execution_count": 48,
     "metadata": {},
     "output_type": "execute_result"
    }
   ],
   "source": [
    "leftover_users = set(df['user_id'].unique()) - set(users_for_tuning)\n",
    "len(leftover_users)"
   ]
  },
  {
   "cell_type": "code",
   "execution_count": 49,
   "id": "b4928b31",
   "metadata": {},
   "outputs": [
    {
     "data": {
      "text/plain": [
       "(212053, 26)"
      ]
     },
     "execution_count": 49,
     "metadata": {},
     "output_type": "execute_result"
    }
   ],
   "source": [
    "second_chunk_users = random.sample(list(leftover_users), 206)\n",
    "second_tuning_df = df.loc[df['user_id'].isin(second_chunk_users), :].copy()\n",
    "second_tuning_df.shape"
   ]
  },
  {
   "cell_type": "code",
   "execution_count": 51,
   "id": "af942190",
   "metadata": {},
   "outputs": [],
   "source": [
    "X = second_tuning_df.drop(columns=['reordered', 'add_to_cart_sequence'])\n",
    "y = second_tuning_df['reordered']\n",
    "X_train, X_test, y_train, y_test = train_test_split(X, y, test_size=0.3)\n",
    "\n",
    "second_results=[]\n",
    "\n",
    "# Establish possible hyperparameters\n",
    "p_drop_invariant = [True, False]\n",
    "p_min_sample_leaf = [1,2,3,4,5]\n",
    "p_smoothing = [1,2,3,4,5]\n",
    "\n",
    "warnings.simplefilter(action='ignore', category=FutureWarning)\n",
    "\n",
    "for di in p_drop_invariant:\n",
    "    for msl in p_min_sample_leaf:\n",
    "        for sm in p_smoothing:\n",
    "            target = ce.target_encoder.TargetEncoder(cols=categorical_columns, drop_invariant=di,\n",
    "                                                     min_samples_leaf=msl, smoothing=sm)\n",
    "            target.fit(X_train, y_train)\n",
    "            X_tar_train = target.transform(X_train)\n",
    "            X_tar_test = target.transform(X_test)\n",
    "            \n",
    "            rf = RandomForestClassifier()\n",
    "            rf_clf = rf.fit(X_tar_train, y_train)\n",
    "            y_pred = rf.predict(X_tar_test)\n",
    "            \n",
    "            second_results.append({'encoder':'target', 'drop_invariant':di, 'min_sample_leaf':msl,\n",
    "                           'smoothing':sm, 'roc_auc':metrics.roc_auc_score(y_test, y_pred),\n",
    "                           'log_loss':metrics.log_loss(y_test, y_pred)})"
   ]
  },
  {
   "cell_type": "code",
   "execution_count": 52,
   "id": "e8460515",
   "metadata": {},
   "outputs": [
    {
     "data": {
      "text/html": [
       "<div>\n",
       "<style scoped>\n",
       "    .dataframe tbody tr th:only-of-type {\n",
       "        vertical-align: middle;\n",
       "    }\n",
       "\n",
       "    .dataframe tbody tr th {\n",
       "        vertical-align: top;\n",
       "    }\n",
       "\n",
       "    .dataframe thead th {\n",
       "        text-align: right;\n",
       "    }\n",
       "</style>\n",
       "<table border=\"1\" class=\"dataframe\">\n",
       "  <thead>\n",
       "    <tr style=\"text-align: right;\">\n",
       "      <th></th>\n",
       "      <th>encoder</th>\n",
       "      <th>drop_invariant</th>\n",
       "      <th>min_sample_leaf</th>\n",
       "      <th>smoothing</th>\n",
       "      <th>roc_auc</th>\n",
       "      <th>log_loss</th>\n",
       "    </tr>\n",
       "  </thead>\n",
       "  <tbody>\n",
       "    <tr>\n",
       "      <th>9</th>\n",
       "      <td>target</td>\n",
       "      <td>True</td>\n",
       "      <td>2</td>\n",
       "      <td>5</td>\n",
       "      <td>0.610346</td>\n",
       "      <td>3.013794</td>\n",
       "    </tr>\n",
       "    <tr>\n",
       "      <th>44</th>\n",
       "      <td>target</td>\n",
       "      <td>False</td>\n",
       "      <td>4</td>\n",
       "      <td>5</td>\n",
       "      <td>0.609356</td>\n",
       "      <td>3.015422</td>\n",
       "    </tr>\n",
       "    <tr>\n",
       "      <th>37</th>\n",
       "      <td>target</td>\n",
       "      <td>False</td>\n",
       "      <td>3</td>\n",
       "      <td>3</td>\n",
       "      <td>0.608152</td>\n",
       "      <td>3.016508</td>\n",
       "    </tr>\n",
       "    <tr>\n",
       "      <th>4</th>\n",
       "      <td>target</td>\n",
       "      <td>True</td>\n",
       "      <td>1</td>\n",
       "      <td>5</td>\n",
       "      <td>0.608579</td>\n",
       "      <td>3.017594</td>\n",
       "    </tr>\n",
       "    <tr>\n",
       "      <th>28</th>\n",
       "      <td>target</td>\n",
       "      <td>False</td>\n",
       "      <td>1</td>\n",
       "      <td>4</td>\n",
       "      <td>0.609395</td>\n",
       "      <td>3.017594</td>\n",
       "    </tr>\n",
       "    <tr>\n",
       "      <th>48</th>\n",
       "      <td>target</td>\n",
       "      <td>False</td>\n",
       "      <td>5</td>\n",
       "      <td>4</td>\n",
       "      <td>0.607423</td>\n",
       "      <td>3.020309</td>\n",
       "    </tr>\n",
       "    <tr>\n",
       "      <th>45</th>\n",
       "      <td>target</td>\n",
       "      <td>False</td>\n",
       "      <td>5</td>\n",
       "      <td>1</td>\n",
       "      <td>0.606524</td>\n",
       "      <td>3.020851</td>\n",
       "    </tr>\n",
       "    <tr>\n",
       "      <th>21</th>\n",
       "      <td>target</td>\n",
       "      <td>True</td>\n",
       "      <td>5</td>\n",
       "      <td>2</td>\n",
       "      <td>0.607249</td>\n",
       "      <td>3.021937</td>\n",
       "    </tr>\n",
       "    <tr>\n",
       "      <th>3</th>\n",
       "      <td>target</td>\n",
       "      <td>True</td>\n",
       "      <td>1</td>\n",
       "      <td>4</td>\n",
       "      <td>0.609623</td>\n",
       "      <td>3.021938</td>\n",
       "    </tr>\n",
       "    <tr>\n",
       "      <th>5</th>\n",
       "      <td>target</td>\n",
       "      <td>True</td>\n",
       "      <td>2</td>\n",
       "      <td>1</td>\n",
       "      <td>0.609810</td>\n",
       "      <td>3.024110</td>\n",
       "    </tr>\n",
       "  </tbody>\n",
       "</table>\n",
       "</div>"
      ],
      "text/plain": [
       "   encoder  drop_invariant  min_sample_leaf  smoothing   roc_auc  log_loss\n",
       "9   target            True                2          5  0.610346  3.013794\n",
       "44  target           False                4          5  0.609356  3.015422\n",
       "37  target           False                3          3  0.608152  3.016508\n",
       "4   target            True                1          5  0.608579  3.017594\n",
       "28  target           False                1          4  0.609395  3.017594\n",
       "48  target           False                5          4  0.607423  3.020309\n",
       "45  target           False                5          1  0.606524  3.020851\n",
       "21  target            True                5          2  0.607249  3.021937\n",
       "3   target            True                1          4  0.609623  3.021938\n",
       "5   target            True                2          1  0.609810  3.024110"
      ]
     },
     "execution_count": 52,
     "metadata": {},
     "output_type": "execute_result"
    }
   ],
   "source": [
    "second_results = pd.DataFrame(second_results)\n",
    "second_results.sort_values('log_loss').head(10)"
   ]
  },
  {
   "cell_type": "markdown",
   "id": "3d43c1ca",
   "metadata": {},
   "source": [
    "In both iterations of the loop, setting drop_invariant to False was clearly best. It seems that all the best min_sample_leaf values are odd, and smoothing values are best if under 5. Try one more time, narrowing parameters down to these values.  "
   ]
  },
  {
   "cell_type": "code",
   "execution_count": 53,
   "id": "134b998b",
   "metadata": {},
   "outputs": [
    {
     "data": {
      "text/plain": [
       "1648"
      ]
     },
     "execution_count": 53,
     "metadata": {},
     "output_type": "execute_result"
    }
   ],
   "source": [
    "leftover_users_third = set(leftover_users) - set(second_chunk_users)\n",
    "len(leftover_users_third)"
   ]
  },
  {
   "cell_type": "code",
   "execution_count": 54,
   "id": "d681df06",
   "metadata": {},
   "outputs": [
    {
     "data": {
      "text/plain": [
       "(198452, 26)"
      ]
     },
     "execution_count": 54,
     "metadata": {},
     "output_type": "execute_result"
    }
   ],
   "source": [
    "third_chunk_users = random.sample(list(leftover_users_third), 206)\n",
    "third_tuning_df = df.loc[df['user_id'].isin(third_chunk_users), :].copy()\n",
    "third_tuning_df.shape"
   ]
  },
  {
   "cell_type": "code",
   "execution_count": 55,
   "id": "a91a1339",
   "metadata": {},
   "outputs": [],
   "source": [
    "X = third_tuning_df.drop(columns=['reordered', 'add_to_cart_sequence'])\n",
    "y = third_tuning_df['reordered']\n",
    "X_train, X_test, y_train, y_test = train_test_split(X, y, test_size=0.3)\n",
    "\n",
    "third_results=[]\n",
    "\n",
    "# Establish possible hyperparameters\n",
    "p_min_sample_leaf = [1,3,5]\n",
    "p_smoothing = [1,2,3,4]\n",
    "\n",
    "warnings.simplefilter(action='ignore', category=FutureWarning)\n",
    "\n",
    "for msl in p_min_sample_leaf:\n",
    "    for sm in p_smoothing:\n",
    "        target = ce.target_encoder.TargetEncoder(cols=categorical_columns, drop_invariant=False,\n",
    "                                                 min_samples_leaf=msl, smoothing=sm)\n",
    "        target.fit(X_train, y_train)\n",
    "        X_tar_train = target.transform(X_train)\n",
    "        X_tar_test = target.transform(X_test)\n",
    "        \n",
    "        rf = RandomForestClassifier()\n",
    "        rf_clf = rf.fit(X_tar_train, y_train)\n",
    "        y_pred = rf.predict(X_tar_test)\n",
    "        \n",
    "        third_results.append({'encoder':'target', 'min_sample_leaf':msl, 'smoothing':sm, \n",
    "                              'roc_auc':metrics.roc_auc_score(y_test, y_pred),\n",
    "                              'log_loss':metrics.log_loss(y_test, y_pred)})"
   ]
  },
  {
   "cell_type": "code",
   "execution_count": 56,
   "id": "3bc6a2aa",
   "metadata": {},
   "outputs": [
    {
     "data": {
      "text/html": [
       "<div>\n",
       "<style scoped>\n",
       "    .dataframe tbody tr th:only-of-type {\n",
       "        vertical-align: middle;\n",
       "    }\n",
       "\n",
       "    .dataframe tbody tr th {\n",
       "        vertical-align: top;\n",
       "    }\n",
       "\n",
       "    .dataframe thead th {\n",
       "        text-align: right;\n",
       "    }\n",
       "</style>\n",
       "<table border=\"1\" class=\"dataframe\">\n",
       "  <thead>\n",
       "    <tr style=\"text-align: right;\">\n",
       "      <th></th>\n",
       "      <th>encoder</th>\n",
       "      <th>min_sample_leaf</th>\n",
       "      <th>smoothing</th>\n",
       "      <th>roc_auc</th>\n",
       "      <th>log_loss</th>\n",
       "    </tr>\n",
       "  </thead>\n",
       "  <tbody>\n",
       "    <tr>\n",
       "      <th>11</th>\n",
       "      <td>target</td>\n",
       "      <td>5</td>\n",
       "      <td>4</td>\n",
       "      <td>0.603555</td>\n",
       "      <td>2.980152</td>\n",
       "    </tr>\n",
       "    <tr>\n",
       "      <th>3</th>\n",
       "      <td>target</td>\n",
       "      <td>1</td>\n",
       "      <td>4</td>\n",
       "      <td>0.604475</td>\n",
       "      <td>2.983053</td>\n",
       "    </tr>\n",
       "    <tr>\n",
       "      <th>9</th>\n",
       "      <td>target</td>\n",
       "      <td>5</td>\n",
       "      <td>2</td>\n",
       "      <td>0.602493</td>\n",
       "      <td>2.991175</td>\n",
       "    </tr>\n",
       "    <tr>\n",
       "      <th>7</th>\n",
       "      <td>target</td>\n",
       "      <td>3</td>\n",
       "      <td>4</td>\n",
       "      <td>0.604175</td>\n",
       "      <td>2.991755</td>\n",
       "    </tr>\n",
       "    <tr>\n",
       "      <th>1</th>\n",
       "      <td>target</td>\n",
       "      <td>1</td>\n",
       "      <td>2</td>\n",
       "      <td>0.605867</td>\n",
       "      <td>2.991756</td>\n",
       "    </tr>\n",
       "    <tr>\n",
       "      <th>10</th>\n",
       "      <td>target</td>\n",
       "      <td>5</td>\n",
       "      <td>3</td>\n",
       "      <td>0.602186</td>\n",
       "      <td>2.995236</td>\n",
       "    </tr>\n",
       "    <tr>\n",
       "      <th>4</th>\n",
       "      <td>target</td>\n",
       "      <td>3</td>\n",
       "      <td>1</td>\n",
       "      <td>0.602589</td>\n",
       "      <td>2.995236</td>\n",
       "    </tr>\n",
       "    <tr>\n",
       "      <th>5</th>\n",
       "      <td>target</td>\n",
       "      <td>3</td>\n",
       "      <td>2</td>\n",
       "      <td>0.603134</td>\n",
       "      <td>2.996396</td>\n",
       "    </tr>\n",
       "    <tr>\n",
       "      <th>2</th>\n",
       "      <td>target</td>\n",
       "      <td>1</td>\n",
       "      <td>3</td>\n",
       "      <td>0.604324</td>\n",
       "      <td>2.997557</td>\n",
       "    </tr>\n",
       "    <tr>\n",
       "      <th>6</th>\n",
       "      <td>target</td>\n",
       "      <td>3</td>\n",
       "      <td>3</td>\n",
       "      <td>0.601359</td>\n",
       "      <td>3.001617</td>\n",
       "    </tr>\n",
       "  </tbody>\n",
       "</table>\n",
       "</div>"
      ],
      "text/plain": [
       "   encoder  min_sample_leaf  smoothing   roc_auc  log_loss\n",
       "11  target                5          4  0.603555  2.980152\n",
       "3   target                1          4  0.604475  2.983053\n",
       "9   target                5          2  0.602493  2.991175\n",
       "7   target                3          4  0.604175  2.991755\n",
       "1   target                1          2  0.605867  2.991756\n",
       "10  target                5          3  0.602186  2.995236\n",
       "4   target                3          1  0.602589  2.995236\n",
       "5   target                3          2  0.603134  2.996396\n",
       "2   target                1          3  0.604324  2.997557\n",
       "6   target                3          3  0.601359  3.001617"
      ]
     },
     "execution_count": 56,
     "metadata": {},
     "output_type": "execute_result"
    }
   ],
   "source": [
    "third_results = pd.DataFrame(third_results)\n",
    "third_results.sort_values('log_loss').head(10)"
   ]
  },
  {
   "cell_type": "code",
   "execution_count": null,
   "id": "afae1133",
   "metadata": {},
   "outputs": [],
   "source": [
    "Audio(sound_file, autoplay=True)"
   ]
  },
  {
   "cell_type": "markdown",
   "id": "f270ced7",
   "metadata": {},
   "source": [
    " <font color='violet'>Finalize Encoding & Next Steps</font>\n",
    "\n",
    "- There's not one clear winning set of hyperparameters for the Target Encoder, but the default values of 1 for min_sample_leaf and smoothing appear at least as often as any other values in the top three combinations of each trial. I'll stick with this when encoding data from the full dataset. \n",
    "- Don't finalize the encoding now because it would require saving multiple datasets (separate training and test sets) and uploading them all into the next notebook. Save the dataset with the 'missing' department removed, and in the modeling notebook, simply do encoding as a first step prior to model tuning. \n",
    "- Modeling notebook: https://github.com/fractaldatalearning/Capstone2/blob/main/notebooks/8-kl-modeling.ipynb"
   ]
  },
  {
   "cell_type": "code",
   "execution_count": 58,
   "id": "914c36c0",
   "metadata": {},
   "outputs": [
    {
     "name": "stdout",
     "output_type": "stream",
     "text": [
      "A file already exists with this name.\n",
      "\n",
      "Do you want to overwrite? (Y/N)Y\n",
      "Writing file.  \"../data/processed/for_modeling.csv\"\n"
     ]
    }
   ],
   "source": [
    "for_modeling = df_no_missing_dept\n",
    "datapath = '../data/processed'\n",
    "save_file(for_modeling, 'for_modeling.csv', datapath)"
   ]
  },
  {
   "cell_type": "code",
   "execution_count": null,
   "id": "29329684",
   "metadata": {},
   "outputs": [],
   "source": []
  }
 ],
 "metadata": {
  "kernelspec": {
   "display_name": "Python 3 (ipykernel)",
   "language": "python",
   "name": "python3"
  },
  "language_info": {
   "codemirror_mode": {
    "name": "ipython",
    "version": 3
   },
   "file_extension": ".py",
   "mimetype": "text/x-python",
   "name": "python",
   "nbconvert_exporter": "python",
   "pygments_lexer": "ipython3",
   "version": "3.9.12"
  }
 },
 "nbformat": 4,
 "nbformat_minor": 5
}
