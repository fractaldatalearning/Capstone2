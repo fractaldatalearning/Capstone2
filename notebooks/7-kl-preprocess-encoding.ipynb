{
 "cells": [
  {
   "cell_type": "markdown",
   "id": "81427551",
   "metadata": {},
   "source": [
    "# <font color='violet'>Preprocessing/Encoding: Explore Options</font>\n",
    "\n",
    "This is the final preprocessing notebook before modeling. \n",
    "- Here, I'll try out models' performances given various variable encoding strategies. \n",
    "- I might want to balance the data, to see if that would actually improve model performance.\n",
    "- I might also need to explore the possibility of feature reduction; I created multiple features in the previous notebook but am not yet sure if they'll be valuable in making predictions. \n",
    "\n",
    "I can begin to explore various models in the process of all this. After this, I'll create pipelines to make final decisions about strategies for encoding and modeling. \n",
    "\n",
    "Notebook on which this one builds: https://github.com/fractaldatalearning/Capstone2/blob/main/notebooks/preprocessing2_feature_engineering.ipynb"
   ]
  },
  {
   "cell_type": "code",
   "execution_count": 1,
   "id": "9ff6ff73",
   "metadata": {},
   "outputs": [],
   "source": [
    "import pandas as pd\n",
    "import numpy as np\n",
    "import os\n",
    "from library.sb_utils import save_file\n",
    "\n",
    "import matplotlib.pyplot as plt\n",
    "import seaborn as sns\n",
    "\n",
    "import category_encoders as ce\n",
    "from sklearn.ensemble import RandomForestClassifier, BaggingClassifier\n",
    "\n",
    "from sklearn.model_selection import train_test_split\n",
    "from sklearn.preprocessing import StandardScaler\n",
    "from sklearn import metrics, svm\n",
    "\n",
    "from sklearn.decomposition import PCA\n",
    "from sklearn.preprocessing import scale\n",
    "\n",
    "import random\n",
    "\n",
    "from IPython.display import Audio\n",
    "sound_file = './alert.wav'"
   ]
  },
  {
   "cell_type": "code",
   "execution_count": 2,
   "id": "fd07efc4",
   "metadata": {},
   "outputs": [
    {
     "name": "stdout",
     "output_type": "stream",
     "text": [
      "<class 'pandas.core.frame.DataFrame'>\n",
      "RangeIndex: 2174119 entries, 0 to 2174118\n",
      "Data columns (total 25 columns):\n",
      " #   Column                   Dtype  \n",
      "---  ------                   -----  \n",
      " 0   order_id                 int64  \n",
      " 1   user_id                  int64  \n",
      " 2   order_by_user_sequence   int64  \n",
      " 3   order_dow                int64  \n",
      " 4   order_hour_of_day        int64  \n",
      " 5   days_since_prior_order   float64\n",
      " 6   add_to_cart_sequence     int64  \n",
      " 7   reordered                int64  \n",
      " 8   product_name             object \n",
      " 9   aisle_name               object \n",
      " 10  dept_name                object \n",
      " 11  prior_purchases          int64  \n",
      " 12  purchased_percent_prior  float64\n",
      " 13  apple                    int64  \n",
      " 14  bar                      int64  \n",
      " 15  cream                    int64  \n",
      " 16  free                     int64  \n",
      " 17  fresh                    int64  \n",
      " 18  green                    int64  \n",
      " 19  mix                      int64  \n",
      " 20  natural                  int64  \n",
      " 21  organic                  int64  \n",
      " 22  original                 int64  \n",
      " 23  sweet                    int64  \n",
      " 24  white                    int64  \n",
      "dtypes: float64(2), int64(20), object(3)\n",
      "memory usage: 414.7+ MB\n"
     ]
    }
   ],
   "source": [
    "df = pd.read_csv('../data/processed/features_engineered.csv')\n",
    "df.info()"
   ]
  },
  {
   "cell_type": "code",
   "execution_count": 3,
   "id": "5ed9a995",
   "metadata": {},
   "outputs": [
    {
     "data": {
      "text/plain": [
       "Index(['user_id', 'order_by_user_sequence', 'order_dow', 'order_hour_of_day',\n",
       "       'days_since_prior_order', 'add_to_cart_sequence', 'reordered',\n",
       "       'product_name', 'aisle_name', 'dept_name', 'prior_purchases',\n",
       "       'purchased_percent_prior', 'apple', 'bar', 'cream', 'free', 'fresh',\n",
       "       'green', 'mix', 'natural', 'organic', 'original', 'sweet', 'white'],\n",
       "      dtype='object')"
      ]
     },
     "execution_count": 3,
     "metadata": {},
     "output_type": "execute_result"
    }
   ],
   "source": [
    "# order_id is redundant as a combination of user and order_by_user_sequence. Delete it. \n",
    "df = df.drop(columns='order_id')\n",
    "df.columns"
   ]
  },
  {
   "cell_type": "markdown",
   "id": "afd10be3",
   "metadata": {},
   "source": [
    " <font color='violet'>Understand Baseline Evaluation Metrics</font>"
   ]
  },
  {
   "cell_type": "code",
   "execution_count": 4,
   "id": "07cc5da3",
   "metadata": {},
   "outputs": [
    {
     "data": {
      "text/plain": [
       "0.09045641015970148"
      ]
     },
     "execution_count": 4,
     "metadata": {},
     "output_type": "execute_result"
    }
   ],
   "source": [
    "df['reordered'].mean()"
   ]
  },
  {
   "cell_type": "markdown",
   "id": "6c35a130",
   "metadata": {},
   "source": [
    "I can judge effect of my work by comparing model scores with scores of what would happen if I just guess that a random 9% of items get reordered (since 0.090 is the average of the whole 'reordered' column in this dataset). "
   ]
  },
  {
   "cell_type": "code",
   "execution_count": 5,
   "id": "c3bb041e",
   "metadata": {},
   "outputs": [
    {
     "data": {
      "text/plain": [
       "2174119"
      ]
     },
     "execution_count": 5,
     "metadata": {},
     "output_type": "execute_result"
    }
   ],
   "source": [
    "# Make an array with 196663 1s randomly dispersed aming the rest 0s. Then use that fake array\n",
    "# as predictions to see what scores I'd get without using any of the work I've done/ will do. \n",
    "ones = [1] * 196663\n",
    "zeroes = [0] * 1977456\n",
    "array = np.concatenate([ones, zeroes])\n",
    "len(array)"
   ]
  },
  {
   "cell_type": "code",
   "execution_count": 6,
   "id": "fa600af4",
   "metadata": {},
   "outputs": [
    {
     "data": {
      "text/plain": [
       "array([1, 1, 1, 1, 1, 1])"
      ]
     },
     "execution_count": 6,
     "metadata": {},
     "output_type": "execute_result"
    }
   ],
   "source": [
    "array[0:6]"
   ]
  },
  {
   "cell_type": "code",
   "execution_count": 7,
   "id": "da367bec",
   "metadata": {},
   "outputs": [
    {
     "data": {
      "text/plain": [
       "array([0, 0, 0, 1, 0, 0])"
      ]
     },
     "execution_count": 7,
     "metadata": {},
     "output_type": "execute_result"
    }
   ],
   "source": [
    "random.shuffle(array)\n",
    "array[0:6]"
   ]
  },
  {
   "cell_type": "code",
   "execution_count": 8,
   "id": "82ae5b6b",
   "metadata": {},
   "outputs": [],
   "source": [
    "y = df['reordered']"
   ]
  },
  {
   "cell_type": "code",
   "execution_count": 9,
   "id": "5e778693",
   "metadata": {},
   "outputs": [
    {
     "name": "stdout",
     "output_type": "stream",
     "text": [
      "fake baseline RF f1 score:  0.09087627057453614\n",
      "fake baseline RF kappa score:  0.0004616165948774231\n",
      "fake baseline RF roc_auc score:  0.5002308082974386\n",
      "fake baseline RF log_loss score:  5.680732150203873\n",
      "AxesSubplot(0.125,0.11;0.62x0.77)\n"
     ]
    },
    {
     "data": {
      "image/png": "[encoded data removed]",
      "text/plain": [
       "<Figure size 640x480 with 2 Axes>"
      ]
     },
     "metadata": {},
     "output_type": "display_data"
    }
   ],
   "source": [
    "print('fake baseline RF f1 score: ', metrics.f1_score(y, array))\n",
    "print('fake baseline RF kappa score: ', metrics.cohen_kappa_score(y, array))\n",
    "print('fake baseline RF roc_auc score: ', metrics.roc_auc_score(y, array))\n",
    "print('fake baseline RF log_loss score: ', metrics.log_loss(y, array))\n",
    "cm = metrics.confusion_matrix(y, array)\n",
    "print(sns.heatmap(cm, annot=True, fmt='g'))"
   ]
  },
  {
   "cell_type": "markdown",
   "id": "e99b5dcd",
   "metadata": {},
   "source": [
    "My understanding is that categorical features should be encoded prior to any standardization of ordinal features. Start here. \n",
    "\n",
    "I'd like to try multiple encoders for categorical data. A summary of my current knowledge of encoders that could make sense for this data:\n",
    "- One-Hot could work for the dept_name column because there are only 19 categories, much fewer than all the other categorical columns. It wouldn't work for any of the others. \n",
    "- Hashing works with high-cardinality variables but isn't reversible and can lead to some (usuall minimal, as far as I've read) info loss. It's not clear to me whether it involves any leakage across rows. \n",
    "- My understanding of binary encoding is that it's the best of both worlds from one-hot and hashing: fewer resultant categories than one-hot but interpretable and no info loss, unlike hashing. \n",
    "- My understanding is that Bayesian encoders generally cause contamination, so make sure to split into training and test sets prior to encoding. I read that LeaveOneOut is a Bayesian encoder that avoids leakage by not using the dependent variable.  I also read that it is especially good for classification tasks, so it's a good one to consider here.\n",
    "- I know very little about WeightofEvidence but it's another Bayesian encoders recommended by Springboard and I can try it out along with Target encoder (though I'd expect Target to over-fit compared with LeaveOneOut). \n",
    "\n",
    "I'd like any encoder(s) I use to be included in an eventual modeling pipeline, but first I want to explore and try them out individually to see what they actually do to the data in the categorical columns. "
   ]
  },
  {
   "cell_type": "markdown",
   "id": "eb6ec4a6",
   "metadata": {},
   "source": [
    " <font color='violet'>Try Binary Encoder</font>\n",
    "\n",
    "Start by just predicting the reordered column. Perhaps try predicting the add_to_cart_sequence column later. Create independent & dependent variables, encode independent categories."
   ]
  },
  {
   "cell_type": "code",
   "execution_count": 10,
   "id": "529a3e8b",
   "metadata": {},
   "outputs": [],
   "source": [
    "X = df.drop(columns=['reordered', 'add_to_cart_sequence'])\n",
    "y = df['reordered']\n",
    "\n",
    "categorical_columns = ['user_id', 'product_name', 'aisle_name', 'dept_name']\n",
    "ce_bin = ce.BinaryEncoder(cols=categorical_columns)\n",
    "Xbin = ce_bin.fit_transform(X,y)"
   ]
  },
  {
   "cell_type": "code",
   "execution_count": 11,
   "id": "e94e6a94",
   "metadata": {},
   "outputs": [
    {
     "data": {
      "text/html": [
       "<div>\n",
       "<style scoped>\n",
       "    .dataframe tbody tr th:only-of-type {\n",
       "        vertical-align: middle;\n",
       "    }\n",
       "\n",
       "    .dataframe tbody tr th {\n",
       "        vertical-align: top;\n",
       "    }\n",
       "\n",
       "    .dataframe thead th {\n",
       "        text-align: right;\n",
       "    }\n",
       "</style>\n",
       "<table border=\"1\" class=\"dataframe\">\n",
       "  <thead>\n",
       "    <tr style=\"text-align: right;\">\n",
       "      <th></th>\n",
       "      <th>user_id_0</th>\n",
       "      <th>user_id_1</th>\n",
       "      <th>user_id_2</th>\n",
       "      <th>user_id_3</th>\n",
       "      <th>user_id_4</th>\n",
       "      <th>user_id_5</th>\n",
       "      <th>user_id_6</th>\n",
       "      <th>user_id_7</th>\n",
       "      <th>user_id_8</th>\n",
       "      <th>user_id_9</th>\n",
       "      <th>...</th>\n",
       "      <th>cream</th>\n",
       "      <th>free</th>\n",
       "      <th>fresh</th>\n",
       "      <th>green</th>\n",
       "      <th>mix</th>\n",
       "      <th>natural</th>\n",
       "      <th>organic</th>\n",
       "      <th>original</th>\n",
       "      <th>sweet</th>\n",
       "      <th>white</th>\n",
       "    </tr>\n",
       "  </thead>\n",
       "  <tbody>\n",
       "    <tr>\n",
       "      <th>0</th>\n",
       "      <td>0</td>\n",
       "      <td>0</td>\n",
       "      <td>0</td>\n",
       "      <td>0</td>\n",
       "      <td>0</td>\n",
       "      <td>0</td>\n",
       "      <td>0</td>\n",
       "      <td>0</td>\n",
       "      <td>0</td>\n",
       "      <td>0</td>\n",
       "      <td>...</td>\n",
       "      <td>0</td>\n",
       "      <td>0</td>\n",
       "      <td>0</td>\n",
       "      <td>0</td>\n",
       "      <td>0</td>\n",
       "      <td>0</td>\n",
       "      <td>1</td>\n",
       "      <td>0</td>\n",
       "      <td>0</td>\n",
       "      <td>0</td>\n",
       "    </tr>\n",
       "    <tr>\n",
       "      <th>1</th>\n",
       "      <td>0</td>\n",
       "      <td>0</td>\n",
       "      <td>0</td>\n",
       "      <td>0</td>\n",
       "      <td>0</td>\n",
       "      <td>0</td>\n",
       "      <td>0</td>\n",
       "      <td>0</td>\n",
       "      <td>0</td>\n",
       "      <td>0</td>\n",
       "      <td>...</td>\n",
       "      <td>0</td>\n",
       "      <td>0</td>\n",
       "      <td>0</td>\n",
       "      <td>0</td>\n",
       "      <td>0</td>\n",
       "      <td>0</td>\n",
       "      <td>1</td>\n",
       "      <td>0</td>\n",
       "      <td>0</td>\n",
       "      <td>0</td>\n",
       "    </tr>\n",
       "    <tr>\n",
       "      <th>2</th>\n",
       "      <td>0</td>\n",
       "      <td>0</td>\n",
       "      <td>0</td>\n",
       "      <td>0</td>\n",
       "      <td>0</td>\n",
       "      <td>0</td>\n",
       "      <td>0</td>\n",
       "      <td>0</td>\n",
       "      <td>0</td>\n",
       "      <td>0</td>\n",
       "      <td>...</td>\n",
       "      <td>0</td>\n",
       "      <td>0</td>\n",
       "      <td>0</td>\n",
       "      <td>0</td>\n",
       "      <td>0</td>\n",
       "      <td>0</td>\n",
       "      <td>1</td>\n",
       "      <td>0</td>\n",
       "      <td>0</td>\n",
       "      <td>0</td>\n",
       "    </tr>\n",
       "    <tr>\n",
       "      <th>3</th>\n",
       "      <td>0</td>\n",
       "      <td>0</td>\n",
       "      <td>0</td>\n",
       "      <td>0</td>\n",
       "      <td>0</td>\n",
       "      <td>0</td>\n",
       "      <td>0</td>\n",
       "      <td>0</td>\n",
       "      <td>0</td>\n",
       "      <td>0</td>\n",
       "      <td>...</td>\n",
       "      <td>0</td>\n",
       "      <td>0</td>\n",
       "      <td>0</td>\n",
       "      <td>0</td>\n",
       "      <td>0</td>\n",
       "      <td>0</td>\n",
       "      <td>1</td>\n",
       "      <td>0</td>\n",
       "      <td>0</td>\n",
       "      <td>0</td>\n",
       "    </tr>\n",
       "    <tr>\n",
       "      <th>4</th>\n",
       "      <td>0</td>\n",
       "      <td>0</td>\n",
       "      <td>0</td>\n",
       "      <td>0</td>\n",
       "      <td>0</td>\n",
       "      <td>0</td>\n",
       "      <td>0</td>\n",
       "      <td>0</td>\n",
       "      <td>0</td>\n",
       "      <td>0</td>\n",
       "      <td>...</td>\n",
       "      <td>0</td>\n",
       "      <td>0</td>\n",
       "      <td>0</td>\n",
       "      <td>0</td>\n",
       "      <td>0</td>\n",
       "      <td>0</td>\n",
       "      <td>1</td>\n",
       "      <td>0</td>\n",
       "      <td>0</td>\n",
       "      <td>0</td>\n",
       "    </tr>\n",
       "  </tbody>\n",
       "</table>\n",
       "<p>5 rows × 58 columns</p>\n",
       "</div>"
      ],
      "text/plain": [
       "   user_id_0  user_id_1  user_id_2  user_id_3  user_id_4  user_id_5  \\\n",
       "0          0          0          0          0          0          0   \n",
       "1          0          0          0          0          0          0   \n",
       "2          0          0          0          0          0          0   \n",
       "3          0          0          0          0          0          0   \n",
       "4          0          0          0          0          0          0   \n",
       "\n",
       "   user_id_6  user_id_7  user_id_8  user_id_9  ...  cream  free  fresh  green  \\\n",
       "0          0          0          0          0  ...      0     0      0      0   \n",
       "1          0          0          0          0  ...      0     0      0      0   \n",
       "2          0          0          0          0  ...      0     0      0      0   \n",
       "3          0          0          0          0  ...      0     0      0      0   \n",
       "4          0          0          0          0  ...      0     0      0      0   \n",
       "\n",
       "   mix  natural  organic  original  sweet  white  \n",
       "0    0        0        1         0      0      0  \n",
       "1    0        0        1         0      0      0  \n",
       "2    0        0        1         0      0      0  \n",
       "3    0        0        1         0      0      0  \n",
       "4    0        0        1         0      0      0  \n",
       "\n",
       "[5 rows x 58 columns]"
      ]
     },
     "execution_count": 11,
     "metadata": {},
     "output_type": "execute_result"
    }
   ],
   "source": [
    "Xbin.head()"
   ]
  },
  {
   "cell_type": "code",
   "execution_count": 12,
   "id": "aab5a112",
   "metadata": {},
   "outputs": [
    {
     "data": {
      "text/plain": [
       "Index(['user_id_0', 'user_id_1', 'user_id_2', 'user_id_3', 'user_id_4',\n",
       "       'user_id_5', 'user_id_6', 'user_id_7', 'user_id_8', 'user_id_9',\n",
       "       'user_id_10', 'user_id_11', 'order_by_user_sequence', 'order_dow',\n",
       "       'order_hour_of_day', 'days_since_prior_order', 'product_name_0',\n",
       "       'product_name_1', 'product_name_2', 'product_name_3', 'product_name_4',\n",
       "       'product_name_5', 'product_name_6', 'product_name_7', 'product_name_8',\n",
       "       'product_name_9', 'product_name_10', 'product_name_11',\n",
       "       'product_name_12', 'product_name_13', 'product_name_14', 'aisle_name_0',\n",
       "       'aisle_name_1', 'aisle_name_2', 'aisle_name_3', 'aisle_name_4',\n",
       "       'aisle_name_5', 'aisle_name_6', 'aisle_name_7', 'dept_name_0',\n",
       "       'dept_name_1', 'dept_name_2', 'dept_name_3', 'dept_name_4',\n",
       "       'prior_purchases', 'purchased_percent_prior', 'apple', 'bar', 'cream',\n",
       "       'free', 'fresh', 'green', 'mix', 'natural', 'organic', 'original',\n",
       "       'sweet', 'white'],\n",
       "      dtype='object')"
      ]
     },
     "execution_count": 12,
     "metadata": {},
     "output_type": "execute_result"
    }
   ],
   "source": [
    "Xbin.columns"
   ]
  },
  {
   "cell_type": "code",
   "execution_count": null,
   "id": "258a798d",
   "metadata": {},
   "outputs": [],
   "source": [
    "# Test out encoder performance in Bagging and RandomForest models. \n",
    "# These were overwhelmingly better than others when trying them out with a practice user.\n",
    "# First need to standardize. Don't bother yet with tuning model hyperparameters.\n",
    "\n",
    "Xbin_train, Xbin_test, ybin_train, ybin_test = train_test_split(Xbin, y, test_size=0.3)\n",
    "\n",
    "scaler = StandardScaler()\n",
    "Xbin_train_scaled = scaler.fit_transform(Xbin_train)\n",
    "Xbin_test_scaled = scaler.transform(Xbin_test)\n",
    "\n",
    "bgg_clf = BaggingClassifier()\n",
    "bgg_clf = bgg_clf.fit(Xbin_train_scaled, ybin_train)\n",
    "ybin_pred = bgg_clf.predict(Xbin_test_scaled)\n",
    "print('binary bagging f1 score: ', metrics.f1_score(ybin_test, ybin_pred))\n",
    "print('binary bagging kappa score: ', metrics.cohen_kappa_score(ybin_test, ybin_pred))\n",
    "print('binary bagging roc_auc score: ', metrics.roc_auc_score(ybin_test, ybin_pred))\n",
    "print('binary bagging log_loss score: ', metrics.log_loss(ybin_test, ybin_pred))\n",
    "cm = metrics.confusion_matrix(ybin_test, ybin_pred)\n",
    "print(sns.heatmap(cm, annot=True, fmt='g'))"
   ]
  },
  {
   "cell_type": "code",
   "execution_count": null,
   "id": "cc881928",
   "metadata": {},
   "outputs": [],
   "source": [
    "rf_clf = RandomForestClassifier()\n",
    "rf_clf = rf_clf.fit(Xbin_train_scaled, ybin_train)\n",
    "ybin_pred = rf_clf.predict(Xbin_test_scaled)\n",
    "cm = metrics.confusion_matrix(ybin_test, ybin_pred)\n",
    "print('binary RF f1 score: ', metrics.f1_score(ybin_test, ybin_pred))\n",
    "print('binary RF kappa score: ', metrics.cohen_kappa_score(ybin_test, ybin_pred))\n",
    "print('binary RF roc_auc score: ', metrics.roc_auc_score(ybin_test, ybin_pred))\n",
    "print('binary RF log_loss score: ', metrics.log_loss(ybin_test, ybin_pred))\n",
    "cm = metrics.confusion_matrix(ybin_test, ybin_pred)\n",
    "print(sns.heatmap(cm, annot=True, fmt='g'))"
   ]
  },
  {
   "cell_type": "markdown",
   "id": "097b034c",
   "metadata": {},
   "source": [
    " <font color='violet'>Leave One Out Encoder</font>"
   ]
  },
  {
   "cell_type": "code",
   "execution_count": null,
   "id": "25880bc9",
   "metadata": {},
   "outputs": [],
   "source": [
    "# Try a Bayesian encoder. Start with LeaveOneOut. Even though it has less contaminiation\n",
    "# than other Bayesian encoders, it's a good idea to split data first. \n",
    "\n",
    "Xloo_train, Xloo_test, yloo_train, yloo_test = train_test_split(X, y, test_size=0.3)\n",
    "\n",
    "ce_loo = ce.leave_one_out.LeaveOneOutEncoder(cols=categorical_columns, random_state=43)\n",
    "ce_loo.fit(Xloo_train, yloo_train)\n",
    "Xloo_train = ce_loo.transform(Xloo_train)\n",
    "Xloo_test = ce_loo.transform(Xloo_test)\n",
    "\n",
    "Xloo_train.head()"
   ]
  },
  {
   "cell_type": "code",
   "execution_count": null,
   "id": "50447aa9",
   "metadata": {},
   "outputs": [],
   "source": [
    "print('prod min', Xloo_train['product_name'].min())\n",
    "print('prod max', Xloo_train['product_name'].max())"
   ]
  },
  {
   "cell_type": "code",
   "execution_count": null,
   "id": "4ce7fddf",
   "metadata": {},
   "outputs": [],
   "source": [
    "# Now try this encoded data in models after standardization\n",
    "\n",
    "scaler = StandardScaler()\n",
    "Xloo_train_scaled = scaler.fit_transform(Xloo_train)\n",
    "Xloo_test_scaled = scaler.transform(Xloo_test)\n",
    "\n",
    "bgg_clf = BaggingClassifier()\n",
    "bgg_clf = bgg_clf.fit(Xloo_train_scaled, yloo_train)\n",
    "yloo_pred = bgg_clf.predict(Xloo_test_scaled)\n",
    "print('LeaveOneOut bagging f1 score: ', metrics.f1_score(yloo_test, yloo_pred))\n",
    "print('LeaveOneOut bagging kappa score: ', metrics.cohen_kappa_score(yloo_test, yloo_pred))\n",
    "print('LeaveOneOut bagging roc_auc score: ', metrics.roc_auc_score(yloo_test, yloo_pred))\n",
    "print('LeaveOneOut bagging log_loss score: ', metrics.log_loss(yloo_test, yloo_pred))\n",
    "cm = metrics.confusion_matrix(yloo_test, yloo_pred)\n",
    "print(sns.heatmap(cm, annot=True, fmt='g'))"
   ]
  },
  {
   "cell_type": "code",
   "execution_count": null,
   "id": "fc414563",
   "metadata": {},
   "outputs": [],
   "source": [
    "rf_clf = RandomForestClassifier()\n",
    "rf_clf = rf_clf.fit(Xloo_train_scaled, yloo_train)\n",
    "yloo_pred = rf_clf.predict(Xloo_test_scaled)\n",
    "print('LeaveOneOut RF f1 score: ', metrics.f1_score(yloo_test, yloo_pred))\n",
    "print('LeaveOneOut RF kappa score: ', metrics.cohen_kappa_score(yloo_test, yloo_pred))\n",
    "print('LeaveOneOut RF roc_auc score: ', metrics.roc_auc_score(yloo_test, yloo_pred))\n",
    "print('LeaveOneOut RF log_loss score: ', metrics.log_loss(yloo_test, yloo_pred))\n",
    "cm = metrics.confusion_matrix(yloo_test, yloo_pred)\n",
    "print(sns.heatmap(cm, annot=True, fmt='g'))"
   ]
  },
  {
   "cell_type": "code",
   "execution_count": null,
   "id": "a8c945fc",
   "metadata": {},
   "outputs": [],
   "source": [
    "# Now see whether LeaveOneOut performs better if I set drop_invariant to True.\n",
    "# Stick with the random forest classifier from here on out; it's doing better than bagging.\n",
    "\n",
    "Xloo_train, Xloo_test, yloo_train, yloo_test = train_test_split(X, y, test_size=0.3)\n",
    "\n",
    "ce_loo = ce.leave_one_out.LeaveOneOutEncoder(cols=categorical_columns, random_state=43,\n",
    "                                            drop_invariant=True)\n",
    "ce_loo.fit(Xloo_train, yloo_train)\n",
    "Xloo_train = ce_loo.transform(Xloo_train)\n",
    "Xloo_test = ce_loo.transform(Xloo_test)\n",
    "\n",
    "Xloo_train.head()"
   ]
  },
  {
   "cell_type": "code",
   "execution_count": null,
   "id": "1b52b3c2",
   "metadata": {},
   "outputs": [],
   "source": [
    "scaler = StandardScaler()\n",
    "Xloo_train_scaled = scaler.fit_transform(Xloo_train)\n",
    "Xloo_test_scaled = scaler.transform(Xloo_test)\n",
    "\n",
    "rf_clf = RandomForestClassifier()\n",
    "rf_clf = rf_clf.fit(Xloo_train_scaled, yloo_train)\n",
    "yloo_pred = rf_clf.predict(Xloo_test_scaled)\n",
    "print('LOO drop_invariant f1 score: ', metrics.f1_score(yloo_test, yloo_pred))\n",
    "print('LOO drop_invariant kappa score: ', metrics.cohen_kappa_score(yloo_test, yloo_pred))\n",
    "print('LOO drop_invariant roc_auc score: ', metrics.roc_auc_score(yloo_test, yloo_pred))\n",
    "print('LOO drop_invariant log_loss score: ', metrics.log_loss(yloo_test, yloo_pred))\n",
    "cm = metrics.confusion_matrix(yloo_test, yloo_pred)\n",
    "print(sns.heatmap(cm, annot=True, fmt='g'))"
   ]
  },
  {
   "cell_type": "markdown",
   "id": "4a6d6301",
   "metadata": {},
   "source": [
    " <font color='violet'>Target Encoder</font>\n",
    " \n",
    " Model performance dropped very slighly when I dropped columns without variance. Try some of the other Bayesian encoders. Target Encoder has hyperparameters min_sample_leaf and smoothing that I could tune if it seems worthwhile (if Target Encoder performs comparably as well as other encoders). "
   ]
  },
  {
   "cell_type": "code",
   "execution_count": null,
   "id": "46ce1d95",
   "metadata": {},
   "outputs": [],
   "source": [
    "Xtar_train, Xtar_test, ytar_train, ytar_test = train_test_split(X, y, test_size=0.3)\n",
    "\n",
    "ce_tar = ce.target_encoder.TargetEncoder(cols=categorical_columns)\n",
    "ce_tar.fit(Xtar_train, ytar_train)\n",
    "Xtar_train = ce_tar.transform(Xtar_train)\n",
    "Xtar_test = ce_tar.transform(Xtar_test)\n",
    "\n",
    "Xtar_train.head()"
   ]
  },
  {
   "cell_type": "code",
   "execution_count": null,
   "id": "5f3a65b5",
   "metadata": {},
   "outputs": [],
   "source": [
    "print('prod min', Xtar_train['product_name'].min())\n",
    "print('prod max', Xtar_train['product_name'].max())"
   ]
  },
  {
   "cell_type": "code",
   "execution_count": null,
   "id": "8179955d",
   "metadata": {},
   "outputs": [],
   "source": [
    "scaler = StandardScaler()\n",
    "Xtar_train_scaled = scaler.fit_transform(Xtar_train)\n",
    "Xtar_test_scaled = scaler.transform(Xtar_test)\n",
    "\n",
    "rf_clf = RandomForestClassifier()\n",
    "rf_clf = rf_clf.fit(Xtar_train_scaled, ytar_train)\n",
    "ytar_pred = rf_clf.predict(Xtar_test_scaled)\n",
    "print('Target RF f1 score: ', metrics.f1_score(ytar_test, ytar_pred))\n",
    "print('Target RF kappa score: ', metrics.cohen_kappa_score(ytar_test, ytar_pred))\n",
    "print('Target RF roc_auc score: ', metrics.roc_auc_score(ytar_test, ytar_pred))\n",
    "print('Target RF log_loss score: ', metrics.log_loss(ytar_test, ytar_pred))\n",
    "cm = metrics.confusion_matrix(ytar_test, ytar_pred)\n",
    "print(sns.heatmap(cm, annot=True, fmt='g'))"
   ]
  },
  {
   "cell_type": "markdown",
   "id": "569b660e",
   "metadata": {},
   "source": [
    " <font color='violet'>Weight of Evidence Encoder</font>\n",
    "\n",
    "#TargetEncoder seems to perform slightly better than LeaveOneOut, even on these metrics that are sensitive to over-fitting unbalanced data. Try WeightofEvidence. It does have some parameters that could be tuned but don't botherat first. "
   ]
  },
  {
   "cell_type": "code",
   "execution_count": null,
   "id": "dd732f76",
   "metadata": {},
   "outputs": [],
   "source": [
    "Xwoe_train, Xwoe_test, ywoe_train, ywoe_test = train_test_split(X, y, test_size=0.3)\n",
    "\n",
    "ce_woe = ce.woe.WOEEncoder(cols=categorical_columns)\n",
    "ce_woe.fit(Xwoe_train, ywoe_train)\n",
    "Xwoe_train = ce_woe.transform(Xwoe_train)\n",
    "Xwoe_test = ce_woe.transform(Xwoe_test)\n",
    "\n",
    "Xwoe_train.head()"
   ]
  },
  {
   "cell_type": "code",
   "execution_count": null,
   "id": "54ab38b4",
   "metadata": {},
   "outputs": [],
   "source": [
    "print('prod min', Xwoe_train['product_name'].min())\n",
    "print('prod max', Xwoe_train['product_name'].max())"
   ]
  },
  {
   "cell_type": "code",
   "execution_count": null,
   "id": "04acab9d",
   "metadata": {},
   "outputs": [],
   "source": [
    "print('dept min', Xwoe_train['dept_name'].min())\n",
    "print('dept max', Xwoe_train['dept_name'].max())"
   ]
  },
  {
   "cell_type": "code",
   "execution_count": null,
   "id": "a9fbe53c",
   "metadata": {},
   "outputs": [],
   "source": [
    "print('user min', Xwoe_train['user_id'].min())\n",
    "print('user max', Xwoe_train['user_id'].max())"
   ]
  },
  {
   "cell_type": "code",
   "execution_count": null,
   "id": "ab1756d6",
   "metadata": {},
   "outputs": [],
   "source": [
    "scaler = StandardScaler()\n",
    "Xwoe_train_scaled = scaler.fit_transform(Xwoe_train)\n",
    "Xwoe_test_scaled = scaler.transform(Xwoe_test)\n",
    "\n",
    "rf_clf = RandomForestClassifier()\n",
    "rf_clf = rf_clf.fit(Xwoe_train_scaled, ywoe_train)\n",
    "ywoe_pred = rf_clf.predict(Xwoe_test_scaled)\n",
    "print('WeightofEvidence RF f1 score: ', metrics.f1_score(ywoe_test, ywoe_pred))\n",
    "print('WeightofEvidence RF kappa score: ', metrics.cohen_kappa_score(ywoe_test, ywoe_pred))\n",
    "print('WeightofEvidence RF roc_auc score: ', metrics.roc_auc_score(ywoe_test, ywoe_pred))\n",
    "print('WeightofEvidence RF log_loss score: ', metrics.log_loss(ywoe_test, ywoe_pred))\n",
    "cm = metrics.confusion_matrix(ywoe_test, ywoe_pred)\n",
    "print(sns.heatmap(cm, annot=True, fmt='g'))"
   ]
  },
  {
   "cell_type": "markdown",
   "id": "764cae7a",
   "metadata": {},
   "source": [
    "WeightOfEvidence performed comparably to Target Encoder, with a slightly smaller area under the curve and smaller log loss. It seems to make sense to prioritize minimizing log loss, since I want to factor in confidence in the predictions and not just how well a given model is making predictions. So for the remainer of this playing around with pre-processing options, use WOE. \n",
    "\n",
    " <font color='violet'>Move forward with more hyperparameter tuning.</font>\n",
    "\n",
    "Already decided to keep LOO's drop_invariant as default False, and that seems to be the only parameter possibly worth changing. See what happens when changing WOE's drop_invariant to true.\n",
    "\n",
    "Then, for Target, min_samples_leaf and smoothing values seem to take values greater than 0 (int and float, respectively). I've seen examples with these set to 2 instead of the default 1. Try a few values to see what makes sense. "
   ]
  },
  {
   "cell_type": "code",
   "execution_count": null,
   "id": "aa8cc851",
   "metadata": {},
   "outputs": [],
   "source": [
    "# Try changing drop_invariant hyperparameter for WeightofEvidence encoder. \n",
    "\n",
    "ce_woe = ce.woe.WOEEncoder(cols=categorical_columns, drop_invariant=True)\n",
    "ce_woe.fit(Xwoe_train, ywoe_train)\n",
    "Xwoe_train = ce_woe.transform(Xwoe_train)\n",
    "Xwoe_test = ce_woe.transform(Xwoe_test)\n",
    "\n",
    "scaler = StandardScaler()\n",
    "Xwoe_train_scaled = scaler.fit_transform(Xwoe_train)\n",
    "Xwoe_test_scaled = scaler.transform(Xwoe_test)\n",
    "\n",
    "rf_clf = RandomForestClassifier()\n",
    "rf_clf = rf_clf.fit(Xwoe_train_scaled, ywoe_train)\n",
    "ywoe_pred = rf_clf.predict(Xwoe_test_scaled)\n",
    "print('WOE drop_invariant RF f1 score: ', metrics.f1_score(ywoe_test, ywoe_pred))\n",
    "print('WOE drop_invariant RF kappa score: ', metrics.cohen_kappa_score(ywoe_test, ywoe_pred))\n",
    "print('WOE drop_invariant RF roc_auc score: ', metrics.roc_auc_score(ywoe_test, ywoe_pred))\n",
    "print('WOE drop_invariant RF log_loss score: ', metrics.log_loss(ywoe_test, ywoe_pred))\n",
    "cm = metrics.confusion_matrix(ywoe_test, ywoe_pred)\n",
    "print(sns.heatmap(cm, annot=True, fmt='g'))"
   ]
  },
  {
   "cell_type": "code",
   "execution_count": null,
   "id": "e92ab25b",
   "metadata": {},
   "outputs": [],
   "source": [
    "# WOE encoder performed very slightly better when dropping invariant columns.\n",
    "# Move to tuning the Target Encoder's hyperparameters. \n",
    "\n",
    "min_samples_leaf_options = [1,2,3]\n",
    "smoothing_options = [1.0,2.0,3.0]\n",
    "scores = []\n",
    "for leaf in min_samples_leaf_options:\n",
    "    for smooth in smoothing_options:\n",
    "        ce_tar = ce.target_encoder.TargetEncoder(cols=categorical_columns,\n",
    "                                                min_samples_leaf=leaf,\n",
    "                                                smoothing=smooth)\n",
    "        ce_tar.fit(Xtar_train, ytar_train)\n",
    "        Xtar_train = ce_tar.transform(Xtar_train)\n",
    "        Xtar_test = ce_tar.transform(Xtar_test)\n",
    "        scaler = StandardScaler()\n",
    "        Xtar_train_scaled = scaler.fit_transform(Xtar_train)\n",
    "        Xtar_test_scaled = scaler.transform(Xtar_test)\n",
    "        rf_clf = RandomForestClassifier()\n",
    "        rf_clf = rf_clf.fit(Xtar_train_scaled, ytar_train)\n",
    "        ytar_pred = rf_clf.predict(Xtar_test_scaled)\n",
    "        scores.append({'min_samples':leaf, 'smoothing':smooth, \n",
    "                       'log_loss': metrics.log_loss(ytar_test, ytar_pred),\n",
    "                      'roc_auc': metrics.roc_auc_score(ytar_test, ytar_pred)})\n",
    "\n",
    "compare_scores = pd.DataFrame(scores)\n",
    "Audio(sound_file, autoplay=True)"
   ]
  },
  {
   "cell_type": "code",
   "execution_count": null,
   "id": "ed19f1b9",
   "metadata": {},
   "outputs": [],
   "source": [
    "compare_scores.sort_values('log_loss')"
   ]
  },
  {
   "cell_type": "markdown",
   "id": "c3585a09",
   "metadata": {},
   "source": [
    "# ***** Pick up here.\n",
    "\n",
    "Previous analysis, see if it still holds true:\n",
    "\n",
    "The range from best to worst scores is tiny, and there seems to be no pattern to variations across metrics; I could likely just stick with the default parameters if I use TargetEncoder. Compared with WeightofEvidence, \n",
    "\n",
    " <font color='violet'>Try resampling to inspect its effects on model performance: over-sample, under-sample, balanced SVM</font>"
   ]
  },
  {
   "cell_type": "code",
   "execution_count": null,
   "id": "b2773bb2",
   "metadata": {},
   "outputs": [],
   "source": [
    "# Oversample first. Split into train-test sets so I'm only over-sampling the training data\n",
    "X_train, X_test, y_train, y_test = train_test_split(X, y, test_size=0.3)\n",
    "\n",
    "# Put training sets back together for purposes of oversampling\n",
    "train_set = pd.concat([X_train, y_train], axis=1)\n",
    "print(X_train.shape, train_set.shape)"
   ]
  },
  {
   "cell_type": "code",
   "execution_count": null,
   "id": "c53e8f17",
   "metadata": {},
   "outputs": [],
   "source": [
    "len(df[df['reordered']==1])"
   ]
  },
  {
   "cell_type": "code",
   "execution_count": null,
   "id": "156bab13",
   "metadata": {},
   "outputs": [],
   "source": [
    "# Over-sample the minority class in the training data, to quadruple its size.\n",
    "over_sampled3 = train_set[train_set['reordered']==1].sample(n=589989, axis=0, replace=True, \n",
    "                                                            random_state=43)  \n",
    "quadrupled_reorders = pd.concat([train_set, over_sampled3])\n",
    "quadrupled_reorders.shape"
   ]
  },
  {
   "cell_type": "code",
   "execution_count": null,
   "id": "5abeeb6e",
   "metadata": {},
   "outputs": [],
   "source": [
    "# Now re-split X_train and y_train, then run through encoding and modeling. \n",
    "\n",
    "Xo_train = quadrupled_reorders.drop(columns=['reordered'])\n",
    "yo_train = quadrupled_reorders['reordered']\n",
    "\n",
    "# Try out with WOE encoder & RandomForest\n",
    "ce_woe = ce.woe.WOEEncoder(cols=categorical_columns, drop_invariant=True)\n",
    "ce_woe.fit(Xo_train, yo_train)\n",
    "Xo_train = ce_woe.transform(Xo_train)\n",
    "X_test = ce_woe.transform(X_test)\n",
    "\n",
    "scaler = StandardScaler()\n",
    "Xo_train_scaled = scaler.fit_transform(Xo_train)\n",
    "X_test_scaled = scaler.transform(X_test)\n",
    "\n",
    "rf_clf = RandomForestClassifier()\n",
    "rf_clf = rf_clf.fit(Xo_train_scaled, yo_train)\n",
    "y_pred = rf_clf.predict(X_test_scaled)\n",
    "\n",
    "print('quadruple oversample roc_auc: ', metrics.roc_auc_score(y_test, y_pred))\n",
    "print('quadruple oversample log_loss: ', metrics.log_loss(y_test, y_pred))"
   ]
  },
  {
   "cell_type": "code",
   "execution_count": null,
   "id": "537c41a0",
   "metadata": {},
   "outputs": [],
   "source": [
    "Audio(sound_file, autoplay=True)"
   ]
  },
  {
   "cell_type": "markdown",
   "id": "9951a504",
   "metadata": {},
   "source": [
    "This modeling with over-sampled training data performed less well than the same encoder/classifier using the original data. \n",
    "\n",
    "Next, try a different method for dealing with unbalanced data. "
   ]
  },
  {
   "cell_type": "code",
   "execution_count": null,
   "id": "1e687ff8",
   "metadata": {},
   "outputs": [],
   "source": [
    "# Undersample the majority class. Cut the index in half. This will leave the dataset with about \n",
    "# a 5:1 non-reorders:reorders. Rather than the original ratio of 9:1\n",
    "len(train_set)"
   ]
  },
  {
   "cell_type": "code",
   "execution_count": null,
   "id": "9597103a",
   "metadata": {},
   "outputs": [],
   "source": [
    "index_to_drop = random.sample(train_set.index.to_list(),760942)\n",
    "undersampled = train_set.drop(index_to_drop)\n",
    "len(undersampled)"
   ]
  },
  {
   "cell_type": "code",
   "execution_count": null,
   "id": "fdc83236",
   "metadata": {},
   "outputs": [],
   "source": [
    "# Again, re-split X_train and y_train, then run through encoding and modeling. \n",
    "\n",
    "Xu_train = undersampled.drop(columns=['reordered'])\n",
    "yu_train = undersampled['reordered']\n",
    "\n",
    "# Try out with WOE encoder & RandomForest\n",
    "ce_woe = ce.woe.WOEEncoder(cols=categorical_columns, drop_invariant=True)\n",
    "ce_woe.fit(Xo_train, yo_train)\n",
    "Xu_train = ce_woe.transform(Xu_train)\n",
    "X_test = ce_woe.transform(X_test)\n",
    "\n",
    "scaler = StandardScaler()\n",
    "Xu_train_scaled = scaler.fit_transform(Xu_train)\n",
    "X_test_scaled = scaler.transform(X_test)\n",
    "\n",
    "rf_clf = RandomForestClassifier()\n",
    "rf_clf = rf_clf.fit(Xu_train_scaled, yu_train)\n",
    "y_pred = rf_clf.predict(X_test_scaled)\n",
    "\n",
    "print('undersampled roc_auc: ', metrics.roc_auc_score(y_test, y_pred))\n",
    "print('undersampled log_loss: ', metrics.log_loss(y_test, y_pred))"
   ]
  },
  {
   "cell_type": "code",
   "execution_count": null,
   "id": "d8f84f99",
   "metadata": {},
   "outputs": [],
   "source": [
    "# Undersampling is definitely a bad idea, even with the large size of the data. \n",
    "# Try using a support vector macine's class_weight parameter to balance the classes. \n",
    "# Work from the data previously encoded using WOE Encoder. \n",
    "\n",
    "svm_svc_clf = svm.SVC(class_weight='balanced', max_iter=1, random_state=43)\n",
    "svm_svc_clf = svm_svc_clf.fit(Xwoe_train_scaled, ywoe_train)\n",
    "ywoe_pred = svm_svc_clf.predict(Xwoe_test_scaled)\n",
    "print('Target SVM balance f1 score: ', metrics.f1_score(ywoe_test, ywoe_pred))\n",
    "print('Target SVM balance kappa score: ', metrics.cohen_kappa_score(ywoe_test, ywoe_pred))\n",
    "print('Target SVM balance roc_auc score: ', metrics.roc_auc_score(ywoe_test, ywoe_pred))\n",
    "print('Target SVM balance log_loss score: ', metrics.log_loss(ywoe_test, ywoe_pred))\n",
    "cm = metrics.confusion_matrix(ywoe_test, ywoe_pred)\n",
    "print(sns.heatmap(cm, annot=True, fmt='g'))"
   ]
  },
  {
   "cell_type": "markdown",
   "id": "06b92642",
   "metadata": {},
   "source": [
    "The SVM model, even with balancing, performed as absysmally as the last time I tried. \n",
    "\n",
    "It's looking like Target Encoding and a Random Forest model with unbalanced data as-is looks best so far. Run times on these models are manageable but quite long with the current-sized dataset, so keep what I've got.\n",
    "\n",
    " <font color='violet'>Try removing rows where department = missing, since this category of products may bring incoherence to the dept_name feature.</font>"
   ]
  },
  {
   "cell_type": "code",
   "execution_count": null,
   "id": "c1eadb0a",
   "metadata": {},
   "outputs": [],
   "source": [
    "# Get new dataset with missing rows removed\n",
    "missing_dept = df[df['dept_name']=='missing'].index.to_list()\n",
    "df_no_missing_dept = df.drop(missing_dept)\n",
    "print(len(df), len(df_no_missing_dept))"
   ]
  },
  {
   "cell_type": "code",
   "execution_count": null,
   "id": "eefb401f",
   "metadata": {},
   "outputs": [],
   "source": [
    "# Try modeling with this dataset. \n",
    "\n",
    "X_no_miss = df_no_missing_dept.drop(columns=['reordered', 'add_to_cart_sequence'])\n",
    "y_no_miss = df_no_missing_dept['reordered']\n",
    "X_no_miss_train, X_no_miss_test, y_no_miss_train, y_no_miss_test = train_test_split(\n",
    "    X_no_miss, y_no_miss, test_size=0.3)\n",
    "\n",
    "ce_woe = ce.woe.WOEEncoder(cols=categorical_columns, drop_invariant=True)\n",
    "ce_woe.fit(X_no_miss_train, y_no_miss_train)\n",
    "Xwoe_train = ce_woe.transform(X_no_miss_train)\n",
    "Xwoe_test = ce_woe.transform(X_no_miss_test)\n",
    "\n",
    "scaler = StandardScaler()\n",
    "X_no_miss_train_scaled = scaler.fit_transform(Xwoe_train)\n",
    "X_no_miss_test_scaled = scaler.transform(Xwoe_test)\n",
    "\n",
    "rf_clf = RandomForestClassifier()\n",
    "rf_clf = rf_clf.fit(X_no_miss_train_scaled, y_no_miss_train)\n",
    "y_no_miss_pred = rf_clf.predict(X_no_miss_test_scaled)\n",
    "\n",
    "print('WOE CF w/o missing dept f1 score: ', metrics.f1_score(\n",
    "    y_no_miss_test, y_no_miss_pred))\n",
    "print('WOE CF w/o missing dept kappa score: ', metrics.cohen_kappa_score(\n",
    "    y_no_miss_test, y_no_miss_pred))\n",
    "print('WOE CF w/o missing dept roc_auc score: ', metrics.roc_auc_score(\n",
    "    y_no_miss_test, y_no_miss_pred))\n",
    "print('WOE CF w/o missing dept log_loss score: ', metrics.log_loss(\n",
    "    y_no_miss_test, y_no_miss_pred))\n",
    "cm = metrics.confusion_matrix(y_no_miss_test, y_no_miss_pred)\n",
    "print(sns.heatmap(cm, annot=True, fmt='g'))"
   ]
  },
  {
   "cell_type": "markdown",
   "id": "544c562b",
   "metadata": {},
   "source": [
    "Evaluation metrics from when I used the same encoder and classifer without dropping rows that had a 'missing' department name:\n",
    "\n",
    "WOE drop_invariant RF f1 score:  0.281594725776728\n",
    "WOE drop_invariant RF kappa score:  0.24992202056571944\n",
    "WOE drop_invariant RF roc_auc score:  0.5857957584684185\n",
    "WOE drop_invariant RF log_loss score:  2.931353355620386\n",
    "\n",
    "The log loss is lower and the area under the curve is higher when dropping all rows involving orders of products from the 'missing' department. My hypothesis is that these items did in fact bring incoherence to the dept_name column by skewing patterns in inherent 'reorder-ability' for popular departments such as 'dairy & eggs.'\n",
    "\n",
    "In a real-world situation, if we definitely wanted to be able to recommend those items currently in the 'missing' department, it would make more sense to reclassify items. As it is, if I keep the missing department's rows, they hinder the model's ability to correctly predict all other items' reorders. "
   ]
  },
  {
   "cell_type": "code",
   "execution_count": null,
   "id": "f8d33e9e",
   "metadata": {},
   "outputs": [],
   "source": [
    "Audio(sound_file, autoplay=True)"
   ]
  },
  {
   "cell_type": "markdown",
   "id": "305784d8",
   "metadata": {},
   "source": [
    " <font color='violet'>PCA</font>\n",
    " \n",
    "Finally, try dimensionality reduction to see if this improves performance at all. My prediction is that it may very well improve performance, since removing columns with no variance during WeightOfEvidence encoding did help slightly. \n",
    "\n",
    "Find intrinsic dimensions of independent variables from a training set. Use the encoded, normalized training set from the df I just created with all rows except those where the department name was missing. "
   ]
  },
  {
   "cell_type": "code",
   "execution_count": null,
   "id": "85fc5fcf",
   "metadata": {},
   "outputs": [],
   "source": [
    "pca = PCA()\n",
    "pca.fit(X_no_miss_train_scaled)\n",
    "features = range(pca.n_components_)\n",
    "\n",
    "#Plot variances of PCA featuers\n",
    "plt.bar(features, pca.explained_variance_)\n",
    "plt.xticks(features)\n",
    "plt.ylabel('variance')\n",
    "plt.xlabel('PCA feature')\n",
    "plt.show()"
   ]
  },
  {
   "cell_type": "code",
   "execution_count": null,
   "id": "c2009b45",
   "metadata": {},
   "outputs": [],
   "source": [
    "pca.explained_variance_"
   ]
  },
  {
   "cell_type": "code",
   "execution_count": null,
   "id": "ab622734",
   "metadata": {},
   "outputs": [],
   "source": [
    "# Reduce dimensions of training set independent variables to 17 based on the plot. (Change in \n",
    "# variance plateaus at PCA feature 3, then drops again after feature 16; keep through plateau)\n",
    "\n",
    "pca = PCA(n_components=17)\n",
    "pca.fit(Xwoe_train_scaled)\n",
    "X_reduced_train = pca.transform(X_no_miss_train_scaled)\n",
    "X_reduced_test = pca.transform(X_no_miss_test_scaled)\n",
    "\n",
    "# Continue with modeling\n",
    "rf_clf = RandomForestClassifier()\n",
    "rf_clf = rf_clf.fit(X_reduced_train, y_no_miss_train)\n",
    "y_reduced_pred = rf_clf.predict(X_reduced_test)\n",
    "print('dimensions reduced RF f1 score: ', metrics.f1_score(ywoe_test, ywoe_pred))\n",
    "print('dimensions reduced RF kappa score: ', metrics.cohen_kappa_score(ywoe_test, ywoe_pred))\n",
    "print('dimensions reduced RF roc_auc score: ', metrics.roc_auc_score(ywoe_test, ywoe_pred))\n",
    "print('dimensions reduced RF log_loss score: ', metrics.log_loss(ywoe_test, ywoe_pred))\n",
    "cm = metrics.confusion_matrix(ywoe_test, ywoe_pred)\n",
    "print(sns.heatmap(cm, annot=True, fmt='g'))"
   ]
  },
  {
   "cell_type": "code",
   "execution_count": null,
   "id": "6f6d6e4e",
   "metadata": {},
   "outputs": [],
   "source": [
    "Audio(sound_file, autoplay=True)"
   ]
  },
  {
   "cell_type": "markdown",
   "id": "275962f1",
   "metadata": {},
   "source": [
    "PCA wasn't helpful. I did try changing the value of n_components a couple times (i.e. 3,4), and the performance was similar to when n_components = 17. It seems that maintaining all features helps the model perform better. \n",
    "\n",
    " <font color='violet'>Next Steps</font>\n",
    " \n",
    "1. Save the dataset with the missing department removed for all future work.\n",
    "2. I am now ready to create a pipeline with which to make final determinations about model parameters and finalize the model I'd use to predict reorders. \n",
    "3. Thinking ahead, I could try to see how well I predict not exactly whether an item will be reordered or not, but instead: If I predict the first 5 items to be reordered, will any one of them end up actually getting reordered?"
   ]
  }
 ],
 "metadata": {
  "kernelspec": {
   "display_name": "Python 3 (ipykernel)",
   "language": "python",
   "name": "python3"
  },
  "language_info": {
   "codemirror_mode": {
    "name": "ipython",
    "version": 3
   },
   "file_extension": ".py",
   "mimetype": "text/x-python",
   "name": "python",
   "nbconvert_exporter": "python",
   "pygments_lexer": "ipython3",
   "version": "3.9.12"
  }
 },
 "nbformat": 4,
 "nbformat_minor": 5
}
