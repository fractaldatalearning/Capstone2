{
 "cells": [
  {
   "cell_type": "markdown",
   "id": "9f1d80aa",
   "metadata": {},
   "source": [
    "# <font color='violet'>Modeling</font>\n",
    "\n",
    "This notebook builds on exploration I did with various encoding, class balancing, and dimension reduction strategies in the preprocessing stage: https://github.com/fractaldatalearning/Capstone2/blob/main/notebooks/7-kl-preprocess-encoding.ipynb\n",
    "\n",
    "Previously, I tuned encoders and selected the Target Encoder with default hyperparameters. Here, I'll use a random grid search to find the best classifier and its best parameters. I'm using random search not only because it's faster, but also because I've read that its results as effective as a regular grid search if it's iterated over multiple times. Also, if I use a random grid search, it will be fast enough to enable me to work with more chunks of the dataset and compare results across subsets. "
   ]
  },
  {
   "cell_type": "code",
   "execution_count": 1,
   "id": "eca90365",
   "metadata": {},
   "outputs": [],
   "source": [
    "import pandas as pd\n",
    "import numpy as np\n",
    "import os\n",
    "from library.sb_utils import save_file\n",
    "\n",
    "import matplotlib.pyplot as plt\n",
    "import seaborn as sns\n",
    "\n",
    "import category_encoders as ce\n",
    "\n",
    "import sklearn\n",
    "from sklearn import svm, neighbors, ensemble, model_selection, preprocessing, metrics\n",
    "from sklearn.pipeline import Pipeline\n",
    "\n",
    "from statistics import mean\n",
    "\n",
    "import warnings\n",
    "import random\n",
    "\n",
    "from IPython.display import Audio\n",
    "sound_file = './alert.wav'"
   ]
  },
  {
   "cell_type": "code",
   "execution_count": 2,
   "id": "5decc379",
   "metadata": {},
   "outputs": [
    {
     "name": "stdout",
     "output_type": "stream",
     "text": [
      "<class 'pandas.core.frame.DataFrame'>\n",
      "RangeIndex: 2170652 entries, 0 to 2170651\n",
      "Data columns (total 26 columns):\n",
      " #   Column                        Dtype  \n",
      "---  ------                        -----  \n",
      " 0   user_id                       int64  \n",
      " 1   order_by_user_sequence        int64  \n",
      " 2   order_dow                     int64  \n",
      " 3   order_hour_of_day             int64  \n",
      " 4   days_since_prior_order        float64\n",
      " 5   add_to_cart_sequence          int64  \n",
      " 6   reordered                     int64  \n",
      " 7   product_name                  object \n",
      " 8   aisle_name                    object \n",
      " 9   dept_name                     object \n",
      " 10  prior_purchases               int64  \n",
      " 11  purchased_percent_prior       float64\n",
      " 12  apple                         int64  \n",
      " 13  bar                           int64  \n",
      " 14  cream                         int64  \n",
      " 15  free                          int64  \n",
      " 16  fresh                         int64  \n",
      " 17  green                         int64  \n",
      " 18  mix                           int64  \n",
      " 19  natural                       int64  \n",
      " 20  organic                       int64  \n",
      " 21  original                      int64  \n",
      " 22  sweet                         int64  \n",
      " 23  white                         int64  \n",
      " 24  purchased_early_past          int64  \n",
      " 25  percent_past_purchased_early  float64\n",
      "dtypes: float64(3), int64(20), object(3)\n",
      "memory usage: 430.6+ MB\n"
     ]
    }
   ],
   "source": [
    "df = pd.read_csv('../data/processed/for_modeling.csv')\n",
    "df.info()"
   ]
  },
  {
   "cell_type": "markdown",
   "id": "0efb42dc",
   "metadata": {},
   "source": [
    "<font color='violet'>Encode categorical columns based on encoder selected during preprocessing. Normalize ordinal columns.</font>\n",
    "\n",
    "Previously when I was previewing the performance of encoders, I had used StandardScaler afterward to normalize numerical columns. I have since learned that using MinMaxScaler is a better choice if I don't know that my columns are normally distributed. I actually learned during EDA that variables are in fact not normally distributed, so MinMaxScaler is a better option. \n",
    "\n",
    "My current understanding is that since Target Encoder returns values between 0 and 1, MinMaxScaler won't mess up those values. But if I'm wrong, then I'll need to make sure to only use MinMaxScaler on the ordinal columns. "
   ]
  },
  {
   "cell_type": "code",
   "execution_count": 3,
   "id": "6ca74ddd",
   "metadata": {},
   "outputs": [
    {
     "name": "stderr",
     "output_type": "stream",
     "text": [
      "/Users/admin/opt/anaconda3/lib/python3.9/site-packages/category_encoders/target_encoder.py:122: FutureWarning: Default parameter min_samples_leaf will change in version 2.6.See https://github.com/scikit-learn-contrib/category_encoders/issues/327\n",
      "  warnings.warn(\"Default parameter min_samples_leaf will change in version 2.6.\"\n",
      "/Users/admin/opt/anaconda3/lib/python3.9/site-packages/category_encoders/target_encoder.py:127: FutureWarning: Default parameter smoothing will change in version 2.6.See https://github.com/scikit-learn-contrib/category_encoders/issues/327\n",
      "  warnings.warn(\"Default parameter smoothing will change in version 2.6.\"\n"
     ]
    },
    {
     "data": {
      "text/html": [
       "<div>\n",
       "<style scoped>\n",
       "    .dataframe tbody tr th:only-of-type {\n",
       "        vertical-align: middle;\n",
       "    }\n",
       "\n",
       "    .dataframe tbody tr th {\n",
       "        vertical-align: top;\n",
       "    }\n",
       "\n",
       "    .dataframe thead th {\n",
       "        text-align: right;\n",
       "    }\n",
       "</style>\n",
       "<table border=\"1\" class=\"dataframe\">\n",
       "  <thead>\n",
       "    <tr style=\"text-align: right;\">\n",
       "      <th></th>\n",
       "      <th>user_id</th>\n",
       "      <th>order_by_user_sequence</th>\n",
       "      <th>order_dow</th>\n",
       "      <th>order_hour_of_day</th>\n",
       "      <th>days_since_prior_order</th>\n",
       "      <th>product_name</th>\n",
       "      <th>aisle_name</th>\n",
       "      <th>dept_name</th>\n",
       "      <th>prior_purchases</th>\n",
       "      <th>purchased_percent_prior</th>\n",
       "      <th>...</th>\n",
       "      <th>fresh</th>\n",
       "      <th>green</th>\n",
       "      <th>mix</th>\n",
       "      <th>natural</th>\n",
       "      <th>organic</th>\n",
       "      <th>original</th>\n",
       "      <th>sweet</th>\n",
       "      <th>white</th>\n",
       "      <th>purchased_early_past</th>\n",
       "      <th>percent_past_purchased_early</th>\n",
       "    </tr>\n",
       "  </thead>\n",
       "  <tbody>\n",
       "    <tr>\n",
       "      <th>1769067</th>\n",
       "      <td>0.055934</td>\n",
       "      <td>44</td>\n",
       "      <td>1</td>\n",
       "      <td>8</td>\n",
       "      <td>6.0</td>\n",
       "      <td>4.813896e-01</td>\n",
       "      <td>0.206787</td>\n",
       "      <td>0.124756</td>\n",
       "      <td>1</td>\n",
       "      <td>0.022727</td>\n",
       "      <td>...</td>\n",
       "      <td>0</td>\n",
       "      <td>0</td>\n",
       "      <td>0</td>\n",
       "      <td>0</td>\n",
       "      <td>1</td>\n",
       "      <td>0</td>\n",
       "      <td>0</td>\n",
       "      <td>0</td>\n",
       "      <td>1</td>\n",
       "      <td>0.022727</td>\n",
       "    </tr>\n",
       "    <tr>\n",
       "      <th>2022646</th>\n",
       "      <td>0.116788</td>\n",
       "      <td>5</td>\n",
       "      <td>2</td>\n",
       "      <td>9</td>\n",
       "      <td>8.0</td>\n",
       "      <td>1.701543e-13</td>\n",
       "      <td>0.011011</td>\n",
       "      <td>0.032038</td>\n",
       "      <td>1</td>\n",
       "      <td>0.200000</td>\n",
       "      <td>...</td>\n",
       "      <td>0</td>\n",
       "      <td>0</td>\n",
       "      <td>0</td>\n",
       "      <td>0</td>\n",
       "      <td>0</td>\n",
       "      <td>0</td>\n",
       "      <td>0</td>\n",
       "      <td>0</td>\n",
       "      <td>1</td>\n",
       "      <td>0.200000</td>\n",
       "    </tr>\n",
       "  </tbody>\n",
       "</table>\n",
       "<p>2 rows × 24 columns</p>\n",
       "</div>"
      ],
      "text/plain": [
       "          user_id  order_by_user_sequence  order_dow  order_hour_of_day  \\\n",
       "1769067  0.055934                      44          1                  8   \n",
       "2022646  0.116788                       5          2                  9   \n",
       "\n",
       "         days_since_prior_order  product_name  aisle_name  dept_name  \\\n",
       "1769067                     6.0  4.813896e-01    0.206787   0.124756   \n",
       "2022646                     8.0  1.701543e-13    0.011011   0.032038   \n",
       "\n",
       "         prior_purchases  purchased_percent_prior  ...  fresh  green  mix  \\\n",
       "1769067                1                 0.022727  ...      0      0    0   \n",
       "2022646                1                 0.200000  ...      0      0    0   \n",
       "\n",
       "         natural  organic  original  sweet  white  purchased_early_past  \\\n",
       "1769067        0        1         0      0      0                     1   \n",
       "2022646        0        0         0      0      0                     1   \n",
       "\n",
       "         percent_past_purchased_early  \n",
       "1769067                      0.022727  \n",
       "2022646                      0.200000  \n",
       "\n",
       "[2 rows x 24 columns]"
      ]
     },
     "execution_count": 3,
     "metadata": {},
     "output_type": "execute_result"
    }
   ],
   "source": [
    "categorical_columns = ['user_id', 'product_name', 'aisle_name', 'dept_name']\n",
    "\n",
    "X = df.drop(columns=['reordered', 'add_to_cart_sequence'])\n",
    "y = df['reordered']\n",
    "X_train, X_test, y_train, y_test = model_selection.train_test_split(X, y, test_size=0.3)\n",
    "\n",
    "target = ce.target_encoder.TargetEncoder(cols=categorical_columns)\n",
    "target.fit(X_train, y_train)\n",
    "X_train = target.transform(X_train)\n",
    "X_test = target.transform(X_test)\n",
    "\n",
    "X_train.head(2)"
   ]
  },
  {
   "cell_type": "code",
   "execution_count": 4,
   "id": "7204d058",
   "metadata": {},
   "outputs": [
    {
     "data": {
      "text/plain": [
       "array([0.05845517, 0.43434343, 0.16666667, 0.34782609, 0.22580645,\n",
       "       0.48153644, 1.        , 0.9855581 , 0.01282051, 0.0232438 ,\n",
       "       0.        , 0.        , 0.        , 0.        , 0.        ,\n",
       "       0.        , 0.        , 0.        , 1.        , 0.        ,\n",
       "       0.        , 0.        , 0.01388889, 0.02348485])"
      ]
     },
     "execution_count": 4,
     "metadata": {},
     "output_type": "execute_result"
    }
   ],
   "source": [
    "# Encoding worked. Scale/normalize. \n",
    "scaler = preprocessing.MinMaxScaler()\n",
    "scaler.fit(X_train)\n",
    "X_train_scaled = scaler.transform(X_train)\n",
    "X_test_scaled = scaler.transform(X_test)\n",
    "X_train_scaled[0]"
   ]
  },
  {
   "cell_type": "code",
   "execution_count": 5,
   "id": "a8075b97",
   "metadata": {},
   "outputs": [
    {
     "name": "stderr",
     "output_type": "stream",
     "text": [
      "/Users/admin/opt/anaconda3/lib/python3.9/site-packages/category_encoders/target_encoder.py:122: FutureWarning: Default parameter min_samples_leaf will change in version 2.6.See https://github.com/scikit-learn-contrib/category_encoders/issues/327\n",
      "  warnings.warn(\"Default parameter min_samples_leaf will change in version 2.6.\"\n",
      "/Users/admin/opt/anaconda3/lib/python3.9/site-packages/category_encoders/target_encoder.py:127: FutureWarning: Default parameter smoothing will change in version 2.6.See https://github.com/scikit-learn-contrib/category_encoders/issues/327\n",
      "  warnings.warn(\"Default parameter smoothing will change in version 2.6.\"\n"
     ]
    }
   ],
   "source": [
    "# After some trial and error, for the purposes of the grid search, I'll need to use 0.1% of users\n",
    "# Even random grid search is too slow otherwise. \n",
    "all_users = set(df['user_id'].unique())\n",
    "users_search = random.sample(list(all_users), 203)\n",
    "df_search = df.loc[df['user_id'].isin(users_search), :].copy()\n",
    "\n",
    "X_search = df_search.drop(columns=['reordered', 'add_to_cart_sequence'])\n",
    "y_search = df_search['reordered']\n",
    "X_s_train, X_s_test, y_s_train, y_s_test = model_selection.train_test_split(\n",
    "    X_search, y_search, test_size=0.3)\n",
    "\n",
    "target = ce.target_encoder.TargetEncoder(cols=categorical_columns)\n",
    "target.fit(X_s_train, y_s_train)\n",
    "X_s_train = target.transform(X_s_train)\n",
    "X_s_test = target.transform(X_s_test)\n",
    "\n",
    "scaler = preprocessing.MinMaxScaler()\n",
    "scaler.fit(X_train)\n",
    "X_s_train_scaled = scaler.transform(X_s_train)\n",
    "X_s_test_scaled = scaler.transform(X_s_test)"
   ]
  },
  {
   "cell_type": "markdown",
   "id": "f8a20123",
   "metadata": {},
   "source": [
    "Values for categorical columns match those that were created with the Target Encoder, so it's fine to move forward. \n",
    "\n",
    "<font color='violet'>Use random grid search to select a model</font>\n",
    "\n",
    "A faster way (which is what I need) to tune models than regular GridSearch is a randomized grid search. I learned that repeating the random grid search 3-5 times results in finding the best option comparably as well as searching over all combinations. "
   ]
  },
  {
   "cell_type": "code",
   "execution_count": 6,
   "id": "45f995f7",
   "metadata": {},
   "outputs": [
    {
     "name": "stdout",
     "output_type": "stream",
     "text": [
      "{'clf__n_estimators': 150, 'clf__min_weight_fraction_leaf': 0.30000000000000004, 'clf__min_samples_split': 7, 'clf__min_samples_leaf': 9, 'clf__min_impurity_decrease': 0.8, 'clf__max_features': 'sqrt', 'clf__max_depth': 2, 'clf__loss': 'deviance', 'clf__learning_rate': 0.5000000000000001, 'clf__criterion': 'friedman_mse', 'clf': GradientBoostingClassifier(learning_rate=0.5000000000000001, max_depth=2,\n",
      "                           max_features='sqrt', min_impurity_decrease=0.8,\n",
      "                           min_samples_leaf=9, min_samples_split=7,\n",
      "                           min_weight_fraction_leaf=0.30000000000000004,\n",
      "                           n_estimators=150, random_state=43)}\n",
      "-0.21780647465001665\n"
     ]
    }
   ],
   "source": [
    "# Initialize classifiers and dictionary of parameter options for each \n",
    "\n",
    "clf1 = neighbors.KNeighborsClassifier()\n",
    "param1 = dict(clf=(clf1,), clf__n_neighbors=list(np.arange(3,22,2)), \n",
    "              clf__weights=['uniform','distance'],\n",
    "              clf__leaf_size=list(np.arange(10,101,10)), \n",
    "              clf__p=[1,2], clf__metric=['euclidean','chebyshev','minkowski'])\n",
    "\n",
    "clf2 = svm.SVC(random_state=43)\n",
    "param2 = dict(clf=(clf2,), clf__C=list(np.arange(1,11)), \n",
    "              clf__kernel=['linear', 'poly', 'rbf', 'sigmoid'],\n",
    "              clf__degree=list(np.arange(1,11)), clf__gamma=['scale', 'auto'], \n",
    "              clf__coef0=list(np.arange(0,4,0.5)), clf__shrinking=[True,False], \n",
    "              clf__probability=[True,False], clf__class_weight=[None,'balanced'])\n",
    "\n",
    "clf3 = ensemble.RandomForestClassifier(random_state=43)\n",
    "param3 = dict(clf=(clf3,), clf__n_estimators=list(np.arange(100,201,10)), \n",
    "              clf__criterion=['gini', 'entropy'], \n",
    "              clf__max_depth=list(np.arange(2,21)), \n",
    "              clf__min_samples_split=[2,3,4,5], clf__min_samples_leaf=[1,2,3,4,5], \n",
    "              clf__min_weight_fraction_leaf=[0,0.1,0.2,0.3,0.4,0.5], \n",
    "              clf__max_features=['sqrt', 'log2', None], \n",
    "              clf__oob_score=[True,False],\n",
    "              clf__class_weight=['balanced', 'balanced_subsample'], \n",
    "              clf__ccp_alpha=list(np.arange(0,1.1,0.1)))\n",
    "\n",
    "clf4 = ensemble.BaggingClassifier(random_state=43)\n",
    "param4 = dict(clf=(clf4,), clf__n_estimators=list(np.arange(2,21,2)), \n",
    "              clf__max_samples=list(np.arange(1,11)), \n",
    "              clf__max_features=list(np.arange(1,11)), \n",
    "              clf__oob_score=[True,False])\n",
    "\n",
    "clf5 = ensemble.GradientBoostingClassifier(random_state=43)\n",
    "param5 = dict(clf=(clf5,), clf__loss=['deviance', 'exponential'], \n",
    "              clf__learning_rate=list(np.arange(0.1,3.1,0.2)), \n",
    "              clf__n_estimators=list(np.arange(100,201,10)), \n",
    "              clf__criterion=['friedman_mse', 'squared_error'], \n",
    "              clf__min_samples_split=list(np.arange(2,11)), \n",
    "              clf__min_samples_leaf=list(np.arange(1,11)),\n",
    "              clf__min_weight_fraction_leaf=list(np.arange(0,0.6,0.1)), \n",
    "              clf__max_depth=list(np.arange(2,11)), \n",
    "              clf__min_impurity_decrease=list(np.arange(0,3.1,0.2)), \n",
    "              clf__max_features=['auto', 'sqrt', 'log2'])\n",
    "\n",
    "clf6 = ensemble.AdaBoostClassifier()\n",
    "param6 = dict(clf=(clf6,), clf__n_estimators=list(np.arange(10,101,10)), \n",
    "              clf__learning_rate=list(np.arange(0.1,3.1,0.2)), \n",
    "              clf__algorithm=['SAMME', 'SAMME.R'])\n",
    "\n",
    "# Create pipeline and list of all parameters\n",
    "\n",
    "pipeline = Pipeline([('clf', clf1)])\n",
    "params = [param1, param2, param3, param4, param5, param6]\n",
    "\n",
    "# Find the best classifier & its best parameters:\n",
    "rs = model_selection.RandomizedSearchCV(estimator=pipeline, param_distributions=params, \n",
    "                                        scoring='neg_log_loss',error_score='raise')\n",
    "rs.fit(X_s_train_scaled, y_s_train)\n",
    "print(rs.best_params_)\n",
    "print(rs.best_score_)"
   ]
  },
  {
   "cell_type": "markdown",
   "id": "1a18b15e",
   "metadata": {},
   "source": [
    "In all of the first 5 runs, GradientBoosting came out ahead. \n",
    "\n",
    "<font color='violet'>Tune hyperparameters of top classifier: GradientBoosting</font>"
   ]
  },
  {
   "cell_type": "code",
   "execution_count": 7,
   "id": "74a508f9",
   "metadata": {},
   "outputs": [
    {
     "name": "stdout",
     "output_type": "stream",
     "text": [
      "{'gb__n_estimators': 190, 'gb__min_weight_fraction_leaf': 0.1, 'gb__min_samples_split': 10, 'gb__min_samples_leaf': 5, 'gb__min_impurity_decrease': 1.4000000000000001, 'gb__max_features': 'log2', 'gb__max_depth': 6, 'gb__loss': 'deviance', 'gb__learning_rate': 0.30000000000000004, 'gb__criterion': 'friedman_mse'}\n",
      "-0.21126263275688198\n"
     ]
    }
   ],
   "source": [
    "gb = ensemble.GradientBoostingClassifier(random_state=43)\n",
    "\n",
    "params = dict(gb__loss=['deviance', 'exponential'], \n",
    "              gb__learning_rate=list(np.arange(0.1,3.1,0.2)), \n",
    "              gb__n_estimators=list(np.arange(100,201,10)), \n",
    "              gb__criterion=['friedman_mse', 'squared_error'], \n",
    "              gb__min_samples_split=list(np.arange(2,11)), \n",
    "              gb__min_samples_leaf=list(np.arange(1,11)),\n",
    "              gb__min_weight_fraction_leaf=list(np.arange(0,0.6,0.1)), \n",
    "              gb__max_depth=list(np.arange(2,11)), \n",
    "              gb__min_impurity_decrease=list(np.arange(0,3.1,0.2)), \n",
    "              gb__max_features=['auto', 'sqrt', 'log2'])\n",
    "\n",
    "pipeline = Pipeline([('gb', gb)])\n",
    "\n",
    "rs = model_selection.RandomizedSearchCV(estimator=pipeline, param_distributions=params, \n",
    "                                        scoring='neg_log_loss', error_score='raise')\n",
    "rs.fit(X_s_train_scaled, y_s_train)\n",
    "print(rs.best_params_)\n",
    "print(rs.best_score_)"
   ]
  },
  {
   "cell_type": "markdown",
   "id": "8db8ef3e",
   "metadata": {},
   "source": [
    "After running the above cell 5 times again, the best results came from the hyperparameters listed in the classifier below. (Outputs above don't match because cells were re-run to clean up the notebook, but scores shown above don't beat the neg_log_loss of -0.20 from the best hyperparameters.)\n",
    "\n",
    "<font color='violet'>Final Modeling</font>\n",
    " \n",
    "Now that I've selected the GradientBoosting model and its best hyperparameters, I can use the model to make predictions of reorders and get a final evaluation of my model.   "
   ]
  },
  {
   "cell_type": "code",
   "execution_count": 8,
   "id": "22d6615c",
   "metadata": {},
   "outputs": [
    {
     "name": "stdout",
     "output_type": "stream",
     "text": [
      "Final log_loss score:  3.033199755613495\n",
      "Final roc_auc score:  0.5525925821402414\n",
      "Final f1 score:  0.18960435324793107\n",
      "AxesSubplot(0.125,0.11;0.62x0.77)\n"
     ]
    },
    {
     "data": {
      "image/png": "[encoded data removed]",
      "text/plain": [
       "<Figure size 640x480 with 2 Axes>"
      ]
     },
     "metadata": {},
     "output_type": "display_data"
    }
   ],
   "source": [
    "gb = ensemble.GradientBoostingClassifier(random_state=43, max_features='auto', \n",
    "                                         min_impurity_decrease=0.3, min_samples_leaf=6, \n",
    "                                         min_samples_split=4, min_weight_fraction_leaf=0.1, \n",
    "                                         n_estimators=150, max_depth=5, loss='exponential', \n",
    "                                         learning_rate=0.3)\n",
    "\n",
    "gb.fit(X_train_scaled, y_train)\n",
    "y_pred = gb.predict(X_test_scaled)\n",
    "\n",
    "print('Gradient Boosting log_loss score: ', metrics.log_loss(y_test, y_pred))\n",
    "print('Gradient Boosting roc_auc score: ', metrics.roc_auc_score(y_test, y_pred))\n",
    "print('Gradient Boosting f1 score: ', metrics.f1_score(y_test, y_pred))"
   ]
  },
  {
   "cell_type": "markdown",
   "id": "86355916",
   "metadata": {},
   "source": [
    "GradientBoosting may have overfit during cross-validation, because it's performing much less well on the test data here than the RandomForestClassifier did previously when I was tuning encoders. \n",
    "\n",
    "<font color='violet'>Try Hyperparameter Tuning with Random Forest Classifier</font>\n"
   ]
  },
  {
   "cell_type": "code",
   "execution_count": 9,
   "id": "65486da0",
   "metadata": {},
   "outputs": [
    {
     "name": "stdout",
     "output_type": "stream",
     "text": [
      "{'rf__oob_score': False, 'rf__n_estimators': 120, 'rf__min_weight_fraction_leaf': 0.1, 'rf__min_samples_split': 3, 'rf__min_samples_leaf': 3, 'rf__max_features': None, 'rf__max_depth': 14, 'rf__criterion': 'entropy', 'rf__class_weight': 'balanced_subsample', 'rf__ccp_alpha': 0.2}\n",
      "-0.5776369529242149\n"
     ]
    }
   ],
   "source": [
    "rf = ensemble.RandomForestClassifier(random_state=43)\n",
    "params = dict(rf__n_estimators=list(np.arange(100,201,10)), \n",
    "              rf__criterion=['gini', 'entropy'], \n",
    "              rf__max_depth=list(np.arange(2,21)), \n",
    "              rf__min_samples_split=[2,3,4,5], \n",
    "              rf__min_samples_leaf=[1,2,3,4,5], \n",
    "              rf__min_weight_fraction_leaf=[0,0.1,0.2,0.3,0.4,0.5], \n",
    "              rf__max_features=['sqrt', 'log2', None], \n",
    "              rf__oob_score=[True,False],\n",
    "              rf__class_weight=['balanced', 'balanced_subsample'], \n",
    "              rf__ccp_alpha=list(np.arange(0,1.1,0.1)))\n",
    "\n",
    "pipeline = Pipeline([('rf', rf)])\n",
    "\n",
    "rs = model_selection.RandomizedSearchCV(estimator=pipeline, param_distributions=params, \n",
    "                                        scoring='neg_log_loss', error_score='raise')\n",
    "rs.fit(X_s_train_scaled, y_s_train)\n",
    "print(rs.best_params_)\n",
    "print(rs.best_score_)"
   ]
  },
  {
   "cell_type": "markdown",
   "id": "0204aca0",
   "metadata": {},
   "source": [
    "After running the above cell 5 times, the best hyperparameters were those below.\n",
    "\n",
    "<font color='violet'>Modeling with Random Forest Classifier</font>"
   ]
  },
  {
   "cell_type": "code",
   "execution_count": 10,
   "id": "dc261ec1",
   "metadata": {},
   "outputs": [
    {
     "name": "stdout",
     "output_type": "stream",
     "text": [
      "Random Forest log_loss score:  3.033199755613495\n",
      "Random Forest roc_auc score:  0.5525925821402414\n",
      "Random Forest f1 score:  0.18960435324793107\n",
      "AxesSubplot(0.125,0.11;0.62x0.77)\n"
     ]
    },
    {
     "data": {
      "image/png": "[encoded data removed]",
      "text/plain": [
       "<Figure size 640x480 with 2 Axes>"
      ]
     },
     "metadata": {},
     "output_type": "display_data"
    }
   ],
   "source": [
    "rf = ensemble.RandomForestClassifier(random_state=43, n_estimators=200, criterion='gini', \n",
    "                                    max_depth=18, min_samples_split=5, min_samples_leaf=3, \n",
    "                                    min_weight_fraction_leaf=0.3, max_features='log2',\n",
    "                                    class_weight='balanced', ccp_alpha=0.1)\n",
    "                            \n",
    "rf.fit(X_train_scaled, y_train)\n",
    "y_pred = gb.predict(X_test_scaled)\n",
    "\n",
    "print('Random Forest log_loss score: ', metrics.log_loss(y_test, y_pred))\n",
    "print('Random Forest roc_auc score: ', metrics.roc_auc_score(y_test, y_pred))\n",
    "print('Random Forest f1 score: ', metrics.f1_score(y_test, y_pred))"
   ]
  },
  {
   "cell_type": "markdown",
   "id": "57184891",
   "metadata": {},
   "source": [
    "The Random Forest classifier does perform slightly better, with a lower log loss but is otherwise comparable to the Gradient Boosting classifier. \n",
    "\n",
    "I am not entirely sure why the roc_auc score here is so low compared with the scores from when I was playing around with encoders previously. One guess is that, because I was then working with just 0.1% of users, those users (despite being randomly chosen) were easy to make predictions for compared with some less consistent shoppers who appear elsewhere in this set of 1% of users. If this is the case, it would require making predictions for all users' reorders in order to know how well the model truly performs more generally. \n",
    "\n",
    "Another possible explanation is that this problem, unlike most, actually works better for predicting when there is less data. If this is the case, perhaps it is because user behavior is highly individual and idiosyncratic, such that modeling with multiple users in one dataset leads to users muddying one another's purchasing patterns. I'm not clear whether this is a realistic hypothesis, but I can test it by applying the models iteratively over single users to see if their purchases are predicted better when modeled individually. \n",
    "\n",
    "A final consideration before re-modeling: it would be more realistic if each test set is each user's most recent/final order. Split up the data in this fashion. In fact, re-run models with all users but with an improved train/test split, for better comparison of outcomes. \n",
    "\n",
    "<font color='violet'>Re-Run Model with Test Set of Only Final Orders</font>"
   ]
  },
  {
   "cell_type": "code",
   "execution_count": 17,
   "id": "71aea304",
   "metadata": {},
   "outputs": [
    {
     "name": "stdout",
     "output_type": "stream",
     "text": [
      "GB correct log_loss score:  1.8129387332404607\n",
      "GB correct roc_auc score:  0.5119224281750896\n",
      "GB correct f1 score:  0.04878048780487805\n",
      "RF correct log_loss score:  2.556743859529132\n",
      "RF correct roc_auc score:  0.7154194279815288\n",
      "RF correct f1 score:  0.40217391304347827\n"
     ]
    }
   ],
   "source": [
    "# Get new training and test sets\n",
    "correct_train = df.loc[df['order_by_user_sequence']!=df['order_by_user_sequence'].max(),:].copy()\n",
    "correct_test = df.loc[df['order_by_user_sequence']==df['order_by_user_sequence'].max(),:].copy() \n",
    "\n",
    "X_c_train = correct_train.drop(columns=['reordered', 'add_to_cart_sequence'])\n",
    "y_c_train = correct_train['reordered']\n",
    "X_c_test = correct_test.drop(columns=['reordered', 'add_to_cart_sequence'])\n",
    "y_c_test = correct_test['reordered']\n",
    "\n",
    "# Encode and initiate scaler and models\n",
    "target = ce.target_encoder.TargetEncoder(cols=categorical_columns)\n",
    "target.fit(X_c_train, y_c_train)\n",
    "X_c_train = target.transform(X_c_train)\n",
    "X_c_test = target.transform(X_c_test)\n",
    "\n",
    "mms = preprocessing.MinMaxScaler()\n",
    "    \n",
    "gb = ensemble.GradientBoostingClassifier(random_state=43, max_features='auto', \n",
    "                                         min_impurity_decrease=0.3, min_samples_leaf=6, \n",
    "                                         min_samples_split=4, min_weight_fraction_leaf=0.1, \n",
    "                                         n_estimators=150, max_depth=5, loss='exponential', \n",
    "                                         learning_rate=0.3)\n",
    "\n",
    "rf = ensemble.RandomForestClassifier(random_state=43, n_estimators=200, criterion='gini', \n",
    "                                     max_depth=18, min_samples_split=5, min_samples_leaf=3, \n",
    "                                     min_weight_fraction_leaf=0.3, max_features='log2',\n",
    "                                     class_weight='balanced', ccp_alpha=0.1)\n",
    "\n",
    "# Create pipelines and fit models to training data\n",
    "gb_pipe = Pipeline([('mms', mms), ('gb', gb)])\n",
    "rf_pipe = Pipeline([('mms', mms), ('rf', rf)])\n",
    "    \n",
    "gb_pipe.fit(X_c_train, y_c_train)\n",
    "gb_pred = gb_pipe.predict(X_c_test)\n",
    "\n",
    "rf_pipe.fit(X_c_train, y_c_train)\n",
    "rf_pred = rf_pipe.predict(X_c_test)\n",
    "\n",
    "\n",
    "# Score each model again\n",
    "print('GB correct log_loss score: ', metrics.log_loss(y_c_test, gb_pred))\n",
    "print('GB correct roc_auc score: ', metrics.roc_auc_score(y_c_test, gb_pred))\n",
    "print('GB correct f1 score: ', metrics.f1_score(y_c_test, gb_pred))\n",
    "\n",
    "print('RF correct log_loss score: ', metrics.log_loss(y_c_test, rf_pred))\n",
    "print('RF correct roc_auc score: ', metrics.roc_auc_score(y_c_test, rf_pred))\n",
    "print('RF correct f1 score: ', metrics.f1_score(y_c_test, rf_pred))"
   ]
  },
  {
   "cell_type": "markdown",
   "id": "8dc8d8a9",
   "metadata": {},
   "source": [
    "This actually grossly improved outcomes, specifically for the random forest classifier overall and, if focusing exclusively on log loss, for the gradient boosting classifier as well. For the sake of curiosity, carry forward with modeling each user individually. \n",
    "\n",
    "<font color='violet'>Apply Model Iteratively</font>"
   ]
  },
  {
   "cell_type": "code",
   "execution_count": 13,
   "id": "8f00030f",
   "metadata": {},
   "outputs": [
    {
     "name": "stdout",
     "output_type": "stream",
     "text": [
      "average log_loss:  4.374246734646219\n",
      "average roc_auce:  0.5937961823558361\n",
      "average f1 score:  0.23516884043601388\n",
      "AxesSubplot(0.125,0.11;0.62x0.77)\n"
     ]
    },
    {
     "data": {
      "image/png": "[encoded data removed]",
      "text/plain": [
       "<Figure size 640x480 with 2 Axes>"
      ]
     },
     "metadata": {},
     "output_type": "display_data"
    }
   ],
   "source": [
    "users = list(df['user_id'].unique())\n",
    "categorical_columns = ['user_id', 'product_name', 'aisle_name', 'dept_name']\n",
    "log_loss_scores = []\n",
    "roc_auc_scores = []\n",
    "f1_scores = []\n",
    "successful_users = 0\n",
    "\n",
    "for user in users:\n",
    "    this_user = df.loc[df['user_id']==user,:].copy()\n",
    "    \n",
    "    this_train = this_user.loc[this_user['order_by_user_sequence']!=this_user[\n",
    "    'order_by_user_sequence'].max(),:].copy()\n",
    "    \n",
    "    this_test = this_user.loc[this_user['order_by_user_sequence']==this_user[\n",
    "        'order_by_user_sequence'].max(),:].copy()    \n",
    "    \n",
    "    X_this_train = this_train.drop(columns=['reordered', 'add_to_cart_sequence'])\n",
    "    y_this_train = this_train['reordered']\n",
    "    X_this_test = this_test.drop(columns=['reordered', 'add_to_cart_sequence'])\n",
    "    y_this_test = this_test['reordered']\n",
    "    \n",
    "    target = ce.target_encoder.TargetEncoder(cols=categorical_columns)\n",
    "    target.fit(X_this_train, y_this_train)\n",
    "    X_this_train = target.transform(X_this_train)\n",
    "    X_this_test = target.transform(X_this_test)\n",
    "    \n",
    "    mms = preprocessing.MinMaxScaler()\n",
    "    \n",
    "    gb = ensemble.GradientBoostingClassifier(random_state=43, max_features='auto', \n",
    "                                             min_impurity_decrease=0.3, min_samples_leaf=6, \n",
    "                                             min_samples_split=4, min_weight_fraction_leaf=0.1, \n",
    "                                             n_estimators=150, max_depth=5, loss='exponential', \n",
    "                                             learning_rate=0.3)\n",
    "    \n",
    "    pipeline = Pipeline([('mms', mms), ('gb', gb)])\n",
    "    \n",
    "    # GradientBoosting doesn't work if y_train is all 0s. This could happen for users\n",
    "    # with few orders and no reorders at all or at least until their last order. \n",
    "    try:\n",
    "        pipeline.fit(X_this_train, y_this_train)\n",
    "        y_this_pred = pipeline.predict(X_this_test)\n",
    "        \n",
    "        log_loss_scores.append(metrics.log_loss(y_this_test, y_this_pred, labels=[0,1]))\n",
    "        f1_scores.append(metrics.f1_score(y_this_test, y_this_pred, zero_division=0))\n",
    "        # If a user had no reorders in their final order, roc_auc is impossible. \n",
    "        # Since for all I know this user's predictions are as good as random, give these auc=0.5\n",
    "        try: \n",
    "            roc_auc_scores.append(metrics.roc_auc_score(y_this_test, y_this_pred))\n",
    "        except: roc_auc_scores.append(0.5)\n",
    "        successful_users += 1\n",
    "    except: pass\n",
    "    \n",
    "print('gb average log_loss: ', mean(log_loss_scores))\n",
    "print('gb average roc_auce: ', mean(roc_auc_scores))\n",
    "print('gb average f1 score: ', mean(f1_scores))"
   ]
  },
  {
   "cell_type": "code",
   "execution_count": 16,
   "id": "ff3ab80b",
   "metadata": {},
   "outputs": [
    {
     "name": "stdout",
     "output_type": "stream",
     "text": [
      "2007 2060\n"
     ]
    }
   ],
   "source": [
    "# How many users were included in the evaluation above? \n",
    "print(successful_users, len(users))"
   ]
  },
  {
   "cell_type": "markdown",
   "id": "8b553337",
   "metadata": {},
   "source": [
    "Here, the log loss score is actually much worse than when modeling with the full dataset, but the area under the curve is considerably better and the f1 score is much better. \n",
    "\n",
    "Try iterating over users with the random forest model. "
   ]
  },
  {
   "cell_type": "code",
   "execution_count": 12,
   "id": "68e92b9c",
   "metadata": {},
   "outputs": [
    {
     "name": "stdout",
     "output_type": "stream",
     "text": [
      "average log_loss:  7.378430363386553\n",
      "average roc_auce:  0.6761306554494081\n",
      "average f1 score:  0.3266430634117519\n",
      "AxesSubplot(0.125,0.11;0.62x0.77)\n"
     ]
    },
    {
     "data": {
      "image/png": "[encoded data removed]",
      "text/plain": [
       "<Figure size 640x480 with 2 Axes>"
      ]
     },
     "metadata": {},
     "output_type": "display_data"
    }
   ],
   "source": [
    "warnings.simplefilter(action='ignore', category=FutureWarning)\n",
    "\n",
    "users = list(df['user_id'].unique())\n",
    "categorical_columns = ['user_id', 'product_name', 'aisle_name', 'dept_name']\n",
    "log_loss_scores = []\n",
    "roc_auc_scores = []\n",
    "f1_scores = []\n",
    "\n",
    "for user in users:\n",
    "    this_user = df.loc[df['user_id']==user,:].copy()\n",
    "    \n",
    "    this_train = this_user.loc[this_user['order_by_user_sequence']!=this_user[\n",
    "    'order_by_user_sequence'].max(),:].copy()\n",
    "    \n",
    "    this_test = this_user.loc[this_user['order_by_user_sequence']==this_user[\n",
    "        'order_by_user_sequence'].max(),:].copy()    \n",
    "    \n",
    "    X_this_train = this_train.drop(columns=['reordered', 'add_to_cart_sequence'])\n",
    "    y_this_train = this_train['reordered']\n",
    "    X_this_test = this_test.drop(columns=['reordered', 'add_to_cart_sequence'])\n",
    "    y_this_test = this_test['reordered']\n",
    "    \n",
    "    target = ce.target_encoder.TargetEncoder(cols=categorical_columns)\n",
    "    target.fit(X_this_train, y_this_train)\n",
    "    X_this_train = target.transform(X_this_train)\n",
    "    X_this_test = target.transform(X_this_test)\n",
    "    \n",
    "    mms = preprocessing.MinMaxScaler()\n",
    "    \n",
    "    rf = ensemble.RandomForestClassifier(random_state=43, n_estimators=200, criterion='gini', \n",
    "                                         max_depth=18, min_samples_split=5, min_samples_leaf=3, \n",
    "                                         min_weight_fraction_leaf=0.3, max_features='log2',\n",
    "                                         class_weight='balanced', ccp_alpha=0.1)\n",
    "    \n",
    "    pipeline = Pipeline([('mms', mms), ('rf', rf)])\n",
    "    \n",
    "    pipeline.fit(X_this_train, y_this_train)\n",
    "    y_this_pred = pipeline.predict(X_this_test)\n",
    "    \n",
    "    log_loss_scores.append(metrics.log_loss(y_this_test, y_this_pred, labels=[0,1]))\n",
    "    f1_scores.append(metrics.f1_score(y_this_test, y_this_pred, zero_division=0))\n",
    "    \n",
    "    # If a user had no reorders in their final order, roc_auc is impossible. \n",
    "    # Since for all I know this user's predictions are as good as random, give these auc=0.5\n",
    "    try: \n",
    "        roc_auc_scores.append(metrics.roc_auc_score(y_this_test, y_this_pred))\n",
    "    except: roc_auc_scores.append(0.5)\n",
    "    \n",
    "print('rf average log_loss: ', mean(log_loss_scores))\n",
    "print('rf average roc_auce: ', mean(roc_auc_scores))\n",
    "print('rf average f1 score: ', mean(f1_scores))"
   ]
  },
  {
   "cell_type": "markdown",
   "id": "70c6e257",
   "metadata": {},
   "source": [
    "Directly above, the iterated random forest area under the curve and f1 scores are even better than iterated gradient boosting, but the log loss is even worse. \n",
    "\n",
    "The random forest model, used on all data properly split into logical training and test sets, seems to perform best so far. Re-run a grid search given the improved train/test split to see if any different hyperparameters emerge as being best. "
   ]
  },
  {
   "cell_type": "code",
   "execution_count": null,
   "id": "c6e74219",
   "metadata": {},
   "outputs": [],
   "source": [
    "# Create train and test sets on a small enough portion of the data to grid search\n",
    "\n",
    "all_users = set(df['user_id'].unique())\n",
    "users_search = random.sample(list(all_users), 203)\n",
    "df_search = df.loc[df['user_id'].isin(users_search), :].copy()\n",
    "\n",
    "correct_search_train = df_search.loc[df_search['order_by_user_sequence']!=df_search[\n",
    "    'order_by_user_sequence'].max(),:].copy()\n",
    "    \n",
    "correct_search_test = df_search.loc[df_search['order_by_user_sequence']==df_search[\n",
    "        'order_by_user_sequence'].max(),:].copy()    \n",
    "    \n",
    "X_cs_train = correct_search_train.drop(columns=['reordered', 'add_to_cart_sequence'])\n",
    "y_cs_train = correct_search_train['reordered']\n",
    "X_cs_test = correct_search_test.drop(columns=['reordered', 'add_to_cart_sequence'])\n",
    "y_cs_test = correct_search_test['reordered']\n",
    "\n",
    "# Encode, initiate scaler and possible model parameters\n",
    "target = ce.target_encoder.TargetEncoder(cols=categorical_columns)\n",
    "target.fit(X_cs_train, y_cs_train)\n",
    "X_cs_train = target.transform(X_cs_train)\n",
    "X_cs_test = target.transform(X_cs_test)\n",
    "\n",
    "mms = preprocessing.MinMaxScaler()\n",
    "\n",
    "rf = ensemble.RandomForestClassifier(random_state=43)\n",
    "params = dict(rf__n_estimators=list(np.arange(100,201,10)), \n",
    "              rf__criterion=['gini', 'entropy'], \n",
    "              rf__max_depth=list(np.arange(2,21)), \n",
    "              rf__min_samples_split=[2,3,4,5], \n",
    "              rf__min_samples_leaf=[1,2,3,4,5], \n",
    "              rf__min_weight_fraction_leaf=[0,0.1,0.2,0.3,0.4,0.5], \n",
    "              rf__max_features=['sqrt', 'log2', None], \n",
    "              rf__oob_score=[True,False],\n",
    "              rf__class_weight=['balanced', 'balanced_subsample'], \n",
    "              rf__ccp_alpha=list(np.arange(0,1.1,0.1)))\n",
    "\n",
    "# Create pipeline and conduct random grid ssearch. Print results. \n",
    "pipeline = Pipeline([('mms', mms), ('rf', rf)])\n",
    "\n",
    "rs = model_selection.RandomizedSearchCV(estimator=pipeline, param_distributions=params, \n",
    "                                        scoring='neg_log_loss', error_score='raise')\n",
    "rs.fit(X_cs_train, y_cs_train)\n",
    "print(rs.best_params_)\n",
    "print(rs.best_score_)"
   ]
  },
  {
   "cell_type": "markdown",
   "id": "e94aff00",
   "metadata": {},
   "source": [
    "{'rf__oob_score': False, 'rf__n_estimators': 160, 'rf__min_weight_fraction_leaf': 0.4, 'rf__min_samples_split': 2, 'rf__min_samples_leaf': 5, 'rf__max_features': None, 'rf__max_depth': 16, 'rf__criterion': 'entropy', 'rf__class_weight': 'balanced_subsample', 'rf__ccp_alpha': 0.0}\n",
    "-0.551604393877853\n",
    "\n",
    "<font color='violet'>Run Model with Final Hyperparameters; Final Evaluation</font>"
   ]
  },
  {
   "cell_type": "code",
   "execution_count": 23,
   "id": "8b8c309f",
   "metadata": {},
   "outputs": [
    {
     "name": "stdout",
     "output_type": "stream",
     "text": [
      "Final log_loss score:  2.556743859529132\n",
      "Final roc_auc score:  0.7154194279815288\n",
      "Final f1 score:  0.40217391304347827\n"
     ]
    }
   ],
   "source": [
    "# Variables to use in the modeling were already created above\n",
    "# For encoded train/test data properly split, use X_c_train, X_c_test, y_c_train, y_c_test\n",
    "\n",
    "# Intialize model with updated best hyperparameters\n",
    "rf = ensemble.RandomForestClassifier(random_state=43, n_estimators=200, criterion='gini', \n",
    "                                     max_depth=18, min_samples_split=5, min_samples_leaf=3, \n",
    "                                     min_weight_fraction_leaf=0.3, max_features='log2',\n",
    "                                     class_weight='balanced', ccp_alpha=0.1)\n",
    "\n",
    "# Create pipelines and fit models to training data\n",
    "final_pipe = Pipeline([('mms', mms), ('rf', rf)])\n",
    "    \n",
    "final_pipe.fit(X_c_train, y_c_train)\n",
    "final_pred = rf_pipe.predict(X_c_test)\n",
    "\n",
    "# Print final scores\n",
    "print('Final log_loss score: ', metrics.log_loss(y_c_test, final_pred))\n",
    "print('Final roc_auc score: ', metrics.roc_auc_score(y_c_test, final_pred))\n",
    "print('Final f1 score: ', metrics.f1_score(y_c_test, final_pred))"
   ]
  },
  {
   "cell_type": "code",
   "execution_count": null,
   "id": "7e7a62bd",
   "metadata": {},
   "outputs": [],
   "source": [
    "# Print a heatmap to visualize the final results\n",
    "cm = metrics.confusion_matrix(y_c_test, final_pred)\n",
    "ax = sns.heatmap(data=cm/np.sum(cm), annot=True, center=0.7, cmap='binary').set(title='Confusion Matrix', \n",
    "                                                     xlabel='predicted label', \n",
    "                                                     ylabel='true label')"
   ]
  },
  {
   "cell_type": "code",
   "execution_count": null,
   "id": "2b29217f",
   "metadata": {},
   "outputs": [],
   "source": [
    "Audio(sound_file, autoplay=True)"
   ]
  },
  {
   "cell_type": "markdown",
   "id": "58dda86d",
   "metadata": {},
   "source": [
    "<font color='violet'>Summary & Next Steps</font>\n",
    "\n",
    "My recommendation would be to use this final Random Forest classifer on all data, properly split with the test set consisting of each user's most recent/final order. Although the log loss score is slightly higher than that of the gradient boosting classifier, it's still higher than that of any other models I've tried, and the area under the curve and f1 scores are much better with the random forest classifier. \n",
    "\n",
    "All work in my project has been done with only up to 1% of the users I originally had access to. The model could be applied to predict more users' reorders, but first all their data would need to be munged with the steps I've taken throughout this project: \n",
    "1. Add rows to every order to indicated non-orders.\n",
    "2. Add columns for the count and percentage of past orders where somebody has ordered an item and, specifically, ordered it within the first 6 items placed in their cart. \n",
    "3. Add columns to indicate the presence of keywords that appear in products' names, i.e. 'organic.'\n",
    "4. Remove rows for items in the 'missing' department, pending improved re-classification of those items into more intuitive, logical department categories. \n",
    "5. Finally, apply a pipeline to encode categorical columns with Target Encoder, normalize ordinal columns with Min Max Scaler, and classify reorders and non-reorders with a Random Forest Classifier. \n",
    "\n",
    "Looking forward, I could also try using the add_to_cart_sequence as a dependent variable. See how well I predict not exactly whether an item will be reordered or not, but instead: If I predict the first 5 items to be reordered (placed in the cart early this time), will any one of them end up actually getting reordered? \n",
    "\n",
    "Also, the final model as it is with the iterative approach provides no way to give anything other than a random suggestion to any user who has not yet made any reorders. These users might, however, be able to actually get recommendations that are better than random, albeit worse than recommendations for users with a reorder history. This could be done via a dual model method wherein users with no reorders yet are shown recommendations predicted with the random forest model above with all users' orders to date taken as training data. This way, any inherent reorder-ability that exists within particular products, for example, could impact the non-reordering users' recommendations. This could prompt them to make their first reorder of an item that is popularly reordered by many users. They still might not reorder it very often, but this would beat random recommendations. "
   ]
  },
  {
   "cell_type": "code",
   "execution_count": null,
   "id": "6e92fa16",
   "metadata": {},
   "outputs": [],
   "source": []
  }
 ],
 "metadata": {
  "kernelspec": {
   "display_name": "Python 3 (ipykernel)",
   "language": "python",
   "name": "python3"
  },
  "language_info": {
   "codemirror_mode": {
    "name": "ipython",
    "version": 3
   },
   "file_extension": ".py",
   "mimetype": "text/x-python",
   "name": "python",
   "nbconvert_exporter": "python",
   "pygments_lexer": "ipython3",
   "version": "3.9.12"
  }
 },
 "nbformat": 4,
 "nbformat_minor": 5
}
