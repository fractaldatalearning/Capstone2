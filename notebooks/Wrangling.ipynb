{
 "cells": [
  {
   "cell_type": "code",
   "execution_count": 1,
   "id": "aeb0b4ce",
   "metadata": {},
   "outputs": [],
   "source": [
    "# imports\n",
    "import numpy as np\n",
    "import pandas as pd\n",
    "import os\n",
    "from library.sb_utils import save_file\n"
   ]
  },
  {
   "cell_type": "code",
   "execution_count": 2,
   "id": "3bb09b54",
   "metadata": {},
   "outputs": [],
   "source": [
    "# preview files\n",
    "\n",
    "raw_prior_orders = pd.read_csv('../data/raw/order_products_prior.csv')\n",
    "raw_train_orders = pd.read_csv('../data/raw/order_products_train.csv')\n",
    "raw_products = pd.read_csv('../data/raw/products.csv')\n",
    "raw_aisles = pd.read_csv('../data/raw/aisles.csv')\n",
    "raw_departments = pd.read_csv('../data/raw/departments.csv')\n",
    "raw_order_context = pd.read_csv('../data/raw/orders.csv')"
   ]
  },
  {
   "cell_type": "code",
   "execution_count": 3,
   "id": "5b8cf9d4",
   "metadata": {},
   "outputs": [
    {
     "name": "stdout",
     "output_type": "stream",
     "text": [
      "<class 'pandas.core.frame.DataFrame'>\n",
      "RangeIndex: 32434489 entries, 0 to 32434488\n",
      "Data columns (total 4 columns):\n",
      " #   Column             Dtype\n",
      "---  ------             -----\n",
      " 0   order_id           int64\n",
      " 1   product_id         int64\n",
      " 2   add_to_cart_order  int64\n",
      " 3   reordered          int64\n",
      "dtypes: int64(4)\n",
      "memory usage: 989.8 MB\n"
     ]
    },
    {
     "data": {
      "text/html": [
       "<div>\n",
       "<style scoped>\n",
       "    .dataframe tbody tr th:only-of-type {\n",
       "        vertical-align: middle;\n",
       "    }\n",
       "\n",
       "    .dataframe tbody tr th {\n",
       "        vertical-align: top;\n",
       "    }\n",
       "\n",
       "    .dataframe thead th {\n",
       "        text-align: right;\n",
       "    }\n",
       "</style>\n",
       "<table border=\"1\" class=\"dataframe\">\n",
       "  <thead>\n",
       "    <tr style=\"text-align: right;\">\n",
       "      <th></th>\n",
       "      <th>order_id</th>\n",
       "      <th>product_id</th>\n",
       "      <th>add_to_cart_order</th>\n",
       "      <th>reordered</th>\n",
       "    </tr>\n",
       "  </thead>\n",
       "  <tbody>\n",
       "    <tr>\n",
       "      <th>0</th>\n",
       "      <td>2</td>\n",
       "      <td>33120</td>\n",
       "      <td>1</td>\n",
       "      <td>1</td>\n",
       "    </tr>\n",
       "    <tr>\n",
       "      <th>1</th>\n",
       "      <td>2</td>\n",
       "      <td>28985</td>\n",
       "      <td>2</td>\n",
       "      <td>1</td>\n",
       "    </tr>\n",
       "    <tr>\n",
       "      <th>2</th>\n",
       "      <td>2</td>\n",
       "      <td>9327</td>\n",
       "      <td>3</td>\n",
       "      <td>0</td>\n",
       "    </tr>\n",
       "    <tr>\n",
       "      <th>3</th>\n",
       "      <td>2</td>\n",
       "      <td>45918</td>\n",
       "      <td>4</td>\n",
       "      <td>1</td>\n",
       "    </tr>\n",
       "    <tr>\n",
       "      <th>4</th>\n",
       "      <td>2</td>\n",
       "      <td>30035</td>\n",
       "      <td>5</td>\n",
       "      <td>0</td>\n",
       "    </tr>\n",
       "  </tbody>\n",
       "</table>\n",
       "</div>"
      ],
      "text/plain": [
       "   order_id  product_id  add_to_cart_order  reordered\n",
       "0         2       33120                  1          1\n",
       "1         2       28985                  2          1\n",
       "2         2        9327                  3          0\n",
       "3         2       45918                  4          1\n",
       "4         2       30035                  5          0"
      ]
     },
     "execution_count": 3,
     "metadata": {},
     "output_type": "execute_result"
    }
   ],
   "source": [
    "raw_prior_orders.info()\n",
    "raw_prior_orders.head()"
   ]
  },
  {
   "cell_type": "code",
   "execution_count": 4,
   "id": "b90f5451",
   "metadata": {},
   "outputs": [
    {
     "name": "stdout",
     "output_type": "stream",
     "text": [
      "<class 'pandas.core.frame.DataFrame'>\n",
      "RangeIndex: 1384617 entries, 0 to 1384616\n",
      "Data columns (total 4 columns):\n",
      " #   Column             Non-Null Count    Dtype\n",
      "---  ------             --------------    -----\n",
      " 0   order_id           1384617 non-null  int64\n",
      " 1   product_id         1384617 non-null  int64\n",
      " 2   add_to_cart_order  1384617 non-null  int64\n",
      " 3   reordered          1384617 non-null  int64\n",
      "dtypes: int64(4)\n",
      "memory usage: 42.3 MB\n"
     ]
    },
    {
     "data": {
      "text/html": [
       "<div>\n",
       "<style scoped>\n",
       "    .dataframe tbody tr th:only-of-type {\n",
       "        vertical-align: middle;\n",
       "    }\n",
       "\n",
       "    .dataframe tbody tr th {\n",
       "        vertical-align: top;\n",
       "    }\n",
       "\n",
       "    .dataframe thead th {\n",
       "        text-align: right;\n",
       "    }\n",
       "</style>\n",
       "<table border=\"1\" class=\"dataframe\">\n",
       "  <thead>\n",
       "    <tr style=\"text-align: right;\">\n",
       "      <th></th>\n",
       "      <th>order_id</th>\n",
       "      <th>product_id</th>\n",
       "      <th>add_to_cart_order</th>\n",
       "      <th>reordered</th>\n",
       "    </tr>\n",
       "  </thead>\n",
       "  <tbody>\n",
       "    <tr>\n",
       "      <th>0</th>\n",
       "      <td>1</td>\n",
       "      <td>49302</td>\n",
       "      <td>1</td>\n",
       "      <td>1</td>\n",
       "    </tr>\n",
       "    <tr>\n",
       "      <th>1</th>\n",
       "      <td>1</td>\n",
       "      <td>11109</td>\n",
       "      <td>2</td>\n",
       "      <td>1</td>\n",
       "    </tr>\n",
       "    <tr>\n",
       "      <th>2</th>\n",
       "      <td>1</td>\n",
       "      <td>10246</td>\n",
       "      <td>3</td>\n",
       "      <td>0</td>\n",
       "    </tr>\n",
       "    <tr>\n",
       "      <th>3</th>\n",
       "      <td>1</td>\n",
       "      <td>49683</td>\n",
       "      <td>4</td>\n",
       "      <td>0</td>\n",
       "    </tr>\n",
       "    <tr>\n",
       "      <th>4</th>\n",
       "      <td>1</td>\n",
       "      <td>43633</td>\n",
       "      <td>5</td>\n",
       "      <td>1</td>\n",
       "    </tr>\n",
       "  </tbody>\n",
       "</table>\n",
       "</div>"
      ],
      "text/plain": [
       "   order_id  product_id  add_to_cart_order  reordered\n",
       "0         1       49302                  1          1\n",
       "1         1       11109                  2          1\n",
       "2         1       10246                  3          0\n",
       "3         1       49683                  4          0\n",
       "4         1       43633                  5          1"
      ]
     },
     "execution_count": 4,
     "metadata": {},
     "output_type": "execute_result"
    }
   ],
   "source": [
    "raw_train_orders.info()\n",
    "raw_train_orders.head()"
   ]
  },
  {
   "cell_type": "code",
   "execution_count": 5,
   "id": "61a478ac",
   "metadata": {},
   "outputs": [
    {
     "name": "stdout",
     "output_type": "stream",
     "text": [
      "<class 'pandas.core.frame.DataFrame'>\n",
      "RangeIndex: 49688 entries, 0 to 49687\n",
      "Data columns (total 4 columns):\n",
      " #   Column         Non-Null Count  Dtype \n",
      "---  ------         --------------  ----- \n",
      " 0   product_id     49688 non-null  int64 \n",
      " 1   product_name   49688 non-null  object\n",
      " 2   aisle_id       49688 non-null  int64 \n",
      " 3   department_id  49688 non-null  int64 \n",
      "dtypes: int64(3), object(1)\n",
      "memory usage: 1.5+ MB\n"
     ]
    },
    {
     "data": {
      "text/html": [
       "<div>\n",
       "<style scoped>\n",
       "    .dataframe tbody tr th:only-of-type {\n",
       "        vertical-align: middle;\n",
       "    }\n",
       "\n",
       "    .dataframe tbody tr th {\n",
       "        vertical-align: top;\n",
       "    }\n",
       "\n",
       "    .dataframe thead th {\n",
       "        text-align: right;\n",
       "    }\n",
       "</style>\n",
       "<table border=\"1\" class=\"dataframe\">\n",
       "  <thead>\n",
       "    <tr style=\"text-align: right;\">\n",
       "      <th></th>\n",
       "      <th>product_id</th>\n",
       "      <th>product_name</th>\n",
       "      <th>aisle_id</th>\n",
       "      <th>department_id</th>\n",
       "    </tr>\n",
       "  </thead>\n",
       "  <tbody>\n",
       "    <tr>\n",
       "      <th>0</th>\n",
       "      <td>1</td>\n",
       "      <td>Chocolate Sandwich Cookies</td>\n",
       "      <td>61</td>\n",
       "      <td>19</td>\n",
       "    </tr>\n",
       "    <tr>\n",
       "      <th>1</th>\n",
       "      <td>2</td>\n",
       "      <td>All-Seasons Salt</td>\n",
       "      <td>104</td>\n",
       "      <td>13</td>\n",
       "    </tr>\n",
       "    <tr>\n",
       "      <th>2</th>\n",
       "      <td>3</td>\n",
       "      <td>Robust Golden Unsweetened Oolong Tea</td>\n",
       "      <td>94</td>\n",
       "      <td>7</td>\n",
       "    </tr>\n",
       "    <tr>\n",
       "      <th>3</th>\n",
       "      <td>4</td>\n",
       "      <td>Smart Ones Classic Favorites Mini Rigatoni Wit...</td>\n",
       "      <td>38</td>\n",
       "      <td>1</td>\n",
       "    </tr>\n",
       "    <tr>\n",
       "      <th>4</th>\n",
       "      <td>5</td>\n",
       "      <td>Green Chile Anytime Sauce</td>\n",
       "      <td>5</td>\n",
       "      <td>13</td>\n",
       "    </tr>\n",
       "  </tbody>\n",
       "</table>\n",
       "</div>"
      ],
      "text/plain": [
       "   product_id                                       product_name  aisle_id  \\\n",
       "0           1                         Chocolate Sandwich Cookies        61   \n",
       "1           2                                   All-Seasons Salt       104   \n",
       "2           3               Robust Golden Unsweetened Oolong Tea        94   \n",
       "3           4  Smart Ones Classic Favorites Mini Rigatoni Wit...        38   \n",
       "4           5                          Green Chile Anytime Sauce         5   \n",
       "\n",
       "   department_id  \n",
       "0             19  \n",
       "1             13  \n",
       "2              7  \n",
       "3              1  \n",
       "4             13  "
      ]
     },
     "execution_count": 5,
     "metadata": {},
     "output_type": "execute_result"
    }
   ],
   "source": [
    "raw_products.info()\n",
    "raw_products.head()"
   ]
  },
  {
   "cell_type": "code",
   "execution_count": 6,
   "id": "14bb9097",
   "metadata": {},
   "outputs": [
    {
     "name": "stdout",
     "output_type": "stream",
     "text": [
      "<class 'pandas.core.frame.DataFrame'>\n",
      "RangeIndex: 134 entries, 0 to 133\n",
      "Data columns (total 2 columns):\n",
      " #   Column    Non-Null Count  Dtype \n",
      "---  ------    --------------  ----- \n",
      " 0   aisle_id  134 non-null    int64 \n",
      " 1   aisle     134 non-null    object\n",
      "dtypes: int64(1), object(1)\n",
      "memory usage: 2.2+ KB\n"
     ]
    },
    {
     "data": {
      "text/html": [
       "<div>\n",
       "<style scoped>\n",
       "    .dataframe tbody tr th:only-of-type {\n",
       "        vertical-align: middle;\n",
       "    }\n",
       "\n",
       "    .dataframe tbody tr th {\n",
       "        vertical-align: top;\n",
       "    }\n",
       "\n",
       "    .dataframe thead th {\n",
       "        text-align: right;\n",
       "    }\n",
       "</style>\n",
       "<table border=\"1\" class=\"dataframe\">\n",
       "  <thead>\n",
       "    <tr style=\"text-align: right;\">\n",
       "      <th></th>\n",
       "      <th>aisle_id</th>\n",
       "      <th>aisle</th>\n",
       "    </tr>\n",
       "  </thead>\n",
       "  <tbody>\n",
       "    <tr>\n",
       "      <th>0</th>\n",
       "      <td>1</td>\n",
       "      <td>prepared soups salads</td>\n",
       "    </tr>\n",
       "    <tr>\n",
       "      <th>1</th>\n",
       "      <td>2</td>\n",
       "      <td>specialty cheeses</td>\n",
       "    </tr>\n",
       "    <tr>\n",
       "      <th>2</th>\n",
       "      <td>3</td>\n",
       "      <td>energy granola bars</td>\n",
       "    </tr>\n",
       "    <tr>\n",
       "      <th>3</th>\n",
       "      <td>4</td>\n",
       "      <td>instant foods</td>\n",
       "    </tr>\n",
       "    <tr>\n",
       "      <th>4</th>\n",
       "      <td>5</td>\n",
       "      <td>marinades meat preparation</td>\n",
       "    </tr>\n",
       "  </tbody>\n",
       "</table>\n",
       "</div>"
      ],
      "text/plain": [
       "   aisle_id                       aisle\n",
       "0         1       prepared soups salads\n",
       "1         2           specialty cheeses\n",
       "2         3         energy granola bars\n",
       "3         4               instant foods\n",
       "4         5  marinades meat preparation"
      ]
     },
     "execution_count": 6,
     "metadata": {},
     "output_type": "execute_result"
    }
   ],
   "source": [
    "raw_aisles.info()\n",
    "raw_aisles.head()"
   ]
  },
  {
   "cell_type": "code",
   "execution_count": 7,
   "id": "13464266",
   "metadata": {},
   "outputs": [
    {
     "name": "stdout",
     "output_type": "stream",
     "text": [
      "<class 'pandas.core.frame.DataFrame'>\n",
      "RangeIndex: 21 entries, 0 to 20\n",
      "Data columns (total 2 columns):\n",
      " #   Column         Non-Null Count  Dtype \n",
      "---  ------         --------------  ----- \n",
      " 0   department_id  21 non-null     int64 \n",
      " 1   department     21 non-null     object\n",
      "dtypes: int64(1), object(1)\n",
      "memory usage: 464.0+ bytes\n"
     ]
    },
    {
     "data": {
      "text/html": [
       "<div>\n",
       "<style scoped>\n",
       "    .dataframe tbody tr th:only-of-type {\n",
       "        vertical-align: middle;\n",
       "    }\n",
       "\n",
       "    .dataframe tbody tr th {\n",
       "        vertical-align: top;\n",
       "    }\n",
       "\n",
       "    .dataframe thead th {\n",
       "        text-align: right;\n",
       "    }\n",
       "</style>\n",
       "<table border=\"1\" class=\"dataframe\">\n",
       "  <thead>\n",
       "    <tr style=\"text-align: right;\">\n",
       "      <th></th>\n",
       "      <th>department_id</th>\n",
       "      <th>department</th>\n",
       "    </tr>\n",
       "  </thead>\n",
       "  <tbody>\n",
       "    <tr>\n",
       "      <th>0</th>\n",
       "      <td>1</td>\n",
       "      <td>frozen</td>\n",
       "    </tr>\n",
       "    <tr>\n",
       "      <th>1</th>\n",
       "      <td>2</td>\n",
       "      <td>other</td>\n",
       "    </tr>\n",
       "    <tr>\n",
       "      <th>2</th>\n",
       "      <td>3</td>\n",
       "      <td>bakery</td>\n",
       "    </tr>\n",
       "    <tr>\n",
       "      <th>3</th>\n",
       "      <td>4</td>\n",
       "      <td>produce</td>\n",
       "    </tr>\n",
       "    <tr>\n",
       "      <th>4</th>\n",
       "      <td>5</td>\n",
       "      <td>alcohol</td>\n",
       "    </tr>\n",
       "  </tbody>\n",
       "</table>\n",
       "</div>"
      ],
      "text/plain": [
       "   department_id department\n",
       "0              1     frozen\n",
       "1              2      other\n",
       "2              3     bakery\n",
       "3              4    produce\n",
       "4              5    alcohol"
      ]
     },
     "execution_count": 7,
     "metadata": {},
     "output_type": "execute_result"
    }
   ],
   "source": [
    "raw_departments.info()\n",
    "raw_departments.head()"
   ]
  },
  {
   "cell_type": "code",
   "execution_count": 8,
   "id": "fd162ead",
   "metadata": {},
   "outputs": [
    {
     "name": "stdout",
     "output_type": "stream",
     "text": [
      "<class 'pandas.core.frame.DataFrame'>\n",
      "RangeIndex: 3421083 entries, 0 to 3421082\n",
      "Data columns (total 7 columns):\n",
      " #   Column                  Dtype  \n",
      "---  ------                  -----  \n",
      " 0   order_id                int64  \n",
      " 1   user_id                 int64  \n",
      " 2   eval_set                object \n",
      " 3   order_number            int64  \n",
      " 4   order_dow               int64  \n",
      " 5   order_hour_of_day       int64  \n",
      " 6   days_since_prior_order  float64\n",
      "dtypes: float64(1), int64(5), object(1)\n",
      "memory usage: 182.7+ MB\n"
     ]
    },
    {
     "data": {
      "text/html": [
       "<div>\n",
       "<style scoped>\n",
       "    .dataframe tbody tr th:only-of-type {\n",
       "        vertical-align: middle;\n",
       "    }\n",
       "\n",
       "    .dataframe tbody tr th {\n",
       "        vertical-align: top;\n",
       "    }\n",
       "\n",
       "    .dataframe thead th {\n",
       "        text-align: right;\n",
       "    }\n",
       "</style>\n",
       "<table border=\"1\" class=\"dataframe\">\n",
       "  <thead>\n",
       "    <tr style=\"text-align: right;\">\n",
       "      <th></th>\n",
       "      <th>order_id</th>\n",
       "      <th>user_id</th>\n",
       "      <th>eval_set</th>\n",
       "      <th>order_number</th>\n",
       "      <th>order_dow</th>\n",
       "      <th>order_hour_of_day</th>\n",
       "      <th>days_since_prior_order</th>\n",
       "    </tr>\n",
       "  </thead>\n",
       "  <tbody>\n",
       "    <tr>\n",
       "      <th>0</th>\n",
       "      <td>2539329</td>\n",
       "      <td>1</td>\n",
       "      <td>prior</td>\n",
       "      <td>1</td>\n",
       "      <td>2</td>\n",
       "      <td>8</td>\n",
       "      <td>NaN</td>\n",
       "    </tr>\n",
       "    <tr>\n",
       "      <th>1</th>\n",
       "      <td>2398795</td>\n",
       "      <td>1</td>\n",
       "      <td>prior</td>\n",
       "      <td>2</td>\n",
       "      <td>3</td>\n",
       "      <td>7</td>\n",
       "      <td>15.0</td>\n",
       "    </tr>\n",
       "    <tr>\n",
       "      <th>2</th>\n",
       "      <td>473747</td>\n",
       "      <td>1</td>\n",
       "      <td>prior</td>\n",
       "      <td>3</td>\n",
       "      <td>3</td>\n",
       "      <td>12</td>\n",
       "      <td>21.0</td>\n",
       "    </tr>\n",
       "    <tr>\n",
       "      <th>3</th>\n",
       "      <td>2254736</td>\n",
       "      <td>1</td>\n",
       "      <td>prior</td>\n",
       "      <td>4</td>\n",
       "      <td>4</td>\n",
       "      <td>7</td>\n",
       "      <td>29.0</td>\n",
       "    </tr>\n",
       "    <tr>\n",
       "      <th>4</th>\n",
       "      <td>431534</td>\n",
       "      <td>1</td>\n",
       "      <td>prior</td>\n",
       "      <td>5</td>\n",
       "      <td>4</td>\n",
       "      <td>15</td>\n",
       "      <td>28.0</td>\n",
       "    </tr>\n",
       "  </tbody>\n",
       "</table>\n",
       "</div>"
      ],
      "text/plain": [
       "   order_id  user_id eval_set  order_number  order_dow  order_hour_of_day  \\\n",
       "0   2539329        1    prior             1          2                  8   \n",
       "1   2398795        1    prior             2          3                  7   \n",
       "2    473747        1    prior             3          3                 12   \n",
       "3   2254736        1    prior             4          4                  7   \n",
       "4    431534        1    prior             5          4                 15   \n",
       "\n",
       "   days_since_prior_order  \n",
       "0                     NaN  \n",
       "1                    15.0  \n",
       "2                    21.0  \n",
       "3                    29.0  \n",
       "4                    28.0  "
      ]
     },
     "execution_count": 8,
     "metadata": {},
     "output_type": "execute_result"
    }
   ],
   "source": [
    "raw_order_context.info()\n",
    "raw_order_context.head()"
   ]
  },
  {
   "cell_type": "code",
   "execution_count": 9,
   "id": "c075d557",
   "metadata": {},
   "outputs": [
    {
     "data": {
      "text/plain": [
       "array(['frozen', 'other', 'bakery', 'produce', 'alcohol', 'international',\n",
       "       'beverages', 'pets', 'dry goods pasta', 'bulk', 'personal care',\n",
       "       'meat seafood', 'pantry', 'breakfast', 'canned goods',\n",
       "       'dairy eggs', 'household', 'babies', 'snacks', 'deli', 'missing'],\n",
       "      dtype=object)"
      ]
     },
     "execution_count": 9,
     "metadata": {},
     "output_type": "execute_result"
    }
   ],
   "source": [
    "# Learn more about what I'm assuming are nested relationships among\n",
    "# departments > aisles > products\n",
    "\n",
    "raw_departments['department'].unique()"
   ]
  },
  {
   "cell_type": "code",
   "execution_count": 10,
   "id": "76302cd3",
   "metadata": {},
   "outputs": [
    {
     "data": {
      "text/plain": [
       "array(['prepared soups salads', 'specialty cheeses',\n",
       "       'energy granola bars', 'instant foods',\n",
       "       'marinades meat preparation', 'other', 'packaged meat',\n",
       "       'bakery desserts', 'pasta sauce', 'kitchen supplies',\n",
       "       'cold flu allergy', 'fresh pasta', 'prepared meals',\n",
       "       'tofu meat alternatives', 'packaged seafood', 'fresh herbs',\n",
       "       'baking ingredients', 'bulk dried fruits vegetables',\n",
       "       'oils vinegars', 'oral hygiene', 'packaged cheese', 'hair care',\n",
       "       'popcorn jerky', 'fresh fruits', 'soap', 'coffee', 'beers coolers',\n",
       "       'red wines', 'honeys syrups nectars', 'latino foods',\n",
       "       'refrigerated', 'packaged produce', 'kosher foods',\n",
       "       'frozen meat seafood', 'poultry counter', 'butter',\n",
       "       'ice cream ice', 'frozen meals', 'seafood counter',\n",
       "       'dog food care', 'cat food care', 'frozen vegan vegetarian',\n",
       "       'buns rolls', 'eye ear care', 'candy chocolate', 'mint gum',\n",
       "       'vitamins supplements', 'breakfast bars pastries',\n",
       "       'packaged poultry', 'fruit vegetable snacks',\n",
       "       'preserved dips spreads', 'frozen breakfast', 'cream',\n",
       "       'paper goods', 'shave needs', 'diapers wipes', 'granola',\n",
       "       'frozen breads doughs', 'canned meals beans', 'trash bags liners',\n",
       "       'cookies cakes', 'white wines', 'grains rice dried goods',\n",
       "       'energy sports drinks', 'protein meal replacements', 'asian foods',\n",
       "       'fresh dips tapenades', 'bulk grains rice dried goods',\n",
       "       'soup broth bouillon', 'digestion',\n",
       "       'refrigerated pudding desserts', 'condiments', 'facial care',\n",
       "       'dish detergents', 'laundry', 'indian foods', 'soft drinks',\n",
       "       'crackers', 'frozen pizza', 'deodorants',\n",
       "       'canned jarred vegetables', 'baby accessories', 'fresh vegetables',\n",
       "       'milk', 'food storage', 'eggs', 'more household', 'spreads',\n",
       "       'salad dressing toppings', 'cocoa drink mixes', 'soy lactosefree',\n",
       "       'baby food formula', 'breakfast bakery', 'tea',\n",
       "       'canned meat seafood', 'lunch meat', 'baking supplies decor',\n",
       "       'juice nectars', 'canned fruit applesauce', 'missing',\n",
       "       'air fresheners candles', 'baby bath body care',\n",
       "       'ice cream toppings', 'spices seasonings',\n",
       "       'doughs gelatins bake mixes', 'hot dogs bacon sausage',\n",
       "       'chips pretzels', 'other creams cheeses', 'skin care',\n",
       "       'pickled goods olives', 'plates bowls cups flatware', 'bread',\n",
       "       'frozen juice', 'cleaning products',\n",
       "       'water seltzer sparkling water', 'frozen produce',\n",
       "       'nuts seeds dried fruit', 'first aid', 'frozen dessert', 'yogurt',\n",
       "       'cereal', 'meat counter', 'packaged vegetables fruits', 'spirits',\n",
       "       'trail mix snack mix', 'feminine care', 'body lotions soap',\n",
       "       'tortillas flat bread', 'frozen appetizers sides',\n",
       "       'hot cereal pancake mixes', 'dry pasta', 'beauty',\n",
       "       'muscles joints pain relief', 'specialty wines champagnes'],\n",
       "      dtype=object)"
      ]
     },
     "execution_count": 10,
     "metadata": {},
     "output_type": "execute_result"
    }
   ],
   "source": [
    "raw_aisles['aisle'].unique()"
   ]
  },
  {
   "cell_type": "code",
   "execution_count": 11,
   "id": "92850c36",
   "metadata": {},
   "outputs": [
    {
     "data": {
      "text/plain": [
       "134"
      ]
     },
     "execution_count": 11,
     "metadata": {},
     "output_type": "execute_result"
    }
   ],
   "source": [
    "raw_products['aisle_id'].nunique()"
   ]
  },
  {
   "cell_type": "code",
   "execution_count": 12,
   "id": "5757ffda",
   "metadata": {},
   "outputs": [
    {
     "data": {
      "text/plain": [
       "21"
      ]
     },
     "execution_count": 12,
     "metadata": {},
     "output_type": "execute_result"
    }
   ],
   "source": [
    "raw_products['department_id'].nunique()"
   ]
  },
  {
   "cell_type": "code",
   "execution_count": 13,
   "id": "09f09143",
   "metadata": {},
   "outputs": [
    {
     "name": "stdout",
     "output_type": "stream",
     "text": [
      "<class 'pandas.core.frame.DataFrame'>\n",
      "Int64Index: 49688 entries, 0 to 49687\n",
      "Data columns (total 5 columns):\n",
      " #   Column         Non-Null Count  Dtype \n",
      "---  ------         --------------  ----- \n",
      " 0   product_id     49688 non-null  int64 \n",
      " 1   product_name   49688 non-null  object\n",
      " 2   aisle_id       49688 non-null  int64 \n",
      " 3   department_id  49688 non-null  int64 \n",
      " 4   aisle          49688 non-null  object\n",
      "dtypes: int64(3), object(2)\n",
      "memory usage: 2.3+ MB\n"
     ]
    }
   ],
   "source": [
    "# Merge products, aisles, departments DataFrames\n",
    "\n",
    "products_w_aisles = raw_products.merge(raw_aisles, on='aisle_id')\n",
    "\n",
    "products_w_aisles.info()"
   ]
  },
  {
   "cell_type": "code",
   "execution_count": 14,
   "id": "a3c23036",
   "metadata": {},
   "outputs": [
    {
     "name": "stdout",
     "output_type": "stream",
     "text": [
      "<class 'pandas.core.frame.DataFrame'>\n",
      "Int64Index: 49688 entries, 0 to 49687\n",
      "Data columns (total 6 columns):\n",
      " #   Column         Non-Null Count  Dtype \n",
      "---  ------         --------------  ----- \n",
      " 0   product_id     49688 non-null  int64 \n",
      " 1   product_name   49688 non-null  object\n",
      " 2   aisle_id       49688 non-null  int64 \n",
      " 3   department_id  49688 non-null  int64 \n",
      " 4   aisle          49688 non-null  object\n",
      " 5   department     49688 non-null  object\n",
      "dtypes: int64(3), object(3)\n",
      "memory usage: 2.7+ MB\n"
     ]
    }
   ],
   "source": [
    "prod_aisle_dept = products_w_aisles.merge(raw_departments, on='department_id')\n",
    "\n",
    "prod_aisle_dept.info()"
   ]
  },
  {
   "cell_type": "code",
   "execution_count": 15,
   "id": "9d7415d2",
   "metadata": {},
   "outputs": [
    {
     "name": "stdout",
     "output_type": "stream",
     "text": [
      "<class 'pandas.core.frame.DataFrame'>\n",
      "Int64Index: 49688 entries, 0 to 49687\n",
      "Data columns (total 6 columns):\n",
      " #   Column         Non-Null Count  Dtype \n",
      "---  ------         --------------  ----- \n",
      " 0   product_id     49688 non-null  int64 \n",
      " 1   product_name   49688 non-null  object\n",
      " 2   aisle          49688 non-null  object\n",
      " 3   department     49688 non-null  object\n",
      " 4   aisle_id       49688 non-null  int64 \n",
      " 5   department_id  49688 non-null  int64 \n",
      "dtypes: int64(3), object(3)\n",
      "memory usage: 2.7+ MB\n"
     ]
    }
   ],
   "source": [
    "# Change column names and order to make it look how I want\n",
    "\n",
    "pad_rearranged = prod_aisle_dept.iloc[:, [0, 1, 4, 5, 2, 3]]\n",
    "\n",
    "pad_rearranged.info()"
   ]
  },
  {
   "cell_type": "code",
   "execution_count": 16,
   "id": "7b180076",
   "metadata": {},
   "outputs": [
    {
     "name": "stdout",
     "output_type": "stream",
     "text": [
      "<class 'pandas.core.frame.DataFrame'>\n",
      "Int64Index: 49688 entries, 0 to 49687\n",
      "Data columns (total 6 columns):\n",
      " #   Column         Non-Null Count  Dtype \n",
      "---  ------         --------------  ----- \n",
      " 0   product_id     49688 non-null  int64 \n",
      " 1   product_name   49688 non-null  object\n",
      " 2   aisle_name     49688 non-null  object\n",
      " 3   dept_name      49688 non-null  object\n",
      " 4   aisle_id       49688 non-null  int64 \n",
      " 5   department_id  49688 non-null  int64 \n",
      "dtypes: int64(3), object(3)\n",
      "memory usage: 2.7+ MB\n"
     ]
    }
   ],
   "source": [
    "pad = pad_rearranged\n",
    "\n",
    "pad = pad.rename(columns={'aisle': 'aisle_name', 'department': 'dept_name'})\n",
    "\n",
    "pad.info()"
   ]
  },
  {
   "cell_type": "code",
   "execution_count": 17,
   "id": "37ca9cf8",
   "metadata": {},
   "outputs": [
    {
     "name": "stdout",
     "output_type": "stream",
     "text": [
      "<class 'pandas.core.frame.DataFrame'>\n",
      "Int64Index: 32434489 entries, 0 to 32434488\n",
      "Data columns (total 9 columns):\n",
      " #   Column             Dtype \n",
      "---  ------             ----- \n",
      " 0   order_id           int64 \n",
      " 1   product_id         int64 \n",
      " 2   add_to_cart_order  int64 \n",
      " 3   reordered          int64 \n",
      " 4   product_name       object\n",
      " 5   aisle_name         object\n",
      " 6   dept_name          object\n",
      " 7   aisle_id           int64 \n",
      " 8   department_id      int64 \n",
      "dtypes: int64(6), object(3)\n",
      "memory usage: 2.4+ GB\n"
     ]
    }
   ],
   "source": [
    "# Merge prior orders and training orders with pad (products, aisles, departments) df\n",
    "\n",
    "prior_orders = raw_prior_orders.merge(pad, on='product_id')\n",
    "\n",
    "prior_orders.info()"
   ]
  },
  {
   "cell_type": "code",
   "execution_count": 18,
   "id": "a434f8b0",
   "metadata": {},
   "outputs": [
    {
     "name": "stdout",
     "output_type": "stream",
     "text": [
      "<class 'pandas.core.frame.DataFrame'>\n",
      "Int64Index: 1384617 entries, 0 to 1384616\n",
      "Data columns (total 9 columns):\n",
      " #   Column             Non-Null Count    Dtype \n",
      "---  ------             --------------    ----- \n",
      " 0   order_id           1384617 non-null  int64 \n",
      " 1   product_id         1384617 non-null  int64 \n",
      " 2   add_to_cart_order  1384617 non-null  int64 \n",
      " 3   reordered          1384617 non-null  int64 \n",
      " 4   product_name       1384617 non-null  object\n",
      " 5   aisle_name         1384617 non-null  object\n",
      " 6   dept_name          1384617 non-null  object\n",
      " 7   aisle_id           1384617 non-null  int64 \n",
      " 8   department_id      1384617 non-null  int64 \n",
      "dtypes: int64(6), object(3)\n",
      "memory usage: 105.6+ MB\n"
     ]
    }
   ],
   "source": [
    "training_orders = raw_train_orders.merge(pad, on='product_id')\n",
    "\n",
    "training_orders.info()"
   ]
  },
  {
   "cell_type": "code",
   "execution_count": 19,
   "id": "0a3c9d59",
   "metadata": {},
   "outputs": [
    {
     "name": "stdout",
     "output_type": "stream",
     "text": [
      "[ 2  3  4  5  6  7  8  9 10 11 12 13 14 15 16 18 19 20 21 22 23 24 25 26\n",
      " 27 28 29 30 31 32 33 35 37 39 40 41 42 43 44 45 46 47 48 49 50 51 52 53\n",
      " 54 55] [   1   36   38   96   98  112  170  218  226  349  393  456  473  631\n",
      "  719  762  774  844  878  904  915  988 1001 1032 1042 1077 1086 1119\n",
      " 1120 1139 1143 1145 1275 1280 1318 1325 1335 1342 1350 1468 1571 1572\n",
      " 1579 1591 1597 1620 1674 1682 1703 1721]\n"
     ]
    }
   ],
   "source": [
    "# Explore prior and training dfs to see if it makes sense to combine them\n",
    "# I'm not sure whether it will be most useful to work with the original chunks or the entire available dataset \n",
    "\n",
    "unique_prior_ids = prior_orders['order_id'].unique()\n",
    "unique_training_ids = training_orders['order_id'].unique()\n",
    "\n",
    "unique_prior_ids.sort()\n",
    "unique_training_ids.sort()\n",
    "\n",
    "print(unique_prior_ids[0:50], unique_training_ids[0:50])"
   ]
  },
  {
   "cell_type": "code",
   "execution_count": 20,
   "id": "7bf49bf9",
   "metadata": {},
   "outputs": [],
   "source": [
    "prior_order_list = unique_prior_ids.tolist()\n",
    "training_order_list = unique_training_ids.tolist()"
   ]
  },
  {
   "cell_type": "code",
   "execution_count": 21,
   "id": "853ac903",
   "metadata": {},
   "outputs": [
    {
     "data": {
      "text/plain": [
       "[1,\n",
       " 2,\n",
       " 3,\n",
       " 4,\n",
       " 5,\n",
       " 6,\n",
       " 7,\n",
       " 8,\n",
       " 9,\n",
       " 10,\n",
       " 11,\n",
       " 12,\n",
       " 13,\n",
       " 14,\n",
       " 15,\n",
       " 16,\n",
       " 18,\n",
       " 19,\n",
       " 20,\n",
       " 21,\n",
       " 22,\n",
       " 23,\n",
       " 24,\n",
       " 25,\n",
       " 26,\n",
       " 27,\n",
       " 28,\n",
       " 29,\n",
       " 30,\n",
       " 31,\n",
       " 32,\n",
       " 33,\n",
       " 35,\n",
       " 36,\n",
       " 37,\n",
       " 38,\n",
       " 39,\n",
       " 40,\n",
       " 41,\n",
       " 42,\n",
       " 43,\n",
       " 44,\n",
       " 45,\n",
       " 46,\n",
       " 47,\n",
       " 48,\n",
       " 49,\n",
       " 50,\n",
       " 51,\n",
       " 52]"
      ]
     },
     "execution_count": 21,
     "metadata": {},
     "output_type": "execute_result"
    }
   ],
   "source": [
    "all_orders_list = prior_order_list + training_order_list\n",
    "all_orders_list.sort()\n",
    "all_orders_list[0:50]"
   ]
  },
  {
   "cell_type": "code",
   "execution_count": 22,
   "id": "022e16fa",
   "metadata": {},
   "outputs": [
    {
     "data": {
      "text/plain": [
       "3346083"
      ]
     },
     "execution_count": 22,
     "metadata": {},
     "output_type": "execute_result"
    }
   ],
   "source": [
    "len(all_orders_list)"
   ]
  },
  {
   "cell_type": "code",
   "execution_count": 23,
   "id": "0b76557c",
   "metadata": {},
   "outputs": [
    {
     "data": {
      "text/plain": [
       "3346083"
      ]
     },
     "execution_count": 23,
     "metadata": {},
     "output_type": "execute_result"
    }
   ],
   "source": [
    "len(set(all_orders_list))"
   ]
  },
  {
   "cell_type": "code",
   "execution_count": 24,
   "id": "c069e2d4",
   "metadata": {},
   "outputs": [
    {
     "name": "stdout",
     "output_type": "stream",
     "text": [
      "<class 'pandas.core.frame.DataFrame'>\n",
      "Int64Index: 33819106 entries, 0 to 1384616\n",
      "Data columns (total 9 columns):\n",
      " #   Column             Dtype \n",
      "---  ------             ----- \n",
      " 0   order_id           int64 \n",
      " 1   product_id         int64 \n",
      " 2   add_to_cart_order  int64 \n",
      " 3   reordered          int64 \n",
      " 4   product_name       object\n",
      " 5   aisle_name         object\n",
      " 6   dept_name          object\n",
      " 7   aisle_id           int64 \n",
      " 8   department_id      int64 \n",
      "dtypes: int64(6), object(3)\n",
      "memory usage: 2.5+ GB\n"
     ]
    }
   ],
   "source": [
    "# Seeing no reason right now why I should work with the data in separate prior and train sets established for kaggle\n",
    "# There aren't duplicate order ids, so concatenating the order dataframes can be simple\n",
    "\n",
    "all_orders = pd.concat([prior_orders, training_orders])\n",
    "\n",
    "all_orders.info()"
   ]
  },
  {
   "cell_type": "code",
   "execution_count": 25,
   "id": "372c1064",
   "metadata": {},
   "outputs": [
    {
     "data": {
      "text/html": [
       "<div>\n",
       "<style scoped>\n",
       "    .dataframe tbody tr th:only-of-type {\n",
       "        vertical-align: middle;\n",
       "    }\n",
       "\n",
       "    .dataframe tbody tr th {\n",
       "        vertical-align: top;\n",
       "    }\n",
       "\n",
       "    .dataframe thead th {\n",
       "        text-align: right;\n",
       "    }\n",
       "</style>\n",
       "<table border=\"1\" class=\"dataframe\">\n",
       "  <thead>\n",
       "    <tr style=\"text-align: right;\">\n",
       "      <th></th>\n",
       "      <th>order_id</th>\n",
       "      <th>product_id</th>\n",
       "      <th>add_to_cart_order</th>\n",
       "      <th>reordered</th>\n",
       "      <th>product_name</th>\n",
       "      <th>aisle_name</th>\n",
       "      <th>dept_name</th>\n",
       "      <th>aisle_id</th>\n",
       "      <th>department_id</th>\n",
       "    </tr>\n",
       "  </thead>\n",
       "  <tbody>\n",
       "    <tr>\n",
       "      <th>26424</th>\n",
       "      <td>1</td>\n",
       "      <td>22035</td>\n",
       "      <td>8</td>\n",
       "      <td>1</td>\n",
       "      <td>Organic Whole String Cheese</td>\n",
       "      <td>packaged cheese</td>\n",
       "      <td>dairy eggs</td>\n",
       "      <td>21</td>\n",
       "      <td>16</td>\n",
       "    </tr>\n",
       "    <tr>\n",
       "      <th>19131</th>\n",
       "      <td>1</td>\n",
       "      <td>47209</td>\n",
       "      <td>7</td>\n",
       "      <td>0</td>\n",
       "      <td>Organic Hass Avocado</td>\n",
       "      <td>fresh fruits</td>\n",
       "      <td>produce</td>\n",
       "      <td>24</td>\n",
       "      <td>4</td>\n",
       "    </tr>\n",
       "    <tr>\n",
       "      <th>3651</th>\n",
       "      <td>1</td>\n",
       "      <td>13176</td>\n",
       "      <td>6</td>\n",
       "      <td>0</td>\n",
       "      <td>Bag of Organic Bananas</td>\n",
       "      <td>fresh fruits</td>\n",
       "      <td>produce</td>\n",
       "      <td>24</td>\n",
       "      <td>4</td>\n",
       "    </tr>\n",
       "    <tr>\n",
       "      <th>3627</th>\n",
       "      <td>1</td>\n",
       "      <td>43633</td>\n",
       "      <td>5</td>\n",
       "      <td>1</td>\n",
       "      <td>Lightly Smoked Sardines in Olive Oil</td>\n",
       "      <td>canned meat seafood</td>\n",
       "      <td>canned goods</td>\n",
       "      <td>95</td>\n",
       "      <td>15</td>\n",
       "    </tr>\n",
       "    <tr>\n",
       "      <th>1214</th>\n",
       "      <td>1</td>\n",
       "      <td>49683</td>\n",
       "      <td>4</td>\n",
       "      <td>0</td>\n",
       "      <td>Cucumber Kirby</td>\n",
       "      <td>fresh vegetables</td>\n",
       "      <td>produce</td>\n",
       "      <td>83</td>\n",
       "      <td>4</td>\n",
       "    </tr>\n",
       "    <tr>\n",
       "      <th>152</th>\n",
       "      <td>1</td>\n",
       "      <td>10246</td>\n",
       "      <td>3</td>\n",
       "      <td>0</td>\n",
       "      <td>Organic Celery Hearts</td>\n",
       "      <td>fresh vegetables</td>\n",
       "      <td>produce</td>\n",
       "      <td>83</td>\n",
       "      <td>4</td>\n",
       "    </tr>\n",
       "    <tr>\n",
       "      <th>8</th>\n",
       "      <td>1</td>\n",
       "      <td>11109</td>\n",
       "      <td>2</td>\n",
       "      <td>1</td>\n",
       "      <td>Organic 4% Milk Fat Whole Milk Cottage Cheese</td>\n",
       "      <td>other creams cheeses</td>\n",
       "      <td>dairy eggs</td>\n",
       "      <td>108</td>\n",
       "      <td>16</td>\n",
       "    </tr>\n",
       "    <tr>\n",
       "      <th>0</th>\n",
       "      <td>1</td>\n",
       "      <td>49302</td>\n",
       "      <td>1</td>\n",
       "      <td>1</td>\n",
       "      <td>Bulgarian Yogurt</td>\n",
       "      <td>yogurt</td>\n",
       "      <td>dairy eggs</td>\n",
       "      <td>120</td>\n",
       "      <td>16</td>\n",
       "    </tr>\n",
       "    <tr>\n",
       "      <th>0</th>\n",
       "      <td>2</td>\n",
       "      <td>33120</td>\n",
       "      <td>1</td>\n",
       "      <td>1</td>\n",
       "      <td>Organic Egg Whites</td>\n",
       "      <td>eggs</td>\n",
       "      <td>dairy eggs</td>\n",
       "      <td>86</td>\n",
       "      <td>16</td>\n",
       "    </tr>\n",
       "    <tr>\n",
       "      <th>86849</th>\n",
       "      <td>2</td>\n",
       "      <td>9327</td>\n",
       "      <td>3</td>\n",
       "      <td>0</td>\n",
       "      <td>Garlic Powder</td>\n",
       "      <td>spices seasonings</td>\n",
       "      <td>pantry</td>\n",
       "      <td>104</td>\n",
       "      <td>13</td>\n",
       "    </tr>\n",
       "  </tbody>\n",
       "</table>\n",
       "</div>"
      ],
      "text/plain": [
       "       order_id  product_id  add_to_cart_order  reordered  \\\n",
       "26424         1       22035                  8          1   \n",
       "19131         1       47209                  7          0   \n",
       "3651          1       13176                  6          0   \n",
       "3627          1       43633                  5          1   \n",
       "1214          1       49683                  4          0   \n",
       "152           1       10246                  3          0   \n",
       "8             1       11109                  2          1   \n",
       "0             1       49302                  1          1   \n",
       "0             2       33120                  1          1   \n",
       "86849         2        9327                  3          0   \n",
       "\n",
       "                                        product_name            aisle_name  \\\n",
       "26424                    Organic Whole String Cheese       packaged cheese   \n",
       "19131                           Organic Hass Avocado          fresh fruits   \n",
       "3651                          Bag of Organic Bananas          fresh fruits   \n",
       "3627            Lightly Smoked Sardines in Olive Oil   canned meat seafood   \n",
       "1214                                  Cucumber Kirby      fresh vegetables   \n",
       "152                            Organic Celery Hearts      fresh vegetables   \n",
       "8      Organic 4% Milk Fat Whole Milk Cottage Cheese  other creams cheeses   \n",
       "0                                   Bulgarian Yogurt                yogurt   \n",
       "0                                 Organic Egg Whites                  eggs   \n",
       "86849                                  Garlic Powder     spices seasonings   \n",
       "\n",
       "          dept_name  aisle_id  department_id  \n",
       "26424    dairy eggs        21             16  \n",
       "19131       produce        24              4  \n",
       "3651        produce        24              4  \n",
       "3627   canned goods        95             15  \n",
       "1214        produce        83              4  \n",
       "152         produce        83              4  \n",
       "8        dairy eggs       108             16  \n",
       "0        dairy eggs       120             16  \n",
       "0        dairy eggs        86             16  \n",
       "86849        pantry       104             13  "
      ]
     },
     "execution_count": 25,
     "metadata": {},
     "output_type": "execute_result"
    }
   ],
   "source": [
    "# It's ambiguous to me what add_to_cart_order means, so I went to look it up\n",
    "# Found an answer at https://gist.github.com/jeremystan/c3b39d947d9b88b3ccff3147dbcf6c6b\n",
    "# Apparently it's the order in which an item was placed in a cart relative to other items for that order\n",
    "# Not the order number of some prior order when the item was first purchased\n",
    "# Which I could confirm by looking at details for any given order with multiple items\n",
    "\n",
    "all_orders_sorted = all_orders.sort_values('order_id')\n",
    "\n",
    "all_orders_sorted.head(10)"
   ]
  },
  {
   "cell_type": "code",
   "execution_count": 63,
   "id": "90fae2d4",
   "metadata": {},
   "outputs": [
    {
     "name": "stdout",
     "output_type": "stream",
     "text": [
      "<class 'pandas.core.frame.DataFrame'>\n",
      "Int64Index: 33819106 entries, 0 to 1384616\n",
      "Data columns (total 9 columns):\n",
      " #   Column                Dtype \n",
      "---  ------                ----- \n",
      " 0   order_id              int64 \n",
      " 1   product_id            int64 \n",
      " 2   add_to_cart_sequence  int64 \n",
      " 3   reordered             int64 \n",
      " 4   product_name          object\n",
      " 5   aisle_name            object\n",
      " 6   dept_name             object\n",
      " 7   aisle_id              int64 \n",
      " 8   department_id         int64 \n",
      "dtypes: int64(6), object(3)\n",
      "memory usage: 2.5+ GB\n"
     ]
    }
   ],
   "source": [
    "# Clarifying the add_to_cart_order column name\n",
    "\n",
    "all_orders = all_orders.rename(columns={'add_to_cart_order': 'add_to_cart_sequence'})\n",
    "\n",
    "all_orders.info()"
   ]
  },
  {
   "cell_type": "code",
   "execution_count": 28,
   "id": "a66c8747",
   "metadata": {},
   "outputs": [
    {
     "data": {
      "text/plain": [
       "False"
      ]
     },
     "execution_count": 28,
     "metadata": {},
     "output_type": "execute_result"
    }
   ],
   "source": [
    "# Dealing with missing values\n",
    "\n",
    "all_orders.isnull().values.any()"
   ]
  },
  {
   "cell_type": "code",
   "execution_count": 29,
   "id": "673412b1",
   "metadata": {},
   "outputs": [
    {
     "data": {
      "text/html": [
       "<div>\n",
       "<style scoped>\n",
       "    .dataframe tbody tr th:only-of-type {\n",
       "        vertical-align: middle;\n",
       "    }\n",
       "\n",
       "    .dataframe tbody tr th {\n",
       "        vertical-align: top;\n",
       "    }\n",
       "\n",
       "    .dataframe thead th {\n",
       "        text-align: right;\n",
       "    }\n",
       "</style>\n",
       "<table border=\"1\" class=\"dataframe\">\n",
       "  <thead>\n",
       "    <tr style=\"text-align: right;\">\n",
       "      <th></th>\n",
       "      <th>order_id</th>\n",
       "      <th>product_id</th>\n",
       "      <th>add_to_cart_sequence</th>\n",
       "      <th>reordered</th>\n",
       "      <th>aisle_id</th>\n",
       "      <th>department_id</th>\n",
       "    </tr>\n",
       "  </thead>\n",
       "  <tbody>\n",
       "    <tr>\n",
       "      <th>count</th>\n",
       "      <td>3.381911e+07</td>\n",
       "      <td>3.381911e+07</td>\n",
       "      <td>3.381911e+07</td>\n",
       "      <td>3.381911e+07</td>\n",
       "      <td>3.381911e+07</td>\n",
       "      <td>3.381911e+07</td>\n",
       "    </tr>\n",
       "    <tr>\n",
       "      <th>mean</th>\n",
       "      <td>1.710566e+06</td>\n",
       "      <td>2.557551e+04</td>\n",
       "      <td>8.367738e+00</td>\n",
       "      <td>5.900617e-01</td>\n",
       "      <td>7.121799e+01</td>\n",
       "      <td>9.918544e+00</td>\n",
       "    </tr>\n",
       "    <tr>\n",
       "      <th>std</th>\n",
       "      <td>9.874008e+05</td>\n",
       "      <td>1.409770e+04</td>\n",
       "      <td>7.139540e+00</td>\n",
       "      <td>4.918220e-01</td>\n",
       "      <td>3.819898e+01</td>\n",
       "      <td>6.281655e+00</td>\n",
       "    </tr>\n",
       "    <tr>\n",
       "      <th>min</th>\n",
       "      <td>1.000000e+00</td>\n",
       "      <td>1.000000e+00</td>\n",
       "      <td>1.000000e+00</td>\n",
       "      <td>0.000000e+00</td>\n",
       "      <td>1.000000e+00</td>\n",
       "      <td>1.000000e+00</td>\n",
       "    </tr>\n",
       "    <tr>\n",
       "      <th>25%</th>\n",
       "      <td>8.554130e+05</td>\n",
       "      <td>1.351900e+04</td>\n",
       "      <td>3.000000e+00</td>\n",
       "      <td>0.000000e+00</td>\n",
       "      <td>3.100000e+01</td>\n",
       "      <td>4.000000e+00</td>\n",
       "    </tr>\n",
       "    <tr>\n",
       "      <th>50%</th>\n",
       "      <td>1.710660e+06</td>\n",
       "      <td>2.525600e+04</td>\n",
       "      <td>6.000000e+00</td>\n",
       "      <td>1.000000e+00</td>\n",
       "      <td>8.300000e+01</td>\n",
       "      <td>9.000000e+00</td>\n",
       "    </tr>\n",
       "    <tr>\n",
       "      <th>75%</th>\n",
       "      <td>2.565587e+06</td>\n",
       "      <td>3.793500e+04</td>\n",
       "      <td>1.100000e+01</td>\n",
       "      <td>1.000000e+00</td>\n",
       "      <td>1.070000e+02</td>\n",
       "      <td>1.600000e+01</td>\n",
       "    </tr>\n",
       "    <tr>\n",
       "      <th>max</th>\n",
       "      <td>3.421083e+06</td>\n",
       "      <td>4.968800e+04</td>\n",
       "      <td>1.450000e+02</td>\n",
       "      <td>1.000000e+00</td>\n",
       "      <td>1.340000e+02</td>\n",
       "      <td>2.100000e+01</td>\n",
       "    </tr>\n",
       "  </tbody>\n",
       "</table>\n",
       "</div>"
      ],
      "text/plain": [
       "           order_id    product_id  add_to_cart_sequence     reordered  \\\n",
       "count  3.381911e+07  3.381911e+07          3.381911e+07  3.381911e+07   \n",
       "mean   1.710566e+06  2.557551e+04          8.367738e+00  5.900617e-01   \n",
       "std    9.874008e+05  1.409770e+04          7.139540e+00  4.918220e-01   \n",
       "min    1.000000e+00  1.000000e+00          1.000000e+00  0.000000e+00   \n",
       "25%    8.554130e+05  1.351900e+04          3.000000e+00  0.000000e+00   \n",
       "50%    1.710660e+06  2.525600e+04          6.000000e+00  1.000000e+00   \n",
       "75%    2.565587e+06  3.793500e+04          1.100000e+01  1.000000e+00   \n",
       "max    3.421083e+06  4.968800e+04          1.450000e+02  1.000000e+00   \n",
       "\n",
       "           aisle_id  department_id  \n",
       "count  3.381911e+07   3.381911e+07  \n",
       "mean   7.121799e+01   9.918544e+00  \n",
       "std    3.819898e+01   6.281655e+00  \n",
       "min    1.000000e+00   1.000000e+00  \n",
       "25%    3.100000e+01   4.000000e+00  \n",
       "50%    8.300000e+01   9.000000e+00  \n",
       "75%    1.070000e+02   1.600000e+01  \n",
       "max    1.340000e+02   2.100000e+01  "
      ]
     },
     "execution_count": 29,
     "metadata": {},
     "output_type": "execute_result"
    }
   ],
   "source": [
    "# Begin to explore summary statistics and just better understand the data\n",
    "\n",
    "all_orders.describe()"
   ]
  },
  {
   "cell_type": "markdown",
   "id": "0347639c",
   "metadata": {},
   "source": [
    ".describe isn't so interesting for several columns such as boolean-as-int column 'reordered,' though the mean being 0.59 means that on average 60% of items in any order are reorders from sometime in the past.\n",
    "\n",
    "Likewise, the description of 'add_to_cart_sequence' isn't super useful because smaller numbers are over-represented. Each order of n number of items will have add_to_cart_sequence values 1, 2,...n It would be more interesting to find the smallest, largest, and average order sizes"
   ]
  },
  {
   "cell_type": "code",
   "execution_count": 35,
   "id": "3cbc1027",
   "metadata": {},
   "outputs": [
    {
     "data": {
      "text/plain": [
       "1"
      ]
     },
     "execution_count": 35,
     "metadata": {},
     "output_type": "execute_result"
    }
   ],
   "source": [
    "all_orders.groupby('order_id')['add_to_cart_sequence'].max().min()"
   ]
  },
  {
   "cell_type": "code",
   "execution_count": 36,
   "id": "03038c8c",
   "metadata": {},
   "outputs": [
    {
     "data": {
      "text/plain": [
       "145"
      ]
     },
     "execution_count": 36,
     "metadata": {},
     "output_type": "execute_result"
    }
   ],
   "source": [
    "all_orders.groupby('order_id')['add_to_cart_sequence'].max().max()"
   ]
  },
  {
   "cell_type": "code",
   "execution_count": 37,
   "id": "ef073206",
   "metadata": {},
   "outputs": [
    {
     "data": {
      "text/plain": [
       "10.10707325550502"
      ]
     },
     "execution_count": 37,
     "metadata": {},
     "output_type": "execute_result"
    }
   ],
   "source": [
    "all_orders.groupby('order_id')['add_to_cart_sequence'].max().mean()"
   ]
  },
  {
   "cell_type": "code",
   "execution_count": 38,
   "id": "43a5f0d8",
   "metadata": {},
   "outputs": [
    {
     "data": {
      "text/html": [
       "<div>\n",
       "<style scoped>\n",
       "    .dataframe tbody tr th:only-of-type {\n",
       "        vertical-align: middle;\n",
       "    }\n",
       "\n",
       "    .dataframe tbody tr th {\n",
       "        vertical-align: top;\n",
       "    }\n",
       "\n",
       "    .dataframe thead th {\n",
       "        text-align: right;\n",
       "    }\n",
       "</style>\n",
       "<table border=\"1\" class=\"dataframe\">\n",
       "  <thead>\n",
       "    <tr style=\"text-align: right;\">\n",
       "      <th></th>\n",
       "      <th>aisle_name</th>\n",
       "    </tr>\n",
       "    <tr>\n",
       "      <th>dept_name</th>\n",
       "      <th></th>\n",
       "    </tr>\n",
       "  </thead>\n",
       "  <tbody>\n",
       "    <tr>\n",
       "      <th>alcohol</th>\n",
       "      <td>beers coolersred winesspecialty wines champagn...</td>\n",
       "    </tr>\n",
       "    <tr>\n",
       "      <th>babies</th>\n",
       "      <td>baby accessoriesbaby bath body carebaby food f...</td>\n",
       "    </tr>\n",
       "    <tr>\n",
       "      <th>bakery</th>\n",
       "      <td>bakery dessertsbreadbreakfast bakerybuns rolls...</td>\n",
       "    </tr>\n",
       "    <tr>\n",
       "      <th>beverages</th>\n",
       "      <td>cocoa drink mixescoffeeenergy sports drinksjui...</td>\n",
       "    </tr>\n",
       "    <tr>\n",
       "      <th>breakfast</th>\n",
       "      <td>breakfast bars pastriescerealgranolahot cereal...</td>\n",
       "    </tr>\n",
       "    <tr>\n",
       "      <th>bulk</th>\n",
       "      <td>bulk dried fruits vegetablesbulk grains rice d...</td>\n",
       "    </tr>\n",
       "    <tr>\n",
       "      <th>canned goods</th>\n",
       "      <td>canned fruit applesaucecanned jarred vegetable...</td>\n",
       "    </tr>\n",
       "    <tr>\n",
       "      <th>dairy eggs</th>\n",
       "      <td>buttercreameggsmilkother creams cheesespackage...</td>\n",
       "    </tr>\n",
       "    <tr>\n",
       "      <th>deli</th>\n",
       "      <td>fresh dips tapenadeslunch meatprepared mealspr...</td>\n",
       "    </tr>\n",
       "    <tr>\n",
       "      <th>dry goods pasta</th>\n",
       "      <td>dry pastafresh pastagrains rice dried goodsins...</td>\n",
       "    </tr>\n",
       "    <tr>\n",
       "      <th>frozen</th>\n",
       "      <td>frozen appetizers sidesfrozen breads doughsfro...</td>\n",
       "    </tr>\n",
       "    <tr>\n",
       "      <th>household</th>\n",
       "      <td>air fresheners candlescleaning productsdish de...</td>\n",
       "    </tr>\n",
       "    <tr>\n",
       "      <th>international</th>\n",
       "      <td>asian foodsindian foodskosher foodslatino foods</td>\n",
       "    </tr>\n",
       "    <tr>\n",
       "      <th>meat seafood</th>\n",
       "      <td>hot dogs bacon sausagemeat counterpackaged mea...</td>\n",
       "    </tr>\n",
       "    <tr>\n",
       "      <th>missing</th>\n",
       "      <td>missing</td>\n",
       "    </tr>\n",
       "    <tr>\n",
       "      <th>other</th>\n",
       "      <td>other</td>\n",
       "    </tr>\n",
       "    <tr>\n",
       "      <th>pantry</th>\n",
       "      <td>baking ingredientsbaking supplies decorcondime...</td>\n",
       "    </tr>\n",
       "    <tr>\n",
       "      <th>personal care</th>\n",
       "      <td>beautybody lotions soapcold flu allergydeodora...</td>\n",
       "    </tr>\n",
       "    <tr>\n",
       "      <th>pets</th>\n",
       "      <td>cat food caredog food care</td>\n",
       "    </tr>\n",
       "    <tr>\n",
       "      <th>produce</th>\n",
       "      <td>fresh fruitsfresh herbsfresh vegetablespackage...</td>\n",
       "    </tr>\n",
       "    <tr>\n",
       "      <th>snacks</th>\n",
       "      <td>candy chocolatechips pretzelscookies cakescrac...</td>\n",
       "    </tr>\n",
       "  </tbody>\n",
       "</table>\n",
       "</div>"
      ],
      "text/plain": [
       "                                                        aisle_name\n",
       "dept_name                                                         \n",
       "alcohol          beers coolersred winesspecialty wines champagn...\n",
       "babies           baby accessoriesbaby bath body carebaby food f...\n",
       "bakery           bakery dessertsbreadbreakfast bakerybuns rolls...\n",
       "beverages        cocoa drink mixescoffeeenergy sports drinksjui...\n",
       "breakfast        breakfast bars pastriescerealgranolahot cereal...\n",
       "bulk             bulk dried fruits vegetablesbulk grains rice d...\n",
       "canned goods     canned fruit applesaucecanned jarred vegetable...\n",
       "dairy eggs       buttercreameggsmilkother creams cheesespackage...\n",
       "deli             fresh dips tapenadeslunch meatprepared mealspr...\n",
       "dry goods pasta  dry pastafresh pastagrains rice dried goodsins...\n",
       "frozen           frozen appetizers sidesfrozen breads doughsfro...\n",
       "household        air fresheners candlescleaning productsdish de...\n",
       "international      asian foodsindian foodskosher foodslatino foods\n",
       "meat seafood     hot dogs bacon sausagemeat counterpackaged mea...\n",
       "missing                                                    missing\n",
       "other                                                        other\n",
       "pantry           baking ingredientsbaking supplies decorcondime...\n",
       "personal care    beautybody lotions soapcold flu allergydeodora...\n",
       "pets                                    cat food caredog food care\n",
       "produce          fresh fruitsfresh herbsfresh vegetablespackage...\n",
       "snacks           candy chocolatechips pretzelscookies cakescrac..."
      ]
     },
     "execution_count": 38,
     "metadata": {},
     "output_type": "execute_result"
    }
   ],
   "source": [
    "# Peek at aisles per department\n",
    "\n",
    "sorted_pad = pad.sort_values(['dept_name', 'aisle_name', 'product_name'])\n",
    "aisles_in_depts = sorted_pad.groupby('aisle_name').head(1)[['dept_name', 'aisle_name']]\n",
    "aisles_in_depts.groupby('dept_name').sum()"
   ]
  },
  {
   "cell_type": "code",
   "execution_count": 39,
   "id": "4b4f5ce7",
   "metadata": {},
   "outputs": [],
   "source": [
    "# Explore products in aisles 'missing' and 'other'\n",
    "\n",
    "missing_aisle = sorted_pad[sorted_pad['aisle_name'] == 'missing']\n",
    "\n",
    "other_aisle = sorted_pad[sorted_pad['aisle_name'] == 'other']"
   ]
  },
  {
   "cell_type": "code",
   "execution_count": 40,
   "id": "fb4e2ab9",
   "metadata": {
    "scrolled": false
   },
   "outputs": [
    {
     "data": {
      "text/plain": [
       "['100% Pure Eucalyptus',\n",
       " '100% Pure Moisturizing Apricot Kernel Oil',\n",
       " '100% Pure Peppermint Oil',\n",
       " '100% Pure Tea Tree Oil',\n",
       " '38210 Full Jaw Cuticle Nipper',\n",
       " '3mg Melatonin Dietary Supplement Tablets - 240 CT',\n",
       " '5-HTP 100 Mg Vegetarian Capsules',\n",
       " '93/7 Ground Beef',\n",
       " 'AA Rechargeable Nickel Metal Hydride Batteries',\n",
       " 'Active Insect Repellant Aerosol',\n",
       " 'Advanced Refreshing Gel',\n",
       " 'Agar Agar Powder',\n",
       " 'All Purpose Flour Blend',\n",
       " 'All Purpose Precision Tip 2 Pack',\n",
       " 'Almond Joy Mini Creamers',\n",
       " 'Almost Naked Personal Lubricant',\n",
       " 'Aloe Vera Plant',\n",
       " 'Ant Killer Liquid',\n",
       " 'Anti Bug Shake & Spray',\n",
       " 'Anti-Fungal Liquid, Maximum Strength',\n",
       " 'Anti-Stress Drink Assorted Flavor Packets',\n",
       " 'Antibacterial Hand Soap',\n",
       " 'Antibacterial Liquid Hand Soap Fresh Citrus',\n",
       " 'Antifungal Clotrimazole Cream',\n",
       " 'Aromatic Bitters',\n",
       " 'Arouses & Intensifies Personal Lubricant',\n",
       " 'Arrowroot Powder',\n",
       " 'Arugula Rocket Salad',\n",
       " 'Ashwagandha Anti-Stress And Energy Caplets',\n",
       " 'Aspen Flower Essence Anxiety Homeopathic Remedy',\n",
       " \"Athlete's Foot Clotrimazole Antifungal Cream\",\n",
       " 'Authentic Margaritas Classic Lime',\n",
       " 'B Complex With Vitamin C Stress Formula Tablets',\n",
       " 'Baby And Me 2 Tablets',\n",
       " 'Baby Cough Syrup',\n",
       " 'Baby Diaper Rash Ointment',\n",
       " 'Baby Eczema Relief Body Creme',\n",
       " 'Baby Eczema Therapy Soothing Bath Treatment',\n",
       " 'Baby Healing Ointment',\n",
       " 'Baby Move Prune Concentrate with Prebiotics',\n",
       " 'Baby Naturals Gel For Teething Pain Relief',\n",
       " 'Baby Nighttime Tiny Cold Syrup',\n",
       " 'Baby Powder',\n",
       " 'Baby Tummy Gripe Water Dietary Supplement',\n",
       " 'Baby Vitamin C tablets',\n",
       " \"Baby's Jarro-Dophilus +FOS Powder Probiotic Supplement\",\n",
       " \"Baby's Vitamin D3\",\n",
       " 'BabyRub® Soothing Ointment',\n",
       " 'Baiocchi',\n",
       " 'Baking Soda Cream Cleaner Lemon Verbena',\n",
       " 'Bareskin Premium Lubricant Condoms Sensitivity',\n",
       " 'Beef Chuck Eye Steak',\n",
       " 'Beef Chuck Roast',\n",
       " 'Beef Flank Steak',\n",
       " 'Beef London Broil',\n",
       " 'Beef Sirloin Tip Roast',\n",
       " 'Bin No. 27 Finest Reserve Porto',\n",
       " 'Black Chia Seeds',\n",
       " 'Black Elderberry Nighttime Syrup',\n",
       " 'Black Pepper Grinder',\n",
       " 'Bloody Mary Cocktail Mix',\n",
       " 'Bloody Mary Mix',\n",
       " 'Bold & Spicy Bloody Mary Mix',\n",
       " 'Boneless Beef Chuck Steak',\n",
       " 'Boneless Beef Top Round Steak',\n",
       " 'Boneless Pork Tenderloin',\n",
       " 'Brightening Hydro Serum Facial Mask',\n",
       " 'Butt Paste Original Diaper Rash Ointment',\n",
       " 'Calcium Citrate Magnesium Plus',\n",
       " 'Calendula with Beeswax & Sunflower Zinc Oxide Diaper Cream',\n",
       " 'California Blush Pink Champagne',\n",
       " 'California Madeira',\n",
       " 'California White Zinfandel',\n",
       " 'Calms Forte Sleep Aid Tablets - 100 CT',\n",
       " 'Calms Nerve Tension Sleeplessness 4 GR. - 100 CT',\n",
       " 'Camilia Teething Relief Single Doses',\n",
       " 'Camilia, Single Liquid Doses',\n",
       " 'Candida Cleanse Tablets',\n",
       " 'Candigone Advanced Cleansing System',\n",
       " 'Candle Lighter',\n",
       " 'Candles Birthday White',\n",
       " 'Cane Sugar Cocktail Simple Syrup',\n",
       " 'Caramelized Pecans',\n",
       " 'Carob Spirulina Energy Chunks',\n",
       " 'Cellular Detox Bath',\n",
       " 'Chamomile',\n",
       " \"Cherry Flavor Infants' Oral Suspension\",\n",
       " 'Cherry Flavor Natural Calm Anti-Stress Drink',\n",
       " 'Cherry Flavor Teething & Oral Pain Relief Gel',\n",
       " 'Cherry Nighttime Instant Teething Pain Relief Gel',\n",
       " 'Cherry Vanilla Granola',\n",
       " \"Children's Chestal Homeopathic Medicine\",\n",
       " \"Children's Grape 24-Hour\",\n",
       " 'Chlorofresh Liquid Chlorophyll',\n",
       " 'Chocolate Bar',\n",
       " 'Chocolate Covered Raisins',\n",
       " 'Cider Vinegar Diet Formula Capsules',\n",
       " 'Cinnamon Vanilla Creme Liquid Coffee Creamer',\n",
       " 'Classic Lime Margarita',\n",
       " 'Classic Margarita Mix']"
      ]
     },
     "execution_count": 40,
     "metadata": {},
     "output_type": "execute_result"
    }
   ],
   "source": [
    "list(other_aisle['product_name'])[0:100]"
   ]
  },
  {
   "cell_type": "code",
   "execution_count": 41,
   "id": "1195d37c",
   "metadata": {
    "scrolled": false
   },
   "outputs": [
    {
     "data": {
      "text/plain": [
       "['100% Cauliflower & Sweet Potato Riced Veggies',\n",
       " '100% Grass-Fed No-Grain Strawberry Yogurt',\n",
       " '100% Juice Orange Pineapple',\n",
       " '100% Lactose Free Milk Vitamin D',\n",
       " '100% Natural Ginger Ale',\n",
       " '100% Natural Plain Baked Coconut Chips',\n",
       " '100% Orange Peach Mango Juice',\n",
       " '100% Paradise Blend Juice',\n",
       " '100% Probiotics Pineapple Mango Juice',\n",
       " '100% Pure Organic Coconut Water',\n",
       " '12 G. Protein Bar Coffee Chocolate',\n",
       " '12 Year Old Highland Single Malt Scotch Whisky',\n",
       " '2 Flavors in One Crazy Beans',\n",
       " '2 In 1 Fresh Berries Wild Raspberry Candle',\n",
       " '2% Milk Fat Creamy Small Curd Cottage Cheese',\n",
       " '2% Milk Fat Creamy Small Curd Peach Cottage Cheese',\n",
       " '2% Milkfat Lowfat Cottage Cheese Large Curd',\n",
       " '2% Organic Reduced Fat Milk',\n",
       " '2% Strawberry N Cream Greek Whips',\n",
       " '28 Qt Clear Storage Tote Clear With Blue Lid',\n",
       " '2nd Foods Carrot, Pear & Blackberry Baby Food',\n",
       " '3 Day Cleanse Total Body Reset Advanced Herbal Formula Capsules',\n",
       " '3 Tri Colored Organic Peppers',\n",
       " '3 in 1 Body Wash Shampoo & Conditioner',\n",
       " '4 Cheese Ravioli',\n",
       " '4.5\\\\\" Street Taco Flour Tortilla',\n",
       " '70% Cacao Baking Bar',\n",
       " '8\\\\\" Gluten Free Soft Taco Tortillas',\n",
       " '8\\\\\" Pecan Pie',\n",
       " 'Acetaminophen Extra Strength Rapid Release Gels',\n",
       " 'Advanced Care Beauty Finish Antiperspirant Deodorant',\n",
       " 'Advanced Care Invisible Sheer Fresh Deodorant',\n",
       " 'Aged Cheddar',\n",
       " 'Alimentum Hypoallergenic Powdered Infant Formula With Iron',\n",
       " 'All Black Signature Blend Cold Brew Coffee',\n",
       " 'All Black Single Original Coffee',\n",
       " 'All Natural Peanut Butter',\n",
       " 'All Purpose Cleaner Lavender',\n",
       " 'Almond Avalanche Truffle',\n",
       " 'Almond Dairy-Free Peach Yogurt Alternative',\n",
       " 'Almond Dairy-Free Vanilla Yogurt Alternative',\n",
       " 'Almond Dairy-Free Yogurt Alternative Strawberry',\n",
       " 'Almond Milk Vanilla Yogurt',\n",
       " 'Amazonas Honduras Coffee',\n",
       " 'Ambrosia Apple',\n",
       " 'Americone Dream Pint Slices Ice Cream',\n",
       " 'Anise (Aniseed) Bulb',\n",
       " 'Anjou Pear',\n",
       " 'Anti‑Perspirant Deodorant Caring Coconut',\n",
       " 'Aplwd Chicken Strips',\n",
       " 'Apple Flavored Finest Yoghurt',\n",
       " 'Apple Frank Organic Beef',\n",
       " 'Apple Fritters',\n",
       " 'Apple Kombucha',\n",
       " 'Apple Nectar Juice',\n",
       " 'Apple Veg Drink',\n",
       " 'Apple Wedges',\n",
       " 'Apples & Cheddar w/Cranberries & Cashews',\n",
       " 'Apples Honeycrisp',\n",
       " 'Apricot Pear Carrot Beet Bar',\n",
       " 'Artichoke',\n",
       " 'Artichoke Ravioli',\n",
       " 'Asian Pear Package',\n",
       " 'Assorted Fruit Flavor Gumdrops',\n",
       " 'Autumn Glory (Huaguan) Apple',\n",
       " 'Avocado Oil Mayonnaise',\n",
       " 'Avocado Slicer',\n",
       " 'BLUEBERRIES',\n",
       " 'Baby & Me 2 Dietary Supplement',\n",
       " 'Baby Banana',\n",
       " 'Baby Broccoli',\n",
       " 'Baby Gouda Cheese',\n",
       " 'Baby Zucchini Squash',\n",
       " 'Bacon & Cheese Biscuit',\n",
       " 'Bag',\n",
       " 'Bagged Red Potatos',\n",
       " 'Bake & Break Cheese Garlic Loaf',\n",
       " 'Banana Nonfat Yogurt',\n",
       " 'Banana Puffs Cereal Snack Cup',\n",
       " 'Banana on the Bottom Greek Yogurt Low-Fat Yogurt',\n",
       " 'Basic Dust Clean Living 300 Filtration Level Filter 16 x 20 x 1',\n",
       " 'Bathroom Tub & Tile Cleaner',\n",
       " 'Beefy Grande Stuffed Nachos',\n",
       " 'Beet Goes On Vegetable & Fruit Drink',\n",
       " 'Belg Fontina Snacking Cheese',\n",
       " 'Berries & Kale Fruit & Veggies Blend',\n",
       " 'Berry Boost 100% Fruit Juice Smoothie + Boosts',\n",
       " 'Big Daddy Ipa in Can',\n",
       " 'Big Rolls Pick-A-Size With Thirst Pockets Just White Paper Towels',\n",
       " 'Biscuits',\n",
       " 'Bite Size Candies Tropical',\n",
       " 'Bites Ft Beef Rollers',\n",
       " 'Black Bean Sea Salt & Rice Chips',\n",
       " 'Black Cherry Dragonfruit Sparkling Water Beverage',\n",
       " 'Black Cherry Ginger Ale',\n",
       " 'Black Cherry Natural Sparkling Water',\n",
       " 'Black Ink 1.4 mm Ball Point Pens',\n",
       " 'Black Raspberry Chocolate Chip',\n",
       " 'Black Raspberry Water',\n",
       " 'Black Tea With Vanilla Flavor In Pyramid Bags']"
      ]
     },
     "execution_count": 41,
     "metadata": {},
     "output_type": "execute_result"
    }
   ],
   "source": [
    "list(missing_aisle['product_name'])[0:100]"
   ]
  },
  {
   "cell_type": "code",
   "execution_count": 42,
   "id": "9a09af0b",
   "metadata": {},
   "outputs": [
    {
     "data": {
      "text/plain": [
       "1258"
      ]
     },
     "execution_count": 42,
     "metadata": {},
     "output_type": "execute_result"
    }
   ],
   "source": [
    "len(list(missing_aisle['product_name']))"
   ]
  },
  {
   "cell_type": "code",
   "execution_count": 43,
   "id": "f805a70f",
   "metadata": {},
   "outputs": [
    {
     "data": {
      "text/plain": [
       "548"
      ]
     },
     "execution_count": 43,
     "metadata": {},
     "output_type": "execute_result"
    }
   ],
   "source": [
    "len(list(other_aisle['product_name']))"
   ]
  },
  {
   "cell_type": "markdown",
   "id": "6c4113ba",
   "metadata": {},
   "source": [
    "1806 is a lot of poorly-aisled products, more than I'd hope to see in an \"other\" column, and certainly \"missing.\" It's hard to know at this point whether or not it's a good idea to try to give any of these better aisle classifications. That could be a waste of energy, or it could be that analyses end up relying heavily on aisles people purchase from and products being logically organized into aisles that match reasonable assumptions about products' relationships in which case plenty of these seem like they could actually fit well into existing or new aisles.\n",
    "\n",
    "If I did that for the sake of analysis, though, it would subsequently require reclassification in the original products table and collaboration with the hypothetical products manager of instacart. There may be reasons for these classifications that I don't understand.\n",
    "\n",
    "One reason to not mess with anything at this point is that, even if changing products' aisles seems like an excellent idea, knowing how to do that would come after some clustering and seeing which products have similar co-location patterns with other products in baskets. \n",
    "\n",
    "For now I'm keeping things the way they are, but changing things up in this area is something I'll keep in mind, despite my lack of domain knowledge, in case it seems helpful. "
   ]
  },
  {
   "cell_type": "code",
   "execution_count": 44,
   "id": "47cb9d02",
   "metadata": {},
   "outputs": [],
   "source": [
    "# Now I need to combine the all_orders products df with that which details \n",
    "#each order's user, day of week, time of day, and orders prior.\n",
    "# If for some reason I should have kept separate prior and train sets, I can go back and do this with those. "
   ]
  },
  {
   "cell_type": "code",
   "execution_count": 45,
   "id": "ec7fffd4",
   "metadata": {},
   "outputs": [
    {
     "name": "stdout",
     "output_type": "stream",
     "text": [
      "<class 'pandas.core.frame.DataFrame'>\n",
      "Int64Index: 33819106 entries, 0 to 33819105\n",
      "Data columns (total 15 columns):\n",
      " #   Column                  Dtype  \n",
      "---  ------                  -----  \n",
      " 0   order_id                int64  \n",
      " 1   user_id                 int64  \n",
      " 2   eval_set                object \n",
      " 3   order_number            int64  \n",
      " 4   order_dow               int64  \n",
      " 5   order_hour_of_day       int64  \n",
      " 6   days_since_prior_order  float64\n",
      " 7   product_id              int64  \n",
      " 8   add_to_cart_sequence    int64  \n",
      " 9   reordered               int64  \n",
      " 10  product_name            object \n",
      " 11  aisle_name              object \n",
      " 12  dept_name               object \n",
      " 13  aisle_id                int64  \n",
      " 14  department_id           int64  \n",
      "dtypes: float64(1), int64(10), object(4)\n",
      "memory usage: 4.0+ GB\n"
     ]
    }
   ],
   "source": [
    "full_data_1 = raw_order_context.merge(all_orders, on='order_id')\n",
    "full_data_1.info()"
   ]
  },
  {
   "cell_type": "code",
   "execution_count": 46,
   "id": "3120898d",
   "metadata": {},
   "outputs": [
    {
     "name": "stdout",
     "output_type": "stream",
     "text": [
      "<class 'pandas.core.frame.DataFrame'>\n",
      "Int64Index: 33819106 entries, 0 to 33819105\n",
      "Data columns (total 15 columns):\n",
      " #   Column                  Dtype  \n",
      "---  ------                  -----  \n",
      " 0   order_id                int64  \n",
      " 1   user_id                 int64  \n",
      " 2   order_number            int64  \n",
      " 3   order_dow               int64  \n",
      " 4   order_hour_of_day       int64  \n",
      " 5   days_since_prior_order  float64\n",
      " 6   product_id              int64  \n",
      " 7   add_to_cart_sequence    int64  \n",
      " 8   reordered               int64  \n",
      " 9   product_name            object \n",
      " 10  aisle_name              object \n",
      " 11  dept_name               object \n",
      " 12  aisle_id                int64  \n",
      " 13  department_id           int64  \n",
      " 14  eval_set                object \n",
      "dtypes: float64(1), int64(10), object(4)\n",
      "memory usage: 4.0+ GB\n"
     ]
    }
   ],
   "source": [
    "# Clean up this full table's columns.\n",
    "\n",
    "full_data_2 = full_data_1.iloc[:, [0, 1, 3, 4, 5, 6, 7, 8, 9, 10, 11, 12, 13, 14, 2]]\n",
    "\n",
    "full_data_2.info()"
   ]
  },
  {
   "cell_type": "code",
   "execution_count": 47,
   "id": "da836b86",
   "metadata": {},
   "outputs": [
    {
     "name": "stdout",
     "output_type": "stream",
     "text": [
      "<class 'pandas.core.frame.DataFrame'>\n",
      "Int64Index: 33819106 entries, 0 to 33819105\n",
      "Data columns (total 15 columns):\n",
      " #   Column                  Dtype  \n",
      "---  ------                  -----  \n",
      " 0   order_id                int64  \n",
      " 1   user_id                 int64  \n",
      " 2   order_by_user_sequence  int64  \n",
      " 3   order_dow               int64  \n",
      " 4   order_hour_of_day       int64  \n",
      " 5   days_since_prior_order  float64\n",
      " 6   product_id              int64  \n",
      " 7   add_to_cart_sequence    int64  \n",
      " 8   reordered               int64  \n",
      " 9   product_name            object \n",
      " 10  aisle_name              object \n",
      " 11  dept_name               object \n",
      " 12  aisle_id                int64  \n",
      " 13  department_id           int64  \n",
      " 14  eval_set                object \n",
      "dtypes: float64(1), int64(10), object(4)\n",
      "memory usage: 4.0+ GB\n"
     ]
    }
   ],
   "source": [
    "full_data_3 = full_data_2.rename(columns={'order_number': 'order_by_user_sequence'})\n",
    "\n",
    "full_data_3.info()"
   ]
  },
  {
   "cell_type": "code",
   "execution_count": 48,
   "id": "367927f4",
   "metadata": {},
   "outputs": [
    {
     "data": {
      "text/plain": [
       "3"
      ]
     },
     "execution_count": 48,
     "metadata": {},
     "output_type": "execute_result"
    }
   ],
   "source": [
    "# Explore some of the new columns\n",
    "# 'order_by_user_sequence' could be treated similarly to the add_to_cart_sequence column\n",
    "\n",
    "full_data_3.groupby('user_id')['order_by_user_sequence'].max().min()"
   ]
  },
  {
   "cell_type": "code",
   "execution_count": 49,
   "id": "ff89dbb2",
   "metadata": {},
   "outputs": [
    {
     "data": {
      "text/plain": [
       "100"
      ]
     },
     "execution_count": 49,
     "metadata": {},
     "output_type": "execute_result"
    }
   ],
   "source": [
    "# It looks like all users in this dataset have made at least 3 orders\n",
    "\n",
    "full_data_3.groupby('user_id')['order_by_user_sequence'].max().max()"
   ]
  },
  {
   "cell_type": "code",
   "execution_count": 50,
   "id": "3a9203c7",
   "metadata": {},
   "outputs": [
    {
     "data": {
      "text/plain": [
       "16.226658390273947"
      ]
     },
     "execution_count": 50,
     "metadata": {},
     "output_type": "execute_result"
    }
   ],
   "source": [
    "# The highest number of orders by a single user is 100\n",
    "\n",
    "full_data_3.groupby('user_id')['order_by_user_sequence'].max().mean()"
   ]
  },
  {
   "cell_type": "code",
   "execution_count": 51,
   "id": "3ea3b91e",
   "metadata": {},
   "outputs": [],
   "source": [
    "# The average user in this dataset has made 16 orders"
   ]
  },
  {
   "cell_type": "code",
   "execution_count": 52,
   "id": "6614f6e7",
   "metadata": {},
   "outputs": [
    {
     "data": {
      "text/plain": [
       "count    3.174104e+07\n",
       "mean     1.136415e+01\n",
       "std      8.940500e+00\n",
       "min      0.000000e+00\n",
       "25%      5.000000e+00\n",
       "50%      8.000000e+00\n",
       "75%      1.500000e+01\n",
       "max      3.000000e+01\n",
       "Name: days_since_prior_order, dtype: float64"
      ]
     },
     "execution_count": 52,
     "metadata": {},
     "output_type": "execute_result"
    }
   ],
   "source": [
    "full_data_3['days_since_prior_order'].describe()"
   ]
  },
  {
   "cell_type": "code",
   "execution_count": 53,
   "id": "bcf4f968",
   "metadata": {},
   "outputs": [
    {
     "data": {
      "text/plain": [
       "206209"
      ]
     },
     "execution_count": 53,
     "metadata": {},
     "output_type": "execute_result"
    }
   ],
   "source": [
    "# The average amount of time between orders is 11.36 days. \n",
    "len(full_data_3['user_id'].unique())"
   ]
  },
  {
   "cell_type": "code",
   "execution_count": 54,
   "id": "34dc233f",
   "metadata": {},
   "outputs": [
    {
     "data": {
      "text/plain": [
       "order_id                  False\n",
       "user_id                   False\n",
       "order_by_user_sequence    False\n",
       "order_dow                 False\n",
       "order_hour_of_day         False\n",
       "days_since_prior_order     True\n",
       "product_id                False\n",
       "add_to_cart_sequence      False\n",
       "reordered                 False\n",
       "product_name              False\n",
       "aisle_name                False\n",
       "dept_name                 False\n",
       "aisle_id                  False\n",
       "department_id             False\n",
       "eval_set                  False\n",
       "dtype: bool"
      ]
     },
     "execution_count": 54,
     "metadata": {},
     "output_type": "execute_result"
    }
   ],
   "source": [
    "# There are > 200k users in this dataset\n",
    "\n",
    "# Deal with null values\n",
    "\n",
    "full_data_3.isna().any()"
   ]
  },
  {
   "cell_type": "code",
   "execution_count": 55,
   "id": "b8688bb9",
   "metadata": {},
   "outputs": [
    {
     "data": {
      "text/plain": [
       "2078068"
      ]
     },
     "execution_count": 55,
     "metadata": {},
     "output_type": "execute_result"
    }
   ],
   "source": [
    "len(full_data_3[full_data_3['days_since_prior_order'].isnull()])"
   ]
  },
  {
   "cell_type": "code",
   "execution_count": 56,
   "id": "814439cb",
   "metadata": {},
   "outputs": [
    {
     "data": {
      "text/plain": [
       "465742"
      ]
     },
     "execution_count": 56,
     "metadata": {},
     "output_type": "execute_result"
    }
   ],
   "source": [
    "len(full_data_3[full_data_3['days_since_prior_order'] == 0])"
   ]
  },
  {
   "cell_type": "code",
   "execution_count": 57,
   "id": "8e9f51d1",
   "metadata": {},
   "outputs": [],
   "source": [
    "# It seems that NaN is not a fill-in for 0 because there are orders that happened\n",
    "# 0 days after the prior order. \n",
    "# My best guess is that NaN in this column means there are no days since the prior order\n",
    "# because this is the person's first order. "
   ]
  },
  {
   "cell_type": "code",
   "execution_count": 58,
   "id": "517f3713",
   "metadata": {},
   "outputs": [
    {
     "data": {
      "text/plain": [
       "2078068"
      ]
     },
     "execution_count": 58,
     "metadata": {},
     "output_type": "execute_result"
    }
   ],
   "source": [
    "len(full_data_3[full_data_3['order_by_user_sequence'] == 1])"
   ]
  },
  {
   "cell_type": "code",
   "execution_count": 59,
   "id": "a8d65139",
   "metadata": {},
   "outputs": [
    {
     "data": {
      "text/html": [
       "<div>\n",
       "<style scoped>\n",
       "    .dataframe tbody tr th:only-of-type {\n",
       "        vertical-align: middle;\n",
       "    }\n",
       "\n",
       "    .dataframe tbody tr th {\n",
       "        vertical-align: top;\n",
       "    }\n",
       "\n",
       "    .dataframe thead th {\n",
       "        text-align: right;\n",
       "    }\n",
       "</style>\n",
       "<table border=\"1\" class=\"dataframe\">\n",
       "  <thead>\n",
       "    <tr style=\"text-align: right;\">\n",
       "      <th></th>\n",
       "      <th>order_id</th>\n",
       "      <th>user_id</th>\n",
       "      <th>order_by_user_sequence</th>\n",
       "      <th>order_dow</th>\n",
       "      <th>order_hour_of_day</th>\n",
       "      <th>days_since_prior_order</th>\n",
       "      <th>product_id</th>\n",
       "      <th>add_to_cart_sequence</th>\n",
       "      <th>reordered</th>\n",
       "      <th>product_name</th>\n",
       "      <th>aisle_name</th>\n",
       "      <th>dept_name</th>\n",
       "      <th>aisle_id</th>\n",
       "      <th>department_id</th>\n",
       "      <th>eval_set</th>\n",
       "    </tr>\n",
       "  </thead>\n",
       "  <tbody>\n",
       "    <tr>\n",
       "      <th>7024194</th>\n",
       "      <td>3100557</td>\n",
       "      <td>42855</td>\n",
       "      <td>1</td>\n",
       "      <td>0</td>\n",
       "      <td>12</td>\n",
       "      <td>NaN</td>\n",
       "      <td>39275</td>\n",
       "      <td>3</td>\n",
       "      <td>0</td>\n",
       "      <td>Organic Blueberries</td>\n",
       "      <td>packaged vegetables fruits</td>\n",
       "      <td>produce</td>\n",
       "      <td>123</td>\n",
       "      <td>4</td>\n",
       "      <td>prior</td>\n",
       "    </tr>\n",
       "    <tr>\n",
       "      <th>17113530</th>\n",
       "      <td>2887338</td>\n",
       "      <td>103834</td>\n",
       "      <td>1</td>\n",
       "      <td>5</td>\n",
       "      <td>11</td>\n",
       "      <td>NaN</td>\n",
       "      <td>31717</td>\n",
       "      <td>29</td>\n",
       "      <td>0</td>\n",
       "      <td>Organic Cilantro</td>\n",
       "      <td>fresh herbs</td>\n",
       "      <td>produce</td>\n",
       "      <td>16</td>\n",
       "      <td>4</td>\n",
       "      <td>prior</td>\n",
       "    </tr>\n",
       "    <tr>\n",
       "      <th>7834907</th>\n",
       "      <td>2401107</td>\n",
       "      <td>47681</td>\n",
       "      <td>1</td>\n",
       "      <td>0</td>\n",
       "      <td>21</td>\n",
       "      <td>NaN</td>\n",
       "      <td>16797</td>\n",
       "      <td>35</td>\n",
       "      <td>0</td>\n",
       "      <td>Strawberries</td>\n",
       "      <td>fresh fruits</td>\n",
       "      <td>produce</td>\n",
       "      <td>24</td>\n",
       "      <td>4</td>\n",
       "      <td>prior</td>\n",
       "    </tr>\n",
       "    <tr>\n",
       "      <th>32782267</th>\n",
       "      <td>2494000</td>\n",
       "      <td>199794</td>\n",
       "      <td>1</td>\n",
       "      <td>4</td>\n",
       "      <td>13</td>\n",
       "      <td>NaN</td>\n",
       "      <td>2086</td>\n",
       "      <td>14</td>\n",
       "      <td>0</td>\n",
       "      <td>Sustainably Soft Bath Tissue</td>\n",
       "      <td>paper goods</td>\n",
       "      <td>household</td>\n",
       "      <td>54</td>\n",
       "      <td>17</td>\n",
       "      <td>prior</td>\n",
       "    </tr>\n",
       "    <tr>\n",
       "      <th>28950156</th>\n",
       "      <td>3256237</td>\n",
       "      <td>176456</td>\n",
       "      <td>1</td>\n",
       "      <td>2</td>\n",
       "      <td>16</td>\n",
       "      <td>NaN</td>\n",
       "      <td>24838</td>\n",
       "      <td>1</td>\n",
       "      <td>0</td>\n",
       "      <td>Unsweetened Almondmilk</td>\n",
       "      <td>soy lactosefree</td>\n",
       "      <td>dairy eggs</td>\n",
       "      <td>91</td>\n",
       "      <td>16</td>\n",
       "      <td>prior</td>\n",
       "    </tr>\n",
       "    <tr>\n",
       "      <th>16409996</th>\n",
       "      <td>106504</td>\n",
       "      <td>99602</td>\n",
       "      <td>1</td>\n",
       "      <td>6</td>\n",
       "      <td>12</td>\n",
       "      <td>NaN</td>\n",
       "      <td>49549</td>\n",
       "      <td>1</td>\n",
       "      <td>0</td>\n",
       "      <td>100% Lactose Free Ultra-Pasteurized Milk With ...</td>\n",
       "      <td>milk</td>\n",
       "      <td>dairy eggs</td>\n",
       "      <td>84</td>\n",
       "      <td>16</td>\n",
       "      <td>prior</td>\n",
       "    </tr>\n",
       "    <tr>\n",
       "      <th>774460</th>\n",
       "      <td>882501</td>\n",
       "      <td>4870</td>\n",
       "      <td>1</td>\n",
       "      <td>1</td>\n",
       "      <td>18</td>\n",
       "      <td>NaN</td>\n",
       "      <td>46979</td>\n",
       "      <td>6</td>\n",
       "      <td>0</td>\n",
       "      <td>Asparagus</td>\n",
       "      <td>fresh vegetables</td>\n",
       "      <td>produce</td>\n",
       "      <td>83</td>\n",
       "      <td>4</td>\n",
       "      <td>prior</td>\n",
       "    </tr>\n",
       "    <tr>\n",
       "      <th>10279437</th>\n",
       "      <td>1476285</td>\n",
       "      <td>62682</td>\n",
       "      <td>1</td>\n",
       "      <td>5</td>\n",
       "      <td>12</td>\n",
       "      <td>NaN</td>\n",
       "      <td>37190</td>\n",
       "      <td>18</td>\n",
       "      <td>0</td>\n",
       "      <td>Krinkle Cut Buffalo Bleu Potato Chips</td>\n",
       "      <td>chips pretzels</td>\n",
       "      <td>snacks</td>\n",
       "      <td>107</td>\n",
       "      <td>19</td>\n",
       "      <td>prior</td>\n",
       "    </tr>\n",
       "    <tr>\n",
       "      <th>171999</th>\n",
       "      <td>1460210</td>\n",
       "      <td>1100</td>\n",
       "      <td>1</td>\n",
       "      <td>1</td>\n",
       "      <td>10</td>\n",
       "      <td>NaN</td>\n",
       "      <td>22035</td>\n",
       "      <td>5</td>\n",
       "      <td>0</td>\n",
       "      <td>Organic Whole String Cheese</td>\n",
       "      <td>packaged cheese</td>\n",
       "      <td>dairy eggs</td>\n",
       "      <td>21</td>\n",
       "      <td>16</td>\n",
       "      <td>prior</td>\n",
       "    </tr>\n",
       "    <tr>\n",
       "      <th>3013577</th>\n",
       "      <td>1480633</td>\n",
       "      <td>18472</td>\n",
       "      <td>1</td>\n",
       "      <td>4</td>\n",
       "      <td>17</td>\n",
       "      <td>NaN</td>\n",
       "      <td>33198</td>\n",
       "      <td>36</td>\n",
       "      <td>0</td>\n",
       "      <td>Sparkling Natural Mineral Water</td>\n",
       "      <td>water seltzer sparkling water</td>\n",
       "      <td>beverages</td>\n",
       "      <td>115</td>\n",
       "      <td>7</td>\n",
       "      <td>prior</td>\n",
       "    </tr>\n",
       "  </tbody>\n",
       "</table>\n",
       "</div>"
      ],
      "text/plain": [
       "          order_id  user_id  order_by_user_sequence  order_dow  \\\n",
       "7024194    3100557    42855                       1          0   \n",
       "17113530   2887338   103834                       1          5   \n",
       "7834907    2401107    47681                       1          0   \n",
       "32782267   2494000   199794                       1          4   \n",
       "28950156   3256237   176456                       1          2   \n",
       "16409996    106504    99602                       1          6   \n",
       "774460      882501     4870                       1          1   \n",
       "10279437   1476285    62682                       1          5   \n",
       "171999     1460210     1100                       1          1   \n",
       "3013577    1480633    18472                       1          4   \n",
       "\n",
       "          order_hour_of_day  days_since_prior_order  product_id  \\\n",
       "7024194                  12                     NaN       39275   \n",
       "17113530                 11                     NaN       31717   \n",
       "7834907                  21                     NaN       16797   \n",
       "32782267                 13                     NaN        2086   \n",
       "28950156                 16                     NaN       24838   \n",
       "16409996                 12                     NaN       49549   \n",
       "774460                   18                     NaN       46979   \n",
       "10279437                 12                     NaN       37190   \n",
       "171999                   10                     NaN       22035   \n",
       "3013577                  17                     NaN       33198   \n",
       "\n",
       "          add_to_cart_sequence  reordered  \\\n",
       "7024194                      3          0   \n",
       "17113530                    29          0   \n",
       "7834907                     35          0   \n",
       "32782267                    14          0   \n",
       "28950156                     1          0   \n",
       "16409996                     1          0   \n",
       "774460                       6          0   \n",
       "10279437                    18          0   \n",
       "171999                       5          0   \n",
       "3013577                     36          0   \n",
       "\n",
       "                                               product_name  \\\n",
       "7024194                                 Organic Blueberries   \n",
       "17113530                                   Organic Cilantro   \n",
       "7834907                                        Strawberries   \n",
       "32782267                       Sustainably Soft Bath Tissue   \n",
       "28950156                             Unsweetened Almondmilk   \n",
       "16409996  100% Lactose Free Ultra-Pasteurized Milk With ...   \n",
       "774460                                            Asparagus   \n",
       "10279437              Krinkle Cut Buffalo Bleu Potato Chips   \n",
       "171999                          Organic Whole String Cheese   \n",
       "3013577                     Sparkling Natural Mineral Water   \n",
       "\n",
       "                             aisle_name   dept_name  aisle_id  department_id  \\\n",
       "7024194      packaged vegetables fruits     produce       123              4   \n",
       "17113530                    fresh herbs     produce        16              4   \n",
       "7834907                    fresh fruits     produce        24              4   \n",
       "32782267                    paper goods   household        54             17   \n",
       "28950156                soy lactosefree  dairy eggs        91             16   \n",
       "16409996                           milk  dairy eggs        84             16   \n",
       "774460                 fresh vegetables     produce        83              4   \n",
       "10279437                 chips pretzels      snacks       107             19   \n",
       "171999                  packaged cheese  dairy eggs        21             16   \n",
       "3013577   water seltzer sparkling water   beverages       115              7   \n",
       "\n",
       "         eval_set  \n",
       "7024194     prior  \n",
       "17113530    prior  \n",
       "7834907     prior  \n",
       "32782267    prior  \n",
       "28950156    prior  \n",
       "16409996    prior  \n",
       "774460      prior  \n",
       "10279437    prior  \n",
       "171999      prior  \n",
       "3013577     prior  "
      ]
     },
     "execution_count": 59,
     "metadata": {},
     "output_type": "execute_result"
    }
   ],
   "source": [
    "null_days_since = full_data_3[full_data_3['days_since_prior_order'].isnull()]\n",
    "null_days_since.sample(10)"
   ]
  },
  {
   "cell_type": "code",
   "execution_count": 60,
   "id": "80fabff3",
   "metadata": {},
   "outputs": [],
   "source": [
    "# Yes, it looks like NaN days_since_prior corresponds with a user's first order\n",
    "# Null truly makes sense here. I could change the value of NaN for some purposes\n",
    "# but will leave it for now. "
   ]
  },
  {
   "cell_type": "code",
   "execution_count": 61,
   "id": "2b93f80f",
   "metadata": {},
   "outputs": [],
   "source": [
    "# Done for now\n",
    "full_data_cleaned = full_data_3"
   ]
  },
  {
   "cell_type": "code",
   "execution_count": 62,
   "id": "f47ba6d8",
   "metadata": {},
   "outputs": [
    {
     "name": "stdout",
     "output_type": "stream",
     "text": [
      "A file already exists with this name.\n",
      "\n",
      "Do you want to overwrite? (Y/N)Y\n",
      "Writing file.  \"../data/processed/full_data_cleaned.csv\"\n"
     ]
    }
   ],
   "source": [
    "# save the data to a new csv file\n",
    "datapath = '../data/processed'\n",
    "save_file(full_data_cleaned, 'full_data_cleaned.csv', datapath)"
   ]
  },
  {
   "cell_type": "code",
   "execution_count": null,
   "id": "e02c0d77",
   "metadata": {},
   "outputs": [],
   "source": [
    "# In case there's anything missing from wrangling that I mistakenly put in an eda notebook instead\n",
    "# Here's the start to my eda: https://github.com/fractaldatalearning/Capstone2/blob/main/notebooks/eda.ipynb"
   ]
  }
 ],
 "metadata": {
  "kernelspec": {
   "display_name": "Python 3 (ipykernel)",
   "language": "python",
   "name": "python3"
  },
  "language_info": {
   "codemirror_mode": {
    "name": "ipython",
    "version": 3
   },
   "file_extension": ".py",
   "mimetype": "text/x-python",
   "name": "python",
   "nbconvert_exporter": "python",
   "pygments_lexer": "ipython3",
   "version": "3.9.12"
  }
 },
 "nbformat": 4,
 "nbformat_minor": 5
}
