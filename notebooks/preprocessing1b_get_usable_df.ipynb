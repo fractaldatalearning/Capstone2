{
 "cells": [
  {
   "cell_type": "markdown",
   "id": "9876cba8",
   "metadata": {},
   "source": [
    "Continuing work from preprocessing1a, just because that notebook was running too slowly: https://github.com/fractaldatalearning/Capstone2/blob/main/notebooks/preprocessing1a_choose_users.ipynb\n",
    "\n",
    "Previously, I selected a random subset of users and created rows for non-orders. Here, I'll need to start by cleaning up all those rows before building the 'past_orders' column. "
   ]
  },
  {
   "cell_type": "code",
   "execution_count": 1,
   "id": "b907dbef",
   "metadata": {},
   "outputs": [],
   "source": [
    "import pandas as pd\n",
    "import numpy as np\n",
    "import os\n",
    "from library.sb_utils import save_file\n",
    "\n",
    "import random"
   ]
  },
  {
   "cell_type": "code",
   "execution_count": 2,
   "id": "d2a397c2",
   "metadata": {},
   "outputs": [],
   "source": [
    "from IPython.display import Audio\n",
    "sound_file = './alert.wav'"
   ]
  },
  {
   "cell_type": "code",
   "execution_count": 3,
   "id": "f93366fc",
   "metadata": {},
   "outputs": [
    {
     "name": "stdout",
     "output_type": "stream",
     "text": [
      "<class 'pandas.core.frame.DataFrame'>\n",
      "RangeIndex: 1316889 entries, 0 to 1316888\n",
      "Data columns (total 11 columns):\n",
      " #   Column                  Non-Null Count    Dtype \n",
      "---  ------                  --------------    ----- \n",
      " 0   order_id                1316889 non-null  object\n",
      " 1   user_id                 1316889 non-null  int64 \n",
      " 2   order_by_user_sequence  1316889 non-null  int64 \n",
      " 3   order_dow               1316889 non-null  object\n",
      " 4   order_hour_of_day       1316889 non-null  object\n",
      " 5   days_since_prior_order  1316889 non-null  object\n",
      " 6   add_to_cart_sequence    1316889 non-null  object\n",
      " 7   reordered               1316889 non-null  object\n",
      " 8   product_name            1316889 non-null  object\n",
      " 9   aisle_name              1316889 non-null  object\n",
      " 10  dept_name               1316889 non-null  object\n",
      "dtypes: int64(2), object(9)\n",
      "memory usage: 110.5+ MB\n"
     ]
    }
   ],
   "source": [
    "# import users_incorrect_deets from previous notebook\n",
    "df = pd.read_csv('../data/processed/users_incorrect_deets.csv')\n",
    "df.info()"
   ]
  },
  {
   "cell_type": "code",
   "execution_count": 11,
   "id": "3df23281",
   "metadata": {},
   "outputs": [],
   "source": [
    "# The new rows were created without updating orde_id, order_dow, order_hour_of_day, \n",
    "# days_since_prior_order. Fix this.\n",
    "\n",
    "users = list(df['user_id'].unique())\n",
    "\n",
    "for user in users:\n",
    "    this_users_rows = df.loc[df['user_id']==user, :].copy()\n",
    "    \n",
    "    # Iterate over each order for this user\n",
    "    for order in range(2, 101):\n",
    "        \n",
    "        this_order = this_users_rows.loc[this_users_rows[\n",
    "            'order_by_user_sequence']==order, :].copy()\n",
    "        \n",
    "        # Get the values columns should have for this order. Can just get the order details \n",
    "        # from the first item placed in the cart. Need to ignore index errors that come up \n",
    "        # when a particular user doesn't actually have as many orders as I'm interating through\n",
    "        # in order to just move on to the next user. \n",
    "        try:\n",
    "            correct_order_id = this_order[this_order['add_to_cart_sequence']==1][\n",
    "                'order_id'].values[0]\n",
    "            correct_order_dow = this_order[this_order['add_to_cart_sequence']==1][\n",
    "            'order_dow'].values[0]\n",
    "            correct_order_hour_of_day = this_order[this_order['add_to_cart_sequence']==1][\n",
    "                'order_hour_of_day'].values[0]\n",
    "            correct_days_since_prior_order = this_order[this_order['add_to_cart_sequence']==1][\n",
    "                'days_since_prior_order'].values[0]\n",
    "        except IndexError:\n",
    "            pass\n",
    "        \n",
    "        # Change values in original df, just rows for this order. So that all rows, including\n",
    "        # those I created and filled with 'x', have the correct order details\n",
    "        try:\n",
    "            df.loc[(df['user_id']==user) \n",
    "                   &(df['order_by_user_sequence']==order),'order_id'] = correct_order_id\n",
    "            df.loc[(df['user_id']==user)\n",
    "                   &(df['order_by_user_sequence']==order),'order_dow'] = correct_order_dow\n",
    "            df.loc[(df['user_id']==user)\n",
    "                   &(df['order_by_user_sequence']==order),'order_hour_of_day'\n",
    "                  ] = correct_order_hour_of_day\n",
    "            df.loc[(df['user_id']==user)&\n",
    "                   (df['order_by_user_sequence']==order),'days_since_prior_order'\n",
    "                  ] = correct_days_since_prior_order\n",
    "        except NameError:\n",
    "            pass"
   ]
  },
  {
   "cell_type": "code",
   "execution_count": 12,
   "id": "cf1c8c6b",
   "metadata": {},
   "outputs": [
    {
     "name": "stdout",
     "output_type": "stream",
     "text": [
      "<class 'pandas.core.frame.DataFrame'>\n",
      "RangeIndex: 1316889 entries, 0 to 1316888\n",
      "Data columns (total 11 columns):\n",
      " #   Column                  Non-Null Count    Dtype \n",
      "---  ------                  --------------    ----- \n",
      " 0   order_id                1316889 non-null  object\n",
      " 1   user_id                 1316889 non-null  int64 \n",
      " 2   order_by_user_sequence  1316889 non-null  int64 \n",
      " 3   order_dow               1316889 non-null  object\n",
      " 4   order_hour_of_day       1316889 non-null  object\n",
      " 5   days_since_prior_order  1316889 non-null  object\n",
      " 6   add_to_cart_sequence    1316889 non-null  object\n",
      " 7   reordered               1316889 non-null  object\n",
      " 8   product_name            1316889 non-null  object\n",
      " 9   aisle_name              1316889 non-null  object\n",
      " 10  dept_name               1316889 non-null  object\n",
      "dtypes: int64(2), object(9)\n",
      "memory usage: 110.5+ MB\n"
     ]
    }
   ],
   "source": [
    "# Check to see if the change was made correctly.\n",
    "df.info()"
   ]
  },
  {
   "cell_type": "code",
   "execution_count": 14,
   "id": "42c3d30c",
   "metadata": {},
   "outputs": [
    {
     "data": {
      "text/plain": [
       "array([  1697,   2396,   3062,   4015,   7175,   7918,   8198,  10110,\n",
       "        10261,  10371,  13206,  13618,  15391,  15652,  15878,  16853,\n",
       "        17495,  18575,  18688,  20533,  21516,  23944,  24148,  25523,\n",
       "        26130,  26270,  26445,  29270,  29963,  30393,  34517,  35052,\n",
       "        35830,  39908,  40299,  40628,  42087,  43409,  43556,  43858,\n",
       "        44279,  44494,  44848,  45771,  48626,  48954,  49329,  50114,\n",
       "        50905,  52003,  52621,  54136,  54312,  55493,  57208,  58208,\n",
       "        58440,  58927,  60140,  61203,  61543,  61727,  64200,  66168,\n",
       "        67143,  70202,  72938,  74231,  74294,  74453,  76588,  78486,\n",
       "        80642,  82114,  83098,  83368,  83994,  86299,  86437,  86520,\n",
       "        86952,  87052,  88620,  89018,  89187,  90508,  91497,  93036,\n",
       "        93698,  94945,  95481,  98163,  99480, 100545, 101338, 102326,\n",
       "       104505, 105991, 106162, 106644, 107036, 108138, 108181, 112535,\n",
       "       113338, 114307, 115201, 117541, 117760, 118114, 118260, 119297,\n",
       "       120234, 120319, 121555, 121737, 121770, 122844, 123296, 123370,\n",
       "       124825, 125280, 125529, 127199, 128252, 128394, 128748, 129895,\n",
       "       130097, 132047, 133999, 134056, 134724, 135198, 137239, 139537,\n",
       "       140462, 142721, 143319, 145438, 145734, 145994, 147339, 148003,\n",
       "       148271, 148406, 149688, 151393, 151890, 151965, 153178, 153954,\n",
       "       154191, 154403, 156998, 157840, 159839, 160986, 162527, 163302,\n",
       "       165180, 165894, 166904, 168930, 169199, 169548, 173956, 174680,\n",
       "       175744, 176107, 176179, 176541, 177041, 177589, 180253, 180357,\n",
       "       180417, 180570, 180955, 181603, 182929, 183548, 183999, 184781,\n",
       "       186139, 188083, 189572, 190665, 192459, 192689, 192955, 194103,\n",
       "       195442, 196266, 196361, 196510, 196870, 196943, 197391, 200229,\n",
       "       201226, 201256, 202704, 203221, 204682, 205917])"
      ]
     },
     "execution_count": 14,
     "metadata": {},
     "output_type": "execute_result"
    }
   ],
   "source": [
    "df['user_id'].unique()"
   ]
  },
  {
   "cell_type": "code",
   "execution_count": 17,
   "id": "0e733afc",
   "metadata": {},
   "outputs": [
    {
     "data": {
      "text/html": [
       "<div>\n",
       "<style scoped>\n",
       "    .dataframe tbody tr th:only-of-type {\n",
       "        vertical-align: middle;\n",
       "    }\n",
       "\n",
       "    .dataframe tbody tr th {\n",
       "        vertical-align: top;\n",
       "    }\n",
       "\n",
       "    .dataframe thead th {\n",
       "        text-align: right;\n",
       "    }\n",
       "</style>\n",
       "<table border=\"1\" class=\"dataframe\">\n",
       "  <thead>\n",
       "    <tr style=\"text-align: right;\">\n",
       "      <th></th>\n",
       "      <th>order_id</th>\n",
       "      <th>user_id</th>\n",
       "      <th>order_by_user_sequence</th>\n",
       "      <th>order_dow</th>\n",
       "      <th>order_hour_of_day</th>\n",
       "      <th>days_since_prior_order</th>\n",
       "      <th>add_to_cart_sequence</th>\n",
       "      <th>reordered</th>\n",
       "      <th>product_name</th>\n",
       "      <th>aisle_name</th>\n",
       "      <th>dept_name</th>\n",
       "    </tr>\n",
       "  </thead>\n",
       "  <tbody>\n",
       "    <tr>\n",
       "      <th>35073</th>\n",
       "      <td>650934</td>\n",
       "      <td>196361</td>\n",
       "      <td>1</td>\n",
       "      <td>0</td>\n",
       "      <td>18</td>\n",
       "      <td>-1.0</td>\n",
       "      <td>19</td>\n",
       "      <td>0</td>\n",
       "      <td>Air Chilled Organic Boneless Skinless Chicken ...</td>\n",
       "      <td>poultry counter</td>\n",
       "      <td>meat seafood</td>\n",
       "    </tr>\n",
       "    <tr>\n",
       "      <th>35074</th>\n",
       "      <td>650934</td>\n",
       "      <td>196361</td>\n",
       "      <td>1</td>\n",
       "      <td>0</td>\n",
       "      <td>18</td>\n",
       "      <td>-1.0</td>\n",
       "      <td>1</td>\n",
       "      <td>0</td>\n",
       "      <td>Bag of Organic Bananas</td>\n",
       "      <td>fresh fruits</td>\n",
       "      <td>produce</td>\n",
       "    </tr>\n",
       "    <tr>\n",
       "      <th>35075</th>\n",
       "      <td>650934</td>\n",
       "      <td>196361</td>\n",
       "      <td>1</td>\n",
       "      <td>0</td>\n",
       "      <td>18</td>\n",
       "      <td>-1.0</td>\n",
       "      <td>20</td>\n",
       "      <td>0</td>\n",
       "      <td>Organic Red Onion</td>\n",
       "      <td>fresh vegetables</td>\n",
       "      <td>produce</td>\n",
       "    </tr>\n",
       "    <tr>\n",
       "      <th>35076</th>\n",
       "      <td>650934</td>\n",
       "      <td>196361</td>\n",
       "      <td>1</td>\n",
       "      <td>0</td>\n",
       "      <td>18</td>\n",
       "      <td>-1.0</td>\n",
       "      <td>5</td>\n",
       "      <td>0</td>\n",
       "      <td>1% Lowfat Milk</td>\n",
       "      <td>milk</td>\n",
       "      <td>dairy eggs</td>\n",
       "    </tr>\n",
       "    <tr>\n",
       "      <th>35077</th>\n",
       "      <td>650934</td>\n",
       "      <td>196361</td>\n",
       "      <td>1</td>\n",
       "      <td>0</td>\n",
       "      <td>18</td>\n",
       "      <td>-1.0</td>\n",
       "      <td>22</td>\n",
       "      <td>0</td>\n",
       "      <td>Mango Chunks</td>\n",
       "      <td>frozen produce</td>\n",
       "      <td>frozen</td>\n",
       "    </tr>\n",
       "    <tr>\n",
       "      <th>...</th>\n",
       "      <td>...</td>\n",
       "      <td>...</td>\n",
       "      <td>...</td>\n",
       "      <td>...</td>\n",
       "      <td>...</td>\n",
       "      <td>...</td>\n",
       "      <td>...</td>\n",
       "      <td>...</td>\n",
       "      <td>...</td>\n",
       "      <td>...</td>\n",
       "      <td>...</td>\n",
       "    </tr>\n",
       "    <tr>\n",
       "      <th>666457</th>\n",
       "      <td>x</td>\n",
       "      <td>196361</td>\n",
       "      <td>100</td>\n",
       "      <td>x</td>\n",
       "      <td>x</td>\n",
       "      <td>x</td>\n",
       "      <td>x</td>\n",
       "      <td>x</td>\n",
       "      <td>Organic Mexican Blend Finely Shredded Cheese</td>\n",
       "      <td>x</td>\n",
       "      <td>x</td>\n",
       "    </tr>\n",
       "    <tr>\n",
       "      <th>666458</th>\n",
       "      <td>x</td>\n",
       "      <td>196361</td>\n",
       "      <td>100</td>\n",
       "      <td>x</td>\n",
       "      <td>x</td>\n",
       "      <td>x</td>\n",
       "      <td>x</td>\n",
       "      <td>x</td>\n",
       "      <td>Heart to Heart Honey Toasted Oat Cereal</td>\n",
       "      <td>x</td>\n",
       "      <td>x</td>\n",
       "    </tr>\n",
       "    <tr>\n",
       "      <th>666459</th>\n",
       "      <td>x</td>\n",
       "      <td>196361</td>\n",
       "      <td>100</td>\n",
       "      <td>x</td>\n",
       "      <td>x</td>\n",
       "      <td>x</td>\n",
       "      <td>x</td>\n",
       "      <td>x</td>\n",
       "      <td>Cuties Non Dairy Vanilla Frozen Dessert Sandwi...</td>\n",
       "      <td>x</td>\n",
       "      <td>x</td>\n",
       "    </tr>\n",
       "    <tr>\n",
       "      <th>666460</th>\n",
       "      <td>x</td>\n",
       "      <td>196361</td>\n",
       "      <td>100</td>\n",
       "      <td>x</td>\n",
       "      <td>x</td>\n",
       "      <td>x</td>\n",
       "      <td>x</td>\n",
       "      <td>x</td>\n",
       "      <td>Garlic Powder</td>\n",
       "      <td>x</td>\n",
       "      <td>x</td>\n",
       "    </tr>\n",
       "    <tr>\n",
       "      <th>666461</th>\n",
       "      <td>x</td>\n",
       "      <td>196361</td>\n",
       "      <td>100</td>\n",
       "      <td>x</td>\n",
       "      <td>x</td>\n",
       "      <td>x</td>\n",
       "      <td>x</td>\n",
       "      <td>x</td>\n",
       "      <td>Apple Cinnamon GoGo Squeez</td>\n",
       "      <td>x</td>\n",
       "      <td>x</td>\n",
       "    </tr>\n",
       "  </tbody>\n",
       "</table>\n",
       "<p>4836 rows × 11 columns</p>\n",
       "</div>"
      ],
      "text/plain": [
       "       order_id  user_id  order_by_user_sequence order_dow order_hour_of_day  \\\n",
       "35073    650934   196361                       1         0                18   \n",
       "35074    650934   196361                       1         0                18   \n",
       "35075    650934   196361                       1         0                18   \n",
       "35076    650934   196361                       1         0                18   \n",
       "35077    650934   196361                       1         0                18   \n",
       "...         ...      ...                     ...       ...               ...   \n",
       "666457        x   196361                     100         x                 x   \n",
       "666458        x   196361                     100         x                 x   \n",
       "666459        x   196361                     100         x                 x   \n",
       "666460        x   196361                     100         x                 x   \n",
       "666461        x   196361                     100         x                 x   \n",
       "\n",
       "       days_since_prior_order add_to_cart_sequence reordered  \\\n",
       "35073                    -1.0                   19         0   \n",
       "35074                    -1.0                    1         0   \n",
       "35075                    -1.0                   20         0   \n",
       "35076                    -1.0                    5         0   \n",
       "35077                    -1.0                   22         0   \n",
       "...                       ...                  ...       ...   \n",
       "666457                      x                    x         x   \n",
       "666458                      x                    x         x   \n",
       "666459                      x                    x         x   \n",
       "666460                      x                    x         x   \n",
       "666461                      x                    x         x   \n",
       "\n",
       "                                             product_name        aisle_name  \\\n",
       "35073   Air Chilled Organic Boneless Skinless Chicken ...   poultry counter   \n",
       "35074                              Bag of Organic Bananas      fresh fruits   \n",
       "35075                                   Organic Red Onion  fresh vegetables   \n",
       "35076                                      1% Lowfat Milk              milk   \n",
       "35077                                        Mango Chunks    frozen produce   \n",
       "...                                                   ...               ...   \n",
       "666457       Organic Mexican Blend Finely Shredded Cheese                 x   \n",
       "666458            Heart to Heart Honey Toasted Oat Cereal                 x   \n",
       "666459  Cuties Non Dairy Vanilla Frozen Dessert Sandwi...                 x   \n",
       "666460                                      Garlic Powder                 x   \n",
       "666461                         Apple Cinnamon GoGo Squeez                 x   \n",
       "\n",
       "           dept_name  \n",
       "35073   meat seafood  \n",
       "35074        produce  \n",
       "35075        produce  \n",
       "35076     dairy eggs  \n",
       "35077         frozen  \n",
       "...              ...  \n",
       "666457             x  \n",
       "666458             x  \n",
       "666459             x  \n",
       "666460             x  \n",
       "666461             x  \n",
       "\n",
       "[4836 rows x 11 columns]"
      ]
     },
     "execution_count": 17,
     "metadata": {},
     "output_type": "execute_result"
    }
   ],
   "source": [
    "df[df['user_id']==196361]"
   ]
  },
  {
   "cell_type": "code",
   "execution_count": null,
   "id": "53d8609f",
   "metadata": {},
   "outputs": [],
   "source": [
    "df['user_id'].unique()"
   ]
  },
  {
   "cell_type": "code",
   "execution_count": null,
   "id": "e8607f8c",
   "metadata": {
    "scrolled": true
   },
   "outputs": [],
   "source": [
    "df[(df['user_id']==10871) & df['order_by_user_sequence'].isin([\n",
    "    2,3])].sort_values('order_by_user_sequence')"
   ]
  },
  {
   "cell_type": "markdown",
   "id": "b742c9c9",
   "metadata": {},
   "source": [
    "Each order now has the same order details (order_id, day, hour, days_since_prior) in each row of the order, correctly matching items actually purchased in that order.\n",
    "\n",
    "Now I need to use the dictionaries I created earlier to fill in the aisle_name and dept_name based on the product_name. "
   ]
  },
  {
   "cell_type": "code",
   "execution_count": null,
   "id": "4a238c85",
   "metadata": {},
   "outputs": [],
   "source": []
  },
  {
   "cell_type": "markdown",
   "id": "57efd653",
   "metadata": {},
   "source": [
    "Up next is preparing to create a column that indicates how many times any given item has been ordered in the past. \n",
    "\n",
    "My intuition is that cross-row calculations don't count as leakage and negatively impact modeling IF I'm adding data that has exclusively to do with past orders. If this logic turns out to be inappropriate, I can just come back and split the set into separate users (or into certain orders per user) and re-run any subsequent code. "
   ]
  },
  {
   "cell_type": "code",
   "execution_count": null,
   "id": "625f99e9",
   "metadata": {},
   "outputs": [],
   "source": [
    "# I might want a dictionary of which products were reordered in each order, by each user. \n",
    "\n",
    "prod_reorder_by_user_per_order = {}\n",
    "\n",
    "for user in users:\n",
    "    products_reordered_each_order = {}\n",
    "    for order in range(2,101):\n",
    "        items = set(df[(df['user_id']==user) & (df[\n",
    "            'order_by_user_sequence']==order) & (df[\n",
    "            'reordered']==1)]['product_name'])\n",
    "        if len(items)>0:\n",
    "            products_reordered_each_order[order]=items\n",
    "    prod_reorder_by_user_per_order[user]=products_reordered_each_order\n",
    "    \n",
    "prod_reorder_by_user_per_order"
   ]
  },
  {
   "cell_type": "markdown",
   "id": "6e21acfc",
   "metadata": {},
   "source": [
    "Create the column itself, starting as just a copy of 'reordered'. \n",
    "\n",
    "For each user's first order, this column will already be true because reordered=0 and past_orders=0 since there were no past orders. For their second order, it will be partly true. For order 2, if rordered=1, then it's because the item was ordered once in the past (in the first order). For order 2, if add_to_cart_sequence=0, the past_order value should actually be 1 because that indicates non-orders for order 2 of items previously ordered. The only items in order 2 that should have a past_order value of 0 should be items being ordered for the first time in order 2. "
   ]
  },
  {
   "cell_type": "code",
   "execution_count": null,
   "id": "693c4f13",
   "metadata": {},
   "outputs": [],
   "source": [
    "df['past_orders'] = df.loc[:,'reordered'].copy()"
   ]
  },
  {
   "cell_type": "code",
   "execution_count": null,
   "id": "3e2259db",
   "metadata": {},
   "outputs": [],
   "source": [
    "# To start with, just work with 2 users, to more quickly see if the code works\n",
    "\n",
    "all_users = set(df['user_id'].unique())\n",
    "practice_users = random.sample(list(all_users), 2)\n",
    "df0 = df.loc[df['user_id'].isin(practice_users), :].copy()\n",
    "df0.info()"
   ]
  },
  {
   "cell_type": "code",
   "execution_count": null,
   "id": "eb7998f0",
   "metadata": {},
   "outputs": [],
   "source": [
    "# Do the work here"
   ]
  },
  {
   "cell_type": "code",
   "execution_count": null,
   "id": "948ee622",
   "metadata": {},
   "outputs": [],
   "source": [
    "# Check to see if this worked. "
   ]
  },
  {
   "cell_type": "code",
   "execution_count": null,
   "id": "a40c58e0",
   "metadata": {},
   "outputs": [],
   "source": [
    "# Engineer columns for product keywords"
   ]
  },
  {
   "cell_type": "code",
   "execution_count": null,
   "id": "fd6c15a7",
   "metadata": {},
   "outputs": [],
   "source": [
    "# Change format of dow, hour columns"
   ]
  },
  {
   "cell_type": "code",
   "execution_count": null,
   "id": "6f7e36c2",
   "metadata": {},
   "outputs": [],
   "source": [
    "# Can't do the rest of the normalization until I have a train/test split and pipeline for it\n",
    "# Save work done so far as new csv file and pick up in next notebook"
   ]
  },
  {
   "cell_type": "markdown",
   "id": "6bb0c099",
   "metadata": {},
   "source": [
    "Move to new notebook for encoding & standardizing remaining features"
   ]
  }
 ],
 "metadata": {
  "kernelspec": {
   "display_name": "Python 3 (ipykernel)",
   "language": "python",
   "name": "python3"
  },
  "language_info": {
   "codemirror_mode": {
    "name": "ipython",
    "version": 3
   },
   "file_extension": ".py",
   "mimetype": "text/x-python",
   "name": "python",
   "nbconvert_exporter": "python",
   "pygments_lexer": "ipython3",
   "version": "3.9.12"
  }
 },
 "nbformat": 4,
 "nbformat_minor": 5
}
