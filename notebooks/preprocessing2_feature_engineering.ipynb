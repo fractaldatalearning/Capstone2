{
 "cells": [
  {
   "cell_type": "markdown",
   "id": "8beb3154",
   "metadata": {},
   "source": [
    "In the previous notebook, I ended up with a dataframe with all necessary rows and clean columns: https://github.com/fractaldatalearning/Capstone2/blob/main/notebooks/preprocessing1b_get_usable_df.ipynb\n",
    "\n",
    "Here, I'll create a column that indicates how many times any given item has been ordered by a user in the past. Then use that to calculate the percentage of past orders where a user has purchased any given item. \n",
    "\n",
    "My intuition is that cross-row calculations don't count as leakage and negatively impact modeling IF I'm adding data that has exclusively to do with past orders. If this logic turns out to be inappropriate, I can just come back and split the set into separate users (or into certain orders per user) and re-run any subsequent code. \n",
    "\n",
    "Once that row has been completed, I'll engineer columns for product keywords and do any other feature engineering that is possible prior to certain encoding and standardization that is better done as part of a modeling pipeline. "
   ]
  },
  {
   "cell_type": "code",
   "execution_count": 1,
   "id": "3e50b366",
   "metadata": {},
   "outputs": [],
   "source": [
    "import pandas as pd\n",
    "import numpy as np\n",
    "import os\n",
    "from library.sb_utils import save_file"
   ]
  },
  {
   "cell_type": "code",
   "execution_count": 2,
   "id": "9755ed6a",
   "metadata": {},
   "outputs": [
    {
     "name": "stdout",
     "output_type": "stream",
     "text": [
      "<class 'pandas.core.frame.DataFrame'>\n",
      "RangeIndex: 218232 entries, 0 to 218231\n",
      "Data columns (total 11 columns):\n",
      " #   Column                  Non-Null Count   Dtype  \n",
      "---  ------                  --------------   -----  \n",
      " 0   order_id                218232 non-null  int64  \n",
      " 1   user_id                 218232 non-null  int64  \n",
      " 2   order_by_user_sequence  218232 non-null  int64  \n",
      " 3   order_dow               218232 non-null  int64  \n",
      " 4   order_hour_of_day       218232 non-null  int64  \n",
      " 5   days_since_prior_order  218232 non-null  float64\n",
      " 6   add_to_cart_sequence    218232 non-null  int64  \n",
      " 7   reordered               218232 non-null  int64  \n",
      " 8   product_name            218232 non-null  object \n",
      " 9   aisle_name              218232 non-null  object \n",
      " 10  dept_name               218232 non-null  object \n",
      "dtypes: float64(1), int64(7), object(3)\n",
      "memory usage: 18.3+ MB\n"
     ]
    }
   ],
   "source": [
    "df = pd.read_csv('../data/processed/users_all_rows_clean.csv')\n",
    "df.info()"
   ]
  },
  {
   "cell_type": "markdown",
   "id": "59806fee",
   "metadata": {},
   "source": [
    "Create the column itself, starting as just a copy of 'reordered'.\n",
    "\n",
    "For each user's first order, this column will already be true because reordered=0 and past_orders=0 since there were no past orders. For their second order, it will be partly true. For order 2, if rordered=1, then it's because the item was ordered once in the past (in the first order). For order 2, if add_to_cart_sequence=0, the past_order value should actually be 1 because that indicates non-orders for order 2 of items previously ordered. The only items in order 2 that should have a past_order value of 0 should be items being ordered for the first time in order 2.\n"
   ]
  },
  {
   "cell_type": "code",
   "execution_count": null,
   "id": "e5ba6d59",
   "metadata": {},
   "outputs": [],
   "source": [
    "df['past_orders'] = df.loc[:,'reordered'].copy()"
   ]
  },
  {
   "cell_type": "code",
   "execution_count": null,
   "id": "9b01e7af",
   "metadata": {},
   "outputs": [],
   "source": [
    "# I might want a dictionary of which products were reordered in each order, by each user. \n",
    "\n",
    "prod_reorder_by_user_per_order = {}\n",
    "\n",
    "for user in users:\n",
    "    products_reordered_each_order = {}\n",
    "    for order in range(2,101):\n",
    "        items = set(df[(df['user_id']==user) & (df[\n",
    "            'order_by_user_sequence']==order) & (df[\n",
    "            'reordered']==1)]['product_name'])\n",
    "        if len(items)>0:\n",
    "            products_reordered_each_order[order]=items\n",
    "    prod_reorder_by_user_per_order[user]=products_reordered_each_order\n",
    "    \n",
    "prod_reorder_by_user_per_order"
   ]
  },
  {
   "cell_type": "code",
   "execution_count": null,
   "id": "d49405fc",
   "metadata": {},
   "outputs": [],
   "source": [
    "# To start with, just work with 2 users, to more quickly see if the code works\n",
    "\n",
    "all_users = set(df['user_id'].unique())\n",
    "practice_users = random.sample(list(all_users), 2)\n",
    "df0 = df.loc[df['user_id'].isin(practice_users), :].copy()\n",
    "df0.info()"
   ]
  },
  {
   "cell_type": "code",
   "execution_count": null,
   "id": "9756e66c",
   "metadata": {},
   "outputs": [],
   "source": [
    "for user in users:\n",
    "    rows_to_work_w = df.loc[df['user_id']==user, :].copy()\n",
    "    \n",
    "    "
   ]
  },
  {
   "cell_type": "code",
   "execution_count": null,
   "id": "528bcd7a",
   "metadata": {},
   "outputs": [],
   "source": [
    "# Check to see if this worked. "
   ]
  },
  {
   "cell_type": "code",
   "execution_count": null,
   "id": "85872768",
   "metadata": {},
   "outputs": [],
   "source": [
    "# Engineer columns for product keywords"
   ]
  },
  {
   "cell_type": "code",
   "execution_count": null,
   "id": "727fd8d6",
   "metadata": {},
   "outputs": [],
   "source": [
    "# Change format of dow, hour columns"
   ]
  },
  {
   "cell_type": "code",
   "execution_count": null,
   "id": "feb430d1",
   "metadata": {},
   "outputs": [],
   "source": [
    "# Can't do the rest of the normalization until I have a train/test split and pipeline for it\n",
    "# Save work done so far as new csv file and pick up in next notebook"
   ]
  },
  {
   "cell_type": "code",
   "execution_count": null,
   "id": "821184c8",
   "metadata": {},
   "outputs": [],
   "source": []
  }
 ],
 "metadata": {
  "kernelspec": {
   "display_name": "Python 3 (ipykernel)",
   "language": "python",
   "name": "python3"
  },
  "language_info": {
   "codemirror_mode": {
    "name": "ipython",
    "version": 3
   },
   "file_extension": ".py",
   "mimetype": "text/x-python",
   "name": "python",
   "nbconvert_exporter": "python",
   "pygments_lexer": "ipython3",
   "version": "3.9.12"
  }
 },
 "nbformat": 4,
 "nbformat_minor": 5
}
