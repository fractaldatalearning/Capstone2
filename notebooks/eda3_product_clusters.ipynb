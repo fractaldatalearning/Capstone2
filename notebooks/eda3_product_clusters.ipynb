{
 "cells": [
  {
   "cell_type": "markdown",
   "id": "15fa2275",
   "metadata": {},
   "source": [
    "notebook for eda2: https://github.com/fractaldatalearning/Capstone2/blob/main/notebooks/eda2_single_user.ipynb"
   ]
  },
  {
   "cell_type": "code",
   "execution_count": 5,
   "id": "0df1d364",
   "metadata": {},
   "outputs": [],
   "source": [
    "import pandas as pd\n",
    "import numpy as np\n",
    "import os\n",
    "\n",
    "import matplotlib.pyplot as plt\n",
    "import seaborn as sns\n",
    "import matplotlib.lines as mlines\n",
    "\n",
    "from sklearn.model_selection import train_test_split\n",
    "from sklearn.tree import DecisionTreeClassifier\n",
    "from sklearn import metrics\n",
    "\n",
    "from sklearn.cluster import KMeans\n",
    "\n",
    "from sklearn.tree import export_graphviz\n",
    "from six import StringIO  \n",
    "from IPython.display import Image  \n",
    "import pydotplus\n",
    "\n",
    "import itertools\n",
    "from library.sb_utils import save_file"
   ]
  },
  {
   "cell_type": "code",
   "execution_count": 3,
   "id": "c98076e6",
   "metadata": {},
   "outputs": [
    {
     "name": "stdout",
     "output_type": "stream",
     "text": [
      "<class 'pandas.core.frame.DataFrame'>\n",
      "RangeIndex: 33819106 entries, 0 to 33819105\n",
      "Data columns (total 15 columns):\n",
      " #   Column                  Dtype  \n",
      "---  ------                  -----  \n",
      " 0   order_id                int64  \n",
      " 1   user_id                 int64  \n",
      " 2   order_by_user_sequence  int64  \n",
      " 3   order_dow               int64  \n",
      " 4   order_hour_of_day       int64  \n",
      " 5   days_since_prior_order  float64\n",
      " 6   product_id              int64  \n",
      " 7   add_to_cart_sequence    int64  \n",
      " 8   reordered               int64  \n",
      " 9   product_name            object \n",
      " 10  aisle_name              object \n",
      " 11  dept_name               object \n",
      " 12  aisle_id                int64  \n",
      " 13  department_id           int64  \n",
      " 14  eval_set                object \n",
      "dtypes: float64(1), int64(10), object(4)\n",
      "memory usage: 3.8+ GB\n"
     ]
    }
   ],
   "source": [
    "df = pd.read_csv('../data/processed/full_data_cleaned.csv')\n",
    "df.info()"
   ]
  },
  {
   "cell_type": "code",
   "execution_count": 15,
   "id": "bd950107",
   "metadata": {},
   "outputs": [
    {
     "data": {
      "text/plain": [
       "Organic Whole Milk                            142813\n",
       "Organic Reduced Fat 2% Milk                    49374\n",
       "2% Reduced Fat Milk                            38631\n",
       "Whole Milk                                     36968\n",
       "Organic Reduced Fat Milk                       36869\n",
       "                                               ...  \n",
       "Creamy Chocolate Milkshake                         3\n",
       "Milk Magic Chocolate Milk Flavoring Straws         3\n",
       "Torrential Tropical Punch                          3\n",
       "Organic 1% Lowfat Chocolate Milk                   3\n",
       "Enlighten Hemp Milk                                2\n",
       "Name: product_name, Length: 243, dtype: int64"
      ]
     },
     "execution_count": 15,
     "metadata": {},
     "output_type": "execute_result"
    }
   ],
   "source": [
    "# Overall goal: look for key products or clusters of products\n",
    "\n",
    "# Play around with a single aisle's products to see if \n",
    "# anything useful comes of it. Start with the milk aisle.\n",
    "\n",
    "milk_aisle = df[df['aisle_name']=='milk']\n",
    "milk_products = milk_aisle['product_name'].unique()\n",
    "milk_aisle['product_name'].value_counts()"
   ]
  },
  {
   "cell_type": "code",
   "execution_count": 14,
   "id": "c3db9647",
   "metadata": {},
   "outputs": [
    {
     "data": {
      "text/plain": [
       "243"
      ]
     },
     "execution_count": 14,
     "metadata": {},
     "output_type": "execute_result"
    }
   ],
   "source": [
    "len(milk_products)"
   ]
  },
  {
   "cell_type": "code",
   "execution_count": 18,
   "id": "4ae75a1d",
   "metadata": {},
   "outputs": [
    {
     "data": {
      "text/plain": [
       "Index(['order_id', 'user_id', 'order_by_user_sequence', 'order_dow',\n",
       "       'order_hour_of_day', 'days_since_prior_order', 'product_id',\n",
       "       'add_to_cart_sequence', 'reordered', 'product_name', 'aisle_name',\n",
       "       'dept_name', 'aisle_id', 'department_id', 'eval_set'],\n",
       "      dtype='object')"
      ]
     },
     "execution_count": 18,
     "metadata": {},
     "output_type": "execute_result"
    }
   ],
   "source": [
    "# Make it possible to model with the data\n",
    "\n",
    "milk_aisle.columns"
   ]
  },
  {
   "cell_type": "code",
   "execution_count": 23,
   "id": "13ff6d6e",
   "metadata": {},
   "outputs": [
    {
     "data": {
      "text/plain": [
       "user_id                   False\n",
       "order_by_user_sequence    False\n",
       "order_dow                 False\n",
       "order_hour_of_day         False\n",
       "days_since_prior_order     True\n",
       "product_id                False\n",
       "add_to_cart_sequence      False\n",
       "reordered                 False\n",
       "aisle_id                  False\n",
       "department_id             False\n",
       "dtype: bool"
      ]
     },
     "execution_count": 23,
     "metadata": {},
     "output_type": "execute_result"
    }
   ],
   "source": [
    "milk4models = milk_aisle.loc[:,['user_id', 'order_by_user_sequence', \n",
    "                                'order_dow','order_hour_of_day', \n",
    "                                'days_since_prior_order', 'product_id',\n",
    "                                'add_to_cart_sequence', 'reordered', \n",
    "                                'aisle_id', 'department_id']]\n",
    "milk4models.isnull().any()"
   ]
  },
  {
   "cell_type": "code",
   "execution_count": 26,
   "id": "5e3748ee",
   "metadata": {},
   "outputs": [
    {
     "data": {
      "text/plain": [
       "array([ 0.,  1.,  2.,  3.,  4.,  5.,  6.,  7.,  8.,  9., 10., 11., 12.,\n",
       "       13., 14., 15., 16., 17., 18., 19., 20., 21., 22., 23., 24., 25.,\n",
       "       26., 27., 28., 29., 30., nan])"
      ]
     },
     "execution_count": 26,
     "metadata": {},
     "output_type": "execute_result"
    }
   ],
   "source": [
    "milk4models['days_since_prior_order'].sort_values().unique()"
   ]
  },
  {
   "cell_type": "code",
   "execution_count": 30,
   "id": "38c44dad",
   "metadata": {},
   "outputs": [
    {
     "data": {
      "text/plain": [
       "user_id                   False\n",
       "order_by_user_sequence    False\n",
       "order_dow                 False\n",
       "order_hour_of_day         False\n",
       "days_since_prior_order    False\n",
       "product_id                False\n",
       "add_to_cart_sequence      False\n",
       "reordered                 False\n",
       "aisle_id                  False\n",
       "department_id             False\n",
       "dtype: bool"
      ]
     },
     "execution_count": 30,
     "metadata": {},
     "output_type": "execute_result"
    }
   ],
   "source": [
    "milk4models['days_since_prior_order'] = milk4models[\n",
    "    'days_since_prior_order'].fillna(-1)\n",
    "milk4models.isnull().any()"
   ]
  },
  {
   "cell_type": "code",
   "execution_count": 31,
   "id": "c6415843",
   "metadata": {},
   "outputs": [
    {
     "name": "stdout",
     "output_type": "stream",
     "text": [
      "[ 3  3  3 ... 22 22 22]\n"
     ]
    }
   ],
   "source": [
    "model = KMeans(n_clusters=24)\n",
    "\n",
    "# Fitting Model\n",
    "model.fit(milk4models)\n",
    "\n",
    "# Prediction on the entire data\n",
    "all_predictions = model.predict(milk4models)\n",
    "\n",
    "# Printing Predictions\n",
    "print(all_predictions)"
   ]
  },
  {
   "cell_type": "code",
   "execution_count": null,
   "id": "f305cd4e",
   "metadata": {},
   "outputs": [],
   "source": []
  }
 ],
 "metadata": {
  "kernelspec": {
   "display_name": "Python 3 (ipykernel)",
   "language": "python",
   "name": "python3"
  },
  "language_info": {
   "codemirror_mode": {
    "name": "ipython",
    "version": 3
   },
   "file_extension": ".py",
   "mimetype": "text/x-python",
   "name": "python",
   "nbconvert_exporter": "python",
   "pygments_lexer": "ipython3",
   "version": "3.9.12"
  }
 },
 "nbformat": 4,
 "nbformat_minor": 5
}
